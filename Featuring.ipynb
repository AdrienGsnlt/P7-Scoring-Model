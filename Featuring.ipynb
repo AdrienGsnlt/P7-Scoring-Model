{
 "cells": [
  {
   "cell_type": "markdown",
   "id": "ad921355",
   "metadata": {},
   "source": [
    "# Scoring Model - Prédiction de solvabilité bancaire"
   ]
  },
  {
   "cell_type": "markdown",
   "id": "43e0d4a3",
   "metadata": {},
   "source": [
    "* Contexte : \n",
    " - L’entreprise \"Prêt à Penser\" souhaite mettre en œuvre un outil de “scoring crédit” pour calculer la probabilité qu’un client rembourse son crédit, puis classifie la demande en crédit accordé ou refusé.   \n",
    " - Elle souhaite donc développer un algorithme de classification en s’appuyant sur des sources de données variées (données comportementales, données provenant d'autres institutions financières, etc.)-\n",
    " - Prêt à dépenser décide donc de développer un dashboard interactif pour que les chargés de relation client puissent à la fois expliquer de façon la plus transparente possible les décisions d’octroi de crédit, mais également permettre à leurs clients de disposer de leurs informations personnelles et de les explorer facilement.  \n",
    " \n",
    "\n",
    "* Mission\n",
    "    - Construire un modèle de scoring qui donnera une prédiction sur la probabilité de faillite d'un client de façon automatique.\n",
    "    - Construire un dashboard interactif à destination des gestionnaires de la relation client permettant d'interpréter les prédictions faites par le modèle, et d’améliorer la connaissance client des chargés de relation client.\n",
    "    \n",
    "* Spécifications du dashboard interactif : \n",
    "    - Permettre de visualiser le score et l’interprétation de ce score pour chaque client de façon intelligible pour une personne non experte en data science.\n",
    "    - Permettre de visualiser des informations descriptives relatives à un client (via un système de filtre).\n",
    "    - Permettre de comparer les informations descriptives relatives à un client à l’ensemble des clients ou à un groupe de clients similaires.\n",
    "\n",
    "\n",
    "* Livrables :\n",
    "    - Le dashboard interactif répondant aux spécifications ci-dessus et l’API de prédiction du score, déployées chacunes sur le cloud.\n",
    "    - Un dossier sur un outil de versioning de code contenant :\n",
    "        - Le code de la modélisation (du prétraitement à la prédiction)\n",
    "        - Le code générant le dashboard\n",
    "        - Le code permettant de déployer le modèle sous forme d'API\n",
    "    - Une note méthodologique décrivant :\n",
    "        - La méthodologie d'entraînement du modèle (2 pages maximum)\n",
    "        - La fonction coût métier, l'algorithme d'optimisation et la métrique d'évaluation (1 page maximum)\n",
    "        - L’interprétabilité globale et locale du modèle (1 page maximum)\n",
    "        - Les limites et les améliorations possibles (1 page maximum)\n",
    "    - Un support de présentation pour la soutenance, détaillant le travail réalisé."
   ]
  },
  {
   "cell_type": "markdown",
   "id": "3280f67a",
   "metadata": {},
   "source": [
    "# Sommaire"
   ]
  },
  {
   "cell_type": "markdown",
   "id": "ea2c599d",
   "metadata": {},
   "source": [
    "**<a href=\"#C1\"> Préparation de l'environnement <a>**\n",
    " - <a href=\"#C11\">Importation des librairies</a>\n",
    " - <a href=\"#C12\">Importation des données</a>\n",
    "    - <a href=\"#C121\">Visualisation des données</a>\n",
    "    - <a href=\"#C122\">Visualisation du MCD </a>\n",
    "    - <a href=\"#C123\">Dataset description</a>\n",
    "***    \n",
    "    \n",
    "**<a href=\"#C2\"> Feature Enginering <a>**\n",
    " - <a href=\"#C21\">Application du Kernel Kaggle</a>\n",
    " - <a href=\"#C22\">Pré processing des variables </a>\n",
    " - <a href=\"#C23\">Split des données & Resampling</a>\n",
    "    \n",
    "***\n",
    "**<a href=\"#C3\"> Scoring Model <a>**\n",
    " - <a href=\"#C31\">Création du score métier</a>\n",
    " - <a href=\"#C32\">Comparaison de model </a>\n",
    "    - <a href=\"#C321\">KMeans </a>\n",
    "    - <a href=\"#C322\">Random Forest Classifier </a>\n",
    "    - <a href=\"#C323\">LightGBM </a>\n",
    "    - <a href=\"#C324\">Résumé </a>\n",
    " - <a href=\"#C33\">Features importances</a>\n",
    " - <a href=\"#C34\">Entrainement du modèle final</a>"
   ]
  },
  {
   "cell_type": "markdown",
   "id": "3e238374",
   "metadata": {},
   "source": [
    "# <a name=\"C1\"> Préparation de l'environnement </a>\n",
    "## <a name=\"C11\">Importation des librairies</a>"
   ]
  },
  {
   "cell_type": "code",
   "execution_count": 1,
   "id": "72b37af8",
   "metadata": {},
   "outputs": [],
   "source": [
    "import pandas as pd\n",
    "import numpy as np\n",
    "\n",
    "from PIL import Image\n",
    "import requests\n",
    "from io import BytesIO"
   ]
  },
  {
   "cell_type": "code",
   "execution_count": 42,
   "id": "bc611545",
   "metadata": {},
   "outputs": [],
   "source": [
    "#librairies \n",
    "import gc\n",
    "import time\n",
    "from contextlib import contextmanager\n",
    "import lightgbm\n",
    "from lightgbm import LGBMClassifier\n",
    "from sklearn.metrics import roc_auc_score, roc_curve\n",
    "from sklearn.model_selection import KFold, StratifiedKFold\n",
    "import matplotlib.pyplot as plt\n",
    "import seaborn as sns\n",
    "import warnings\n",
    "warnings.simplefilter(action='ignore', category=FutureWarning)\n",
    "import re"
   ]
  },
  {
   "cell_type": "code",
   "execution_count": 41,
   "id": "3b3da645",
   "metadata": {},
   "outputs": [
    {
     "name": "stdout",
     "output_type": "stream",
     "text": [
      "0.9.1\n"
     ]
    }
   ],
   "source": [
    "import imblearn\n",
    "print(imblearn.__version__)\n",
    "from imblearn.over_sampling import SMOTE\n",
    "from sklearn.model_selection import train_test_split\n",
    "from imblearn.pipeline import Pipeline"
   ]
  },
  {
   "cell_type": "markdown",
   "id": "8cf855b2",
   "metadata": {},
   "source": [
    "## <a name=\"C12\">Importation des données</a>"
   ]
  },
  {
   "cell_type": "code",
   "execution_count": 2,
   "id": "0b73358b",
   "metadata": {},
   "outputs": [],
   "source": [
    "#Chemin d'accèes : \n",
    "Path_app_test = \"/Users/adpro/Desktop/OCR_DS/DS_P7/Data/application_test.csv\"\n",
    "Path_app_train = \"/Users/adpro/Desktop/OCR_DS/DS_P7/Data/application_train.csv\"\n",
    "Path_bureau_balance = \"/Users/adpro/Desktop/OCR_DS/DS_P7/Data/bureau_balance.csv\"\n",
    "Path_bureau = \"/Users/adpro/Desktop/OCR_DS/DS_P7/Data/bureau.csv\"\n",
    "Path_creditcard_balance = \"/Users/adpro/Desktop/OCR_DS/DS_P7/Data/credit_card_balance.csv\"\n",
    "Path_homecredit = \"/Users/adpro/Desktop/OCR_DS/DS_P7/Data/HomeCredit_columns_description.csv\"\n",
    "Path_instpayments = \"/Users/adpro/Desktop/OCR_DS/DS_P7/Data/installments_payments.csv\"\n",
    "Path_poscash = \"/Users/adpro/Desktop/OCR_DS/DS_P7/Data/POS_CASH_balance.csv\"\n",
    "Path_previous_app = \"/Users/adpro/Desktop/OCR_DS/DS_P7/Data/previous_application.csv\"\n",
    "Path_sample = \"/Users/adpro/Desktop/OCR_DS/DS_P7/Data/sample_submission.csv\""
   ]
  },
  {
   "cell_type": "code",
   "execution_count": 3,
   "id": "7d061075",
   "metadata": {},
   "outputs": [],
   "source": [
    "#Importations : \n",
    "df_apptest = pd.read_csv(Path_app_test, sep=\",\")  \n",
    "df_apptrain = pd.read_csv(Path_app_train, sep=\",\")\n",
    "df_bureaubal = pd.read_csv(Path_bureau_balance, sep=\",\")\n",
    "df_bureau = pd.read_csv(Path_bureau, sep=\",\") \n",
    "df_creditcard = pd.read_csv(Path_creditcard_balance, sep=\",\") \n",
    "df_homecredit = pd.read_csv(Path_homecredit,encoding =\"Windows-1252\") \n",
    "df_payments = pd.read_csv(Path_instpayments, sep=\",\") \n",
    "df_poscash = pd.read_csv(Path_poscash, sep=\",\") \n",
    "df_prevapp = pd.read_csv(Path_previous_app, sep=\",\") \n",
    "df_sample = pd.read_csv(Path_sample, sep=\",\") "
   ]
  },
  {
   "cell_type": "markdown",
   "id": "0eb0633e",
   "metadata": {},
   "source": [
    "### <a name=\"C121\">Visualisation des donées</a>"
   ]
  },
  {
   "cell_type": "code",
   "execution_count": 4,
   "id": "7d4ec81a",
   "metadata": {},
   "outputs": [],
   "source": [
    "#liste des data frames : \n",
    "dfs = [df_apptest,df_apptrain,df_bureaubal,df_bureau,df_creditcard,df_homecredit,\n",
    "       df_payments,df_poscash,df_prevapp,df_sample]\n",
    "\n",
    "#fonction pour avoir le nom des data frame :\n",
    "def get_df_name(df):\n",
    "    name =[x for x in globals() if globals()[x] is df][0]\n",
    "    return name\n",
    "\n",
    "#liste des noms des df\n",
    "dfs_names = []\n",
    "for df in dfs: \n",
    "    dfs_names.append(get_df_name(df))"
   ]
  },
  {
   "cell_type": "code",
   "execution_count": 5,
   "id": "99bdd218",
   "metadata": {},
   "outputs": [
    {
     "name": "stdout",
     "output_type": "stream",
     "text": [
      "df_apptest\n",
      "(48744, 121)\n",
      "df_apptrain\n",
      "(307511, 122)\n",
      "df_bureaubal\n",
      "(27299925, 3)\n",
      "df_bureau\n",
      "(1716428, 17)\n",
      "df_creditcard\n",
      "(3840312, 23)\n",
      "df_homecredit\n",
      "(219, 5)\n",
      "df_payments\n",
      "(13605401, 8)\n",
      "df_poscash\n",
      "(10001358, 8)\n",
      "df_prevapp\n",
      "(1670214, 37)\n",
      "df_sample\n",
      "(48744, 2)\n"
     ]
    }
   ],
   "source": [
    "#shape des différentes df : \n",
    "for df in dfs:\n",
    "    print(get_df_name(df))\n",
    "    print(df.shape)"
   ]
  },
  {
   "cell_type": "code",
   "execution_count": 6,
   "id": "637d8ed2",
   "metadata": {},
   "outputs": [
    {
     "name": "stdout",
     "output_type": "stream",
     "text": [
      "df_apptest\n",
      "SK_ID_CURR                      int64\n",
      "NAME_CONTRACT_TYPE             object\n",
      "CODE_GENDER                    object\n",
      "FLAG_OWN_CAR                   object\n",
      "FLAG_OWN_REALTY                object\n",
      "                               ...   \n",
      "AMT_REQ_CREDIT_BUREAU_DAY     float64\n",
      "AMT_REQ_CREDIT_BUREAU_WEEK    float64\n",
      "AMT_REQ_CREDIT_BUREAU_MON     float64\n",
      "AMT_REQ_CREDIT_BUREAU_QRT     float64\n",
      "AMT_REQ_CREDIT_BUREAU_YEAR    float64\n",
      "Length: 121, dtype: object\n",
      "------------------------------------------------------------------------------------------\n",
      "df_apptrain\n",
      "SK_ID_CURR                      int64\n",
      "TARGET                          int64\n",
      "NAME_CONTRACT_TYPE             object\n",
      "CODE_GENDER                    object\n",
      "FLAG_OWN_CAR                   object\n",
      "                               ...   \n",
      "AMT_REQ_CREDIT_BUREAU_DAY     float64\n",
      "AMT_REQ_CREDIT_BUREAU_WEEK    float64\n",
      "AMT_REQ_CREDIT_BUREAU_MON     float64\n",
      "AMT_REQ_CREDIT_BUREAU_QRT     float64\n",
      "AMT_REQ_CREDIT_BUREAU_YEAR    float64\n",
      "Length: 122, dtype: object\n",
      "------------------------------------------------------------------------------------------\n",
      "df_bureaubal\n",
      "SK_ID_BUREAU       int64\n",
      "MONTHS_BALANCE     int64\n",
      "STATUS            object\n",
      "dtype: object\n",
      "------------------------------------------------------------------------------------------\n",
      "df_bureau\n",
      "SK_ID_CURR                  int64\n",
      "SK_ID_BUREAU                int64\n",
      "CREDIT_ACTIVE              object\n",
      "CREDIT_CURRENCY            object\n",
      "DAYS_CREDIT                 int64\n",
      "CREDIT_DAY_OVERDUE          int64\n",
      "DAYS_CREDIT_ENDDATE       float64\n",
      "DAYS_ENDDATE_FACT         float64\n",
      "AMT_CREDIT_MAX_OVERDUE    float64\n",
      "CNT_CREDIT_PROLONG          int64\n",
      "AMT_CREDIT_SUM            float64\n",
      "AMT_CREDIT_SUM_DEBT       float64\n",
      "AMT_CREDIT_SUM_LIMIT      float64\n",
      "AMT_CREDIT_SUM_OVERDUE    float64\n",
      "CREDIT_TYPE                object\n",
      "DAYS_CREDIT_UPDATE          int64\n",
      "AMT_ANNUITY               float64\n",
      "dtype: object\n",
      "------------------------------------------------------------------------------------------\n",
      "df_creditcard\n",
      "SK_ID_PREV                      int64\n",
      "SK_ID_CURR                      int64\n",
      "MONTHS_BALANCE                  int64\n",
      "AMT_BALANCE                   float64\n",
      "AMT_CREDIT_LIMIT_ACTUAL         int64\n",
      "AMT_DRAWINGS_ATM_CURRENT      float64\n",
      "AMT_DRAWINGS_CURRENT          float64\n",
      "AMT_DRAWINGS_OTHER_CURRENT    float64\n",
      "AMT_DRAWINGS_POS_CURRENT      float64\n",
      "AMT_INST_MIN_REGULARITY       float64\n",
      "AMT_PAYMENT_CURRENT           float64\n",
      "AMT_PAYMENT_TOTAL_CURRENT     float64\n",
      "AMT_RECEIVABLE_PRINCIPAL      float64\n",
      "AMT_RECIVABLE                 float64\n",
      "AMT_TOTAL_RECEIVABLE          float64\n",
      "CNT_DRAWINGS_ATM_CURRENT      float64\n",
      "CNT_DRAWINGS_CURRENT            int64\n",
      "CNT_DRAWINGS_OTHER_CURRENT    float64\n",
      "CNT_DRAWINGS_POS_CURRENT      float64\n",
      "CNT_INSTALMENT_MATURE_CUM     float64\n",
      "NAME_CONTRACT_STATUS           object\n",
      "SK_DPD                          int64\n",
      "SK_DPD_DEF                      int64\n",
      "dtype: object\n",
      "------------------------------------------------------------------------------------------\n",
      "df_homecredit\n",
      "Unnamed: 0      int64\n",
      "Table          object\n",
      "Row            object\n",
      "Description    object\n",
      "Special        object\n",
      "dtype: object\n",
      "------------------------------------------------------------------------------------------\n",
      "df_payments\n",
      "SK_ID_PREV                  int64\n",
      "SK_ID_CURR                  int64\n",
      "NUM_INSTALMENT_VERSION    float64\n",
      "NUM_INSTALMENT_NUMBER       int64\n",
      "DAYS_INSTALMENT           float64\n",
      "DAYS_ENTRY_PAYMENT        float64\n",
      "AMT_INSTALMENT            float64\n",
      "AMT_PAYMENT               float64\n",
      "dtype: object\n",
      "------------------------------------------------------------------------------------------\n",
      "df_poscash\n",
      "SK_ID_PREV                 int64\n",
      "SK_ID_CURR                 int64\n",
      "MONTHS_BALANCE             int64\n",
      "CNT_INSTALMENT           float64\n",
      "CNT_INSTALMENT_FUTURE    float64\n",
      "NAME_CONTRACT_STATUS      object\n",
      "SK_DPD                     int64\n",
      "SK_DPD_DEF                 int64\n",
      "dtype: object\n",
      "------------------------------------------------------------------------------------------\n",
      "df_prevapp\n",
      "SK_ID_PREV                       int64\n",
      "SK_ID_CURR                       int64\n",
      "NAME_CONTRACT_TYPE              object\n",
      "AMT_ANNUITY                    float64\n",
      "AMT_APPLICATION                float64\n",
      "AMT_CREDIT                     float64\n",
      "AMT_DOWN_PAYMENT               float64\n",
      "AMT_GOODS_PRICE                float64\n",
      "WEEKDAY_APPR_PROCESS_START      object\n",
      "HOUR_APPR_PROCESS_START          int64\n",
      "FLAG_LAST_APPL_PER_CONTRACT     object\n",
      "NFLAG_LAST_APPL_IN_DAY           int64\n",
      "RATE_DOWN_PAYMENT              float64\n",
      "RATE_INTEREST_PRIMARY          float64\n",
      "RATE_INTEREST_PRIVILEGED       float64\n",
      "NAME_CASH_LOAN_PURPOSE          object\n",
      "NAME_CONTRACT_STATUS            object\n",
      "DAYS_DECISION                    int64\n",
      "NAME_PAYMENT_TYPE               object\n",
      "CODE_REJECT_REASON              object\n",
      "NAME_TYPE_SUITE                 object\n",
      "NAME_CLIENT_TYPE                object\n",
      "NAME_GOODS_CATEGORY             object\n",
      "NAME_PORTFOLIO                  object\n",
      "NAME_PRODUCT_TYPE               object\n",
      "CHANNEL_TYPE                    object\n",
      "SELLERPLACE_AREA                 int64\n",
      "NAME_SELLER_INDUSTRY            object\n",
      "CNT_PAYMENT                    float64\n",
      "NAME_YIELD_GROUP                object\n",
      "PRODUCT_COMBINATION             object\n",
      "DAYS_FIRST_DRAWING             float64\n",
      "DAYS_FIRST_DUE                 float64\n",
      "DAYS_LAST_DUE_1ST_VERSION      float64\n",
      "DAYS_LAST_DUE                  float64\n",
      "DAYS_TERMINATION               float64\n",
      "NFLAG_INSURED_ON_APPROVAL      float64\n",
      "dtype: object\n",
      "------------------------------------------------------------------------------------------\n",
      "df_sample\n",
      "SK_ID_CURR      int64\n",
      "TARGET        float64\n",
      "dtype: object\n",
      "------------------------------------------------------------------------------------------\n"
     ]
    }
   ],
   "source": [
    "#type des variables de chaques df \n",
    "for df in dfs : \n",
    "    print(get_df_name(df))\n",
    "    print(df.dtypes)\n",
    "    print(\"-\"*90)"
   ]
  },
  {
   "cell_type": "code",
   "execution_count": 8,
   "id": "4d22da9f",
   "metadata": {},
   "outputs": [
    {
     "data": {
      "text/html": [
       "<div>\n",
       "<style scoped>\n",
       "    .dataframe tbody tr th:only-of-type {\n",
       "        vertical-align: middle;\n",
       "    }\n",
       "\n",
       "    .dataframe tbody tr th {\n",
       "        vertical-align: top;\n",
       "    }\n",
       "\n",
       "    .dataframe thead th {\n",
       "        text-align: right;\n",
       "    }\n",
       "</style>\n",
       "<table border=\"1\" class=\"dataframe\">\n",
       "  <thead>\n",
       "    <tr style=\"text-align: right;\">\n",
       "      <th></th>\n",
       "      <th>SK_ID_CURR</th>\n",
       "      <th>NAME_CONTRACT_TYPE</th>\n",
       "      <th>CODE_GENDER</th>\n",
       "      <th>FLAG_OWN_CAR</th>\n",
       "      <th>FLAG_OWN_REALTY</th>\n",
       "      <th>CNT_CHILDREN</th>\n",
       "      <th>AMT_INCOME_TOTAL</th>\n",
       "      <th>AMT_CREDIT</th>\n",
       "      <th>AMT_ANNUITY</th>\n",
       "      <th>AMT_GOODS_PRICE</th>\n",
       "      <th>...</th>\n",
       "      <th>FLAG_DOCUMENT_18</th>\n",
       "      <th>FLAG_DOCUMENT_19</th>\n",
       "      <th>FLAG_DOCUMENT_20</th>\n",
       "      <th>FLAG_DOCUMENT_21</th>\n",
       "      <th>AMT_REQ_CREDIT_BUREAU_HOUR</th>\n",
       "      <th>AMT_REQ_CREDIT_BUREAU_DAY</th>\n",
       "      <th>AMT_REQ_CREDIT_BUREAU_WEEK</th>\n",
       "      <th>AMT_REQ_CREDIT_BUREAU_MON</th>\n",
       "      <th>AMT_REQ_CREDIT_BUREAU_QRT</th>\n",
       "      <th>AMT_REQ_CREDIT_BUREAU_YEAR</th>\n",
       "    </tr>\n",
       "  </thead>\n",
       "  <tbody>\n",
       "    <tr>\n",
       "      <th>0</th>\n",
       "      <td>100001</td>\n",
       "      <td>Cash loans</td>\n",
       "      <td>F</td>\n",
       "      <td>N</td>\n",
       "      <td>Y</td>\n",
       "      <td>0</td>\n",
       "      <td>135000.0</td>\n",
       "      <td>568800.0</td>\n",
       "      <td>20560.5</td>\n",
       "      <td>450000.0</td>\n",
       "      <td>...</td>\n",
       "      <td>0</td>\n",
       "      <td>0</td>\n",
       "      <td>0</td>\n",
       "      <td>0</td>\n",
       "      <td>0.0</td>\n",
       "      <td>0.0</td>\n",
       "      <td>0.0</td>\n",
       "      <td>0.0</td>\n",
       "      <td>0.0</td>\n",
       "      <td>0.0</td>\n",
       "    </tr>\n",
       "    <tr>\n",
       "      <th>1</th>\n",
       "      <td>100005</td>\n",
       "      <td>Cash loans</td>\n",
       "      <td>M</td>\n",
       "      <td>N</td>\n",
       "      <td>Y</td>\n",
       "      <td>0</td>\n",
       "      <td>99000.0</td>\n",
       "      <td>222768.0</td>\n",
       "      <td>17370.0</td>\n",
       "      <td>180000.0</td>\n",
       "      <td>...</td>\n",
       "      <td>0</td>\n",
       "      <td>0</td>\n",
       "      <td>0</td>\n",
       "      <td>0</td>\n",
       "      <td>0.0</td>\n",
       "      <td>0.0</td>\n",
       "      <td>0.0</td>\n",
       "      <td>0.0</td>\n",
       "      <td>0.0</td>\n",
       "      <td>3.0</td>\n",
       "    </tr>\n",
       "    <tr>\n",
       "      <th>2</th>\n",
       "      <td>100013</td>\n",
       "      <td>Cash loans</td>\n",
       "      <td>M</td>\n",
       "      <td>Y</td>\n",
       "      <td>Y</td>\n",
       "      <td>0</td>\n",
       "      <td>202500.0</td>\n",
       "      <td>663264.0</td>\n",
       "      <td>69777.0</td>\n",
       "      <td>630000.0</td>\n",
       "      <td>...</td>\n",
       "      <td>0</td>\n",
       "      <td>0</td>\n",
       "      <td>0</td>\n",
       "      <td>0</td>\n",
       "      <td>0.0</td>\n",
       "      <td>0.0</td>\n",
       "      <td>0.0</td>\n",
       "      <td>0.0</td>\n",
       "      <td>1.0</td>\n",
       "      <td>4.0</td>\n",
       "    </tr>\n",
       "    <tr>\n",
       "      <th>3</th>\n",
       "      <td>100028</td>\n",
       "      <td>Cash loans</td>\n",
       "      <td>F</td>\n",
       "      <td>N</td>\n",
       "      <td>Y</td>\n",
       "      <td>2</td>\n",
       "      <td>315000.0</td>\n",
       "      <td>1575000.0</td>\n",
       "      <td>49018.5</td>\n",
       "      <td>1575000.0</td>\n",
       "      <td>...</td>\n",
       "      <td>0</td>\n",
       "      <td>0</td>\n",
       "      <td>0</td>\n",
       "      <td>0</td>\n",
       "      <td>0.0</td>\n",
       "      <td>0.0</td>\n",
       "      <td>0.0</td>\n",
       "      <td>0.0</td>\n",
       "      <td>0.0</td>\n",
       "      <td>3.0</td>\n",
       "    </tr>\n",
       "    <tr>\n",
       "      <th>4</th>\n",
       "      <td>100038</td>\n",
       "      <td>Cash loans</td>\n",
       "      <td>M</td>\n",
       "      <td>Y</td>\n",
       "      <td>N</td>\n",
       "      <td>1</td>\n",
       "      <td>180000.0</td>\n",
       "      <td>625500.0</td>\n",
       "      <td>32067.0</td>\n",
       "      <td>625500.0</td>\n",
       "      <td>...</td>\n",
       "      <td>0</td>\n",
       "      <td>0</td>\n",
       "      <td>0</td>\n",
       "      <td>0</td>\n",
       "      <td>NaN</td>\n",
       "      <td>NaN</td>\n",
       "      <td>NaN</td>\n",
       "      <td>NaN</td>\n",
       "      <td>NaN</td>\n",
       "      <td>NaN</td>\n",
       "    </tr>\n",
       "  </tbody>\n",
       "</table>\n",
       "<p>5 rows × 121 columns</p>\n",
       "</div>"
      ],
      "text/plain": [
       "   SK_ID_CURR NAME_CONTRACT_TYPE CODE_GENDER FLAG_OWN_CAR FLAG_OWN_REALTY  \\\n",
       "0      100001         Cash loans           F            N               Y   \n",
       "1      100005         Cash loans           M            N               Y   \n",
       "2      100013         Cash loans           M            Y               Y   \n",
       "3      100028         Cash loans           F            N               Y   \n",
       "4      100038         Cash loans           M            Y               N   \n",
       "\n",
       "   CNT_CHILDREN  AMT_INCOME_TOTAL  AMT_CREDIT  AMT_ANNUITY  AMT_GOODS_PRICE  \\\n",
       "0             0          135000.0    568800.0      20560.5         450000.0   \n",
       "1             0           99000.0    222768.0      17370.0         180000.0   \n",
       "2             0          202500.0    663264.0      69777.0         630000.0   \n",
       "3             2          315000.0   1575000.0      49018.5        1575000.0   \n",
       "4             1          180000.0    625500.0      32067.0         625500.0   \n",
       "\n",
       "   ... FLAG_DOCUMENT_18 FLAG_DOCUMENT_19 FLAG_DOCUMENT_20 FLAG_DOCUMENT_21  \\\n",
       "0  ...                0                0                0                0   \n",
       "1  ...                0                0                0                0   \n",
       "2  ...                0                0                0                0   \n",
       "3  ...                0                0                0                0   \n",
       "4  ...                0                0                0                0   \n",
       "\n",
       "  AMT_REQ_CREDIT_BUREAU_HOUR  AMT_REQ_CREDIT_BUREAU_DAY  \\\n",
       "0                        0.0                        0.0   \n",
       "1                        0.0                        0.0   \n",
       "2                        0.0                        0.0   \n",
       "3                        0.0                        0.0   \n",
       "4                        NaN                        NaN   \n",
       "\n",
       "   AMT_REQ_CREDIT_BUREAU_WEEK  AMT_REQ_CREDIT_BUREAU_MON  \\\n",
       "0                         0.0                        0.0   \n",
       "1                         0.0                        0.0   \n",
       "2                         0.0                        0.0   \n",
       "3                         0.0                        0.0   \n",
       "4                         NaN                        NaN   \n",
       "\n",
       "   AMT_REQ_CREDIT_BUREAU_QRT  AMT_REQ_CREDIT_BUREAU_YEAR  \n",
       "0                        0.0                         0.0  \n",
       "1                        0.0                         3.0  \n",
       "2                        1.0                         4.0  \n",
       "3                        0.0                         3.0  \n",
       "4                        NaN                         NaN  \n",
       "\n",
       "[5 rows x 121 columns]"
      ]
     },
     "execution_count": 8,
     "metadata": {},
     "output_type": "execute_result"
    }
   ],
   "source": [
    "df_apptest.head()"
   ]
  },
  {
   "cell_type": "code",
   "execution_count": 9,
   "id": "10955a11",
   "metadata": {},
   "outputs": [
    {
     "name": "stdout",
     "output_type": "stream",
     "text": [
      "<class 'pandas.core.frame.DataFrame'>\n",
      "RangeIndex: 48744 entries, 0 to 48743\n",
      "Columns: 121 entries, SK_ID_CURR to AMT_REQ_CREDIT_BUREAU_YEAR\n",
      "dtypes: float64(65), int64(40), object(16)\n",
      "memory usage: 45.0+ MB\n"
     ]
    }
   ],
   "source": [
    "df_apptest.info()"
   ]
  },
  {
   "cell_type": "code",
   "execution_count": 10,
   "id": "ba021005",
   "metadata": {},
   "outputs": [
    {
     "data": {
      "text/html": [
       "<div>\n",
       "<style scoped>\n",
       "    .dataframe tbody tr th:only-of-type {\n",
       "        vertical-align: middle;\n",
       "    }\n",
       "\n",
       "    .dataframe tbody tr th {\n",
       "        vertical-align: top;\n",
       "    }\n",
       "\n",
       "    .dataframe thead th {\n",
       "        text-align: right;\n",
       "    }\n",
       "</style>\n",
       "<table border=\"1\" class=\"dataframe\">\n",
       "  <thead>\n",
       "    <tr style=\"text-align: right;\">\n",
       "      <th></th>\n",
       "      <th>SK_ID_CURR</th>\n",
       "      <th>TARGET</th>\n",
       "      <th>NAME_CONTRACT_TYPE</th>\n",
       "      <th>CODE_GENDER</th>\n",
       "      <th>FLAG_OWN_CAR</th>\n",
       "      <th>FLAG_OWN_REALTY</th>\n",
       "      <th>CNT_CHILDREN</th>\n",
       "      <th>AMT_INCOME_TOTAL</th>\n",
       "      <th>AMT_CREDIT</th>\n",
       "      <th>AMT_ANNUITY</th>\n",
       "      <th>...</th>\n",
       "      <th>FLAG_DOCUMENT_18</th>\n",
       "      <th>FLAG_DOCUMENT_19</th>\n",
       "      <th>FLAG_DOCUMENT_20</th>\n",
       "      <th>FLAG_DOCUMENT_21</th>\n",
       "      <th>AMT_REQ_CREDIT_BUREAU_HOUR</th>\n",
       "      <th>AMT_REQ_CREDIT_BUREAU_DAY</th>\n",
       "      <th>AMT_REQ_CREDIT_BUREAU_WEEK</th>\n",
       "      <th>AMT_REQ_CREDIT_BUREAU_MON</th>\n",
       "      <th>AMT_REQ_CREDIT_BUREAU_QRT</th>\n",
       "      <th>AMT_REQ_CREDIT_BUREAU_YEAR</th>\n",
       "    </tr>\n",
       "  </thead>\n",
       "  <tbody>\n",
       "    <tr>\n",
       "      <th>0</th>\n",
       "      <td>100002</td>\n",
       "      <td>1</td>\n",
       "      <td>Cash loans</td>\n",
       "      <td>M</td>\n",
       "      <td>N</td>\n",
       "      <td>Y</td>\n",
       "      <td>0</td>\n",
       "      <td>202500.0</td>\n",
       "      <td>406597.5</td>\n",
       "      <td>24700.5</td>\n",
       "      <td>...</td>\n",
       "      <td>0</td>\n",
       "      <td>0</td>\n",
       "      <td>0</td>\n",
       "      <td>0</td>\n",
       "      <td>0.0</td>\n",
       "      <td>0.0</td>\n",
       "      <td>0.0</td>\n",
       "      <td>0.0</td>\n",
       "      <td>0.0</td>\n",
       "      <td>1.0</td>\n",
       "    </tr>\n",
       "    <tr>\n",
       "      <th>1</th>\n",
       "      <td>100003</td>\n",
       "      <td>0</td>\n",
       "      <td>Cash loans</td>\n",
       "      <td>F</td>\n",
       "      <td>N</td>\n",
       "      <td>N</td>\n",
       "      <td>0</td>\n",
       "      <td>270000.0</td>\n",
       "      <td>1293502.5</td>\n",
       "      <td>35698.5</td>\n",
       "      <td>...</td>\n",
       "      <td>0</td>\n",
       "      <td>0</td>\n",
       "      <td>0</td>\n",
       "      <td>0</td>\n",
       "      <td>0.0</td>\n",
       "      <td>0.0</td>\n",
       "      <td>0.0</td>\n",
       "      <td>0.0</td>\n",
       "      <td>0.0</td>\n",
       "      <td>0.0</td>\n",
       "    </tr>\n",
       "    <tr>\n",
       "      <th>2</th>\n",
       "      <td>100004</td>\n",
       "      <td>0</td>\n",
       "      <td>Revolving loans</td>\n",
       "      <td>M</td>\n",
       "      <td>Y</td>\n",
       "      <td>Y</td>\n",
       "      <td>0</td>\n",
       "      <td>67500.0</td>\n",
       "      <td>135000.0</td>\n",
       "      <td>6750.0</td>\n",
       "      <td>...</td>\n",
       "      <td>0</td>\n",
       "      <td>0</td>\n",
       "      <td>0</td>\n",
       "      <td>0</td>\n",
       "      <td>0.0</td>\n",
       "      <td>0.0</td>\n",
       "      <td>0.0</td>\n",
       "      <td>0.0</td>\n",
       "      <td>0.0</td>\n",
       "      <td>0.0</td>\n",
       "    </tr>\n",
       "    <tr>\n",
       "      <th>3</th>\n",
       "      <td>100006</td>\n",
       "      <td>0</td>\n",
       "      <td>Cash loans</td>\n",
       "      <td>F</td>\n",
       "      <td>N</td>\n",
       "      <td>Y</td>\n",
       "      <td>0</td>\n",
       "      <td>135000.0</td>\n",
       "      <td>312682.5</td>\n",
       "      <td>29686.5</td>\n",
       "      <td>...</td>\n",
       "      <td>0</td>\n",
       "      <td>0</td>\n",
       "      <td>0</td>\n",
       "      <td>0</td>\n",
       "      <td>NaN</td>\n",
       "      <td>NaN</td>\n",
       "      <td>NaN</td>\n",
       "      <td>NaN</td>\n",
       "      <td>NaN</td>\n",
       "      <td>NaN</td>\n",
       "    </tr>\n",
       "    <tr>\n",
       "      <th>4</th>\n",
       "      <td>100007</td>\n",
       "      <td>0</td>\n",
       "      <td>Cash loans</td>\n",
       "      <td>M</td>\n",
       "      <td>N</td>\n",
       "      <td>Y</td>\n",
       "      <td>0</td>\n",
       "      <td>121500.0</td>\n",
       "      <td>513000.0</td>\n",
       "      <td>21865.5</td>\n",
       "      <td>...</td>\n",
       "      <td>0</td>\n",
       "      <td>0</td>\n",
       "      <td>0</td>\n",
       "      <td>0</td>\n",
       "      <td>0.0</td>\n",
       "      <td>0.0</td>\n",
       "      <td>0.0</td>\n",
       "      <td>0.0</td>\n",
       "      <td>0.0</td>\n",
       "      <td>0.0</td>\n",
       "    </tr>\n",
       "  </tbody>\n",
       "</table>\n",
       "<p>5 rows × 122 columns</p>\n",
       "</div>"
      ],
      "text/plain": [
       "   SK_ID_CURR  TARGET NAME_CONTRACT_TYPE CODE_GENDER FLAG_OWN_CAR  \\\n",
       "0      100002       1         Cash loans           M            N   \n",
       "1      100003       0         Cash loans           F            N   \n",
       "2      100004       0    Revolving loans           M            Y   \n",
       "3      100006       0         Cash loans           F            N   \n",
       "4      100007       0         Cash loans           M            N   \n",
       "\n",
       "  FLAG_OWN_REALTY  CNT_CHILDREN  AMT_INCOME_TOTAL  AMT_CREDIT  AMT_ANNUITY  \\\n",
       "0               Y             0          202500.0    406597.5      24700.5   \n",
       "1               N             0          270000.0   1293502.5      35698.5   \n",
       "2               Y             0           67500.0    135000.0       6750.0   \n",
       "3               Y             0          135000.0    312682.5      29686.5   \n",
       "4               Y             0          121500.0    513000.0      21865.5   \n",
       "\n",
       "   ...  FLAG_DOCUMENT_18 FLAG_DOCUMENT_19 FLAG_DOCUMENT_20 FLAG_DOCUMENT_21  \\\n",
       "0  ...                 0                0                0                0   \n",
       "1  ...                 0                0                0                0   \n",
       "2  ...                 0                0                0                0   \n",
       "3  ...                 0                0                0                0   \n",
       "4  ...                 0                0                0                0   \n",
       "\n",
       "  AMT_REQ_CREDIT_BUREAU_HOUR AMT_REQ_CREDIT_BUREAU_DAY  \\\n",
       "0                        0.0                       0.0   \n",
       "1                        0.0                       0.0   \n",
       "2                        0.0                       0.0   \n",
       "3                        NaN                       NaN   \n",
       "4                        0.0                       0.0   \n",
       "\n",
       "   AMT_REQ_CREDIT_BUREAU_WEEK  AMT_REQ_CREDIT_BUREAU_MON  \\\n",
       "0                         0.0                        0.0   \n",
       "1                         0.0                        0.0   \n",
       "2                         0.0                        0.0   \n",
       "3                         NaN                        NaN   \n",
       "4                         0.0                        0.0   \n",
       "\n",
       "   AMT_REQ_CREDIT_BUREAU_QRT  AMT_REQ_CREDIT_BUREAU_YEAR  \n",
       "0                        0.0                         1.0  \n",
       "1                        0.0                         0.0  \n",
       "2                        0.0                         0.0  \n",
       "3                        NaN                         NaN  \n",
       "4                        0.0                         0.0  \n",
       "\n",
       "[5 rows x 122 columns]"
      ]
     },
     "execution_count": 10,
     "metadata": {},
     "output_type": "execute_result"
    }
   ],
   "source": [
    "df_apptrain.head()"
   ]
  },
  {
   "cell_type": "code",
   "execution_count": 11,
   "id": "45155965",
   "metadata": {},
   "outputs": [
    {
     "name": "stdout",
     "output_type": "stream",
     "text": [
      "<class 'pandas.core.frame.DataFrame'>\n",
      "RangeIndex: 307511 entries, 0 to 307510\n",
      "Columns: 122 entries, SK_ID_CURR to AMT_REQ_CREDIT_BUREAU_YEAR\n",
      "dtypes: float64(65), int64(41), object(16)\n",
      "memory usage: 286.2+ MB\n"
     ]
    }
   ],
   "source": [
    "df_apptrain.info()"
   ]
  },
  {
   "cell_type": "code",
   "execution_count": 12,
   "id": "5641e805",
   "metadata": {},
   "outputs": [
    {
     "data": {
      "text/html": [
       "<div>\n",
       "<style scoped>\n",
       "    .dataframe tbody tr th:only-of-type {\n",
       "        vertical-align: middle;\n",
       "    }\n",
       "\n",
       "    .dataframe tbody tr th {\n",
       "        vertical-align: top;\n",
       "    }\n",
       "\n",
       "    .dataframe thead th {\n",
       "        text-align: right;\n",
       "    }\n",
       "</style>\n",
       "<table border=\"1\" class=\"dataframe\">\n",
       "  <thead>\n",
       "    <tr style=\"text-align: right;\">\n",
       "      <th></th>\n",
       "      <th>SK_ID_BUREAU</th>\n",
       "      <th>MONTHS_BALANCE</th>\n",
       "      <th>STATUS</th>\n",
       "    </tr>\n",
       "  </thead>\n",
       "  <tbody>\n",
       "    <tr>\n",
       "      <th>0</th>\n",
       "      <td>5715448</td>\n",
       "      <td>0</td>\n",
       "      <td>C</td>\n",
       "    </tr>\n",
       "    <tr>\n",
       "      <th>1</th>\n",
       "      <td>5715448</td>\n",
       "      <td>-1</td>\n",
       "      <td>C</td>\n",
       "    </tr>\n",
       "    <tr>\n",
       "      <th>2</th>\n",
       "      <td>5715448</td>\n",
       "      <td>-2</td>\n",
       "      <td>C</td>\n",
       "    </tr>\n",
       "    <tr>\n",
       "      <th>3</th>\n",
       "      <td>5715448</td>\n",
       "      <td>-3</td>\n",
       "      <td>C</td>\n",
       "    </tr>\n",
       "    <tr>\n",
       "      <th>4</th>\n",
       "      <td>5715448</td>\n",
       "      <td>-4</td>\n",
       "      <td>C</td>\n",
       "    </tr>\n",
       "  </tbody>\n",
       "</table>\n",
       "</div>"
      ],
      "text/plain": [
       "   SK_ID_BUREAU  MONTHS_BALANCE STATUS\n",
       "0       5715448               0      C\n",
       "1       5715448              -1      C\n",
       "2       5715448              -2      C\n",
       "3       5715448              -3      C\n",
       "4       5715448              -4      C"
      ]
     },
     "execution_count": 12,
     "metadata": {},
     "output_type": "execute_result"
    }
   ],
   "source": [
    "df_bureaubal.head()"
   ]
  },
  {
   "cell_type": "code",
   "execution_count": 13,
   "id": "eb1c4252",
   "metadata": {},
   "outputs": [
    {
     "name": "stdout",
     "output_type": "stream",
     "text": [
      "<class 'pandas.core.frame.DataFrame'>\n",
      "RangeIndex: 27299925 entries, 0 to 27299924\n",
      "Data columns (total 3 columns):\n",
      " #   Column          Dtype \n",
      "---  ------          ----- \n",
      " 0   SK_ID_BUREAU    int64 \n",
      " 1   MONTHS_BALANCE  int64 \n",
      " 2   STATUS          object\n",
      "dtypes: int64(2), object(1)\n",
      "memory usage: 624.8+ MB\n"
     ]
    }
   ],
   "source": [
    "df_bureaubal.info()"
   ]
  },
  {
   "cell_type": "code",
   "execution_count": 14,
   "id": "35c94e16",
   "metadata": {},
   "outputs": [
    {
     "data": {
      "text/html": [
       "<div>\n",
       "<style scoped>\n",
       "    .dataframe tbody tr th:only-of-type {\n",
       "        vertical-align: middle;\n",
       "    }\n",
       "\n",
       "    .dataframe tbody tr th {\n",
       "        vertical-align: top;\n",
       "    }\n",
       "\n",
       "    .dataframe thead th {\n",
       "        text-align: right;\n",
       "    }\n",
       "</style>\n",
       "<table border=\"1\" class=\"dataframe\">\n",
       "  <thead>\n",
       "    <tr style=\"text-align: right;\">\n",
       "      <th></th>\n",
       "      <th>SK_ID_CURR</th>\n",
       "      <th>SK_ID_BUREAU</th>\n",
       "      <th>CREDIT_ACTIVE</th>\n",
       "      <th>CREDIT_CURRENCY</th>\n",
       "      <th>DAYS_CREDIT</th>\n",
       "      <th>CREDIT_DAY_OVERDUE</th>\n",
       "      <th>DAYS_CREDIT_ENDDATE</th>\n",
       "      <th>DAYS_ENDDATE_FACT</th>\n",
       "      <th>AMT_CREDIT_MAX_OVERDUE</th>\n",
       "      <th>CNT_CREDIT_PROLONG</th>\n",
       "      <th>AMT_CREDIT_SUM</th>\n",
       "      <th>AMT_CREDIT_SUM_DEBT</th>\n",
       "      <th>AMT_CREDIT_SUM_LIMIT</th>\n",
       "      <th>AMT_CREDIT_SUM_OVERDUE</th>\n",
       "      <th>CREDIT_TYPE</th>\n",
       "      <th>DAYS_CREDIT_UPDATE</th>\n",
       "      <th>AMT_ANNUITY</th>\n",
       "    </tr>\n",
       "  </thead>\n",
       "  <tbody>\n",
       "    <tr>\n",
       "      <th>0</th>\n",
       "      <td>215354</td>\n",
       "      <td>5714462</td>\n",
       "      <td>Closed</td>\n",
       "      <td>currency 1</td>\n",
       "      <td>-497</td>\n",
       "      <td>0</td>\n",
       "      <td>-153.0</td>\n",
       "      <td>-153.0</td>\n",
       "      <td>NaN</td>\n",
       "      <td>0</td>\n",
       "      <td>91323.0</td>\n",
       "      <td>0.0</td>\n",
       "      <td>NaN</td>\n",
       "      <td>0.0</td>\n",
       "      <td>Consumer credit</td>\n",
       "      <td>-131</td>\n",
       "      <td>NaN</td>\n",
       "    </tr>\n",
       "    <tr>\n",
       "      <th>1</th>\n",
       "      <td>215354</td>\n",
       "      <td>5714463</td>\n",
       "      <td>Active</td>\n",
       "      <td>currency 1</td>\n",
       "      <td>-208</td>\n",
       "      <td>0</td>\n",
       "      <td>1075.0</td>\n",
       "      <td>NaN</td>\n",
       "      <td>NaN</td>\n",
       "      <td>0</td>\n",
       "      <td>225000.0</td>\n",
       "      <td>171342.0</td>\n",
       "      <td>NaN</td>\n",
       "      <td>0.0</td>\n",
       "      <td>Credit card</td>\n",
       "      <td>-20</td>\n",
       "      <td>NaN</td>\n",
       "    </tr>\n",
       "    <tr>\n",
       "      <th>2</th>\n",
       "      <td>215354</td>\n",
       "      <td>5714464</td>\n",
       "      <td>Active</td>\n",
       "      <td>currency 1</td>\n",
       "      <td>-203</td>\n",
       "      <td>0</td>\n",
       "      <td>528.0</td>\n",
       "      <td>NaN</td>\n",
       "      <td>NaN</td>\n",
       "      <td>0</td>\n",
       "      <td>464323.5</td>\n",
       "      <td>NaN</td>\n",
       "      <td>NaN</td>\n",
       "      <td>0.0</td>\n",
       "      <td>Consumer credit</td>\n",
       "      <td>-16</td>\n",
       "      <td>NaN</td>\n",
       "    </tr>\n",
       "    <tr>\n",
       "      <th>3</th>\n",
       "      <td>215354</td>\n",
       "      <td>5714465</td>\n",
       "      <td>Active</td>\n",
       "      <td>currency 1</td>\n",
       "      <td>-203</td>\n",
       "      <td>0</td>\n",
       "      <td>NaN</td>\n",
       "      <td>NaN</td>\n",
       "      <td>NaN</td>\n",
       "      <td>0</td>\n",
       "      <td>90000.0</td>\n",
       "      <td>NaN</td>\n",
       "      <td>NaN</td>\n",
       "      <td>0.0</td>\n",
       "      <td>Credit card</td>\n",
       "      <td>-16</td>\n",
       "      <td>NaN</td>\n",
       "    </tr>\n",
       "    <tr>\n",
       "      <th>4</th>\n",
       "      <td>215354</td>\n",
       "      <td>5714466</td>\n",
       "      <td>Active</td>\n",
       "      <td>currency 1</td>\n",
       "      <td>-629</td>\n",
       "      <td>0</td>\n",
       "      <td>1197.0</td>\n",
       "      <td>NaN</td>\n",
       "      <td>77674.5</td>\n",
       "      <td>0</td>\n",
       "      <td>2700000.0</td>\n",
       "      <td>NaN</td>\n",
       "      <td>NaN</td>\n",
       "      <td>0.0</td>\n",
       "      <td>Consumer credit</td>\n",
       "      <td>-21</td>\n",
       "      <td>NaN</td>\n",
       "    </tr>\n",
       "  </tbody>\n",
       "</table>\n",
       "</div>"
      ],
      "text/plain": [
       "   SK_ID_CURR  SK_ID_BUREAU CREDIT_ACTIVE CREDIT_CURRENCY  DAYS_CREDIT  \\\n",
       "0      215354       5714462        Closed      currency 1         -497   \n",
       "1      215354       5714463        Active      currency 1         -208   \n",
       "2      215354       5714464        Active      currency 1         -203   \n",
       "3      215354       5714465        Active      currency 1         -203   \n",
       "4      215354       5714466        Active      currency 1         -629   \n",
       "\n",
       "   CREDIT_DAY_OVERDUE  DAYS_CREDIT_ENDDATE  DAYS_ENDDATE_FACT  \\\n",
       "0                   0               -153.0             -153.0   \n",
       "1                   0               1075.0                NaN   \n",
       "2                   0                528.0                NaN   \n",
       "3                   0                  NaN                NaN   \n",
       "4                   0               1197.0                NaN   \n",
       "\n",
       "   AMT_CREDIT_MAX_OVERDUE  CNT_CREDIT_PROLONG  AMT_CREDIT_SUM  \\\n",
       "0                     NaN                   0         91323.0   \n",
       "1                     NaN                   0        225000.0   \n",
       "2                     NaN                   0        464323.5   \n",
       "3                     NaN                   0         90000.0   \n",
       "4                 77674.5                   0       2700000.0   \n",
       "\n",
       "   AMT_CREDIT_SUM_DEBT  AMT_CREDIT_SUM_LIMIT  AMT_CREDIT_SUM_OVERDUE  \\\n",
       "0                  0.0                   NaN                     0.0   \n",
       "1             171342.0                   NaN                     0.0   \n",
       "2                  NaN                   NaN                     0.0   \n",
       "3                  NaN                   NaN                     0.0   \n",
       "4                  NaN                   NaN                     0.0   \n",
       "\n",
       "       CREDIT_TYPE  DAYS_CREDIT_UPDATE  AMT_ANNUITY  \n",
       "0  Consumer credit                -131          NaN  \n",
       "1      Credit card                 -20          NaN  \n",
       "2  Consumer credit                 -16          NaN  \n",
       "3      Credit card                 -16          NaN  \n",
       "4  Consumer credit                 -21          NaN  "
      ]
     },
     "execution_count": 14,
     "metadata": {},
     "output_type": "execute_result"
    }
   ],
   "source": [
    "df_bureau.head()"
   ]
  },
  {
   "cell_type": "code",
   "execution_count": 15,
   "id": "e93f65cf",
   "metadata": {},
   "outputs": [
    {
     "name": "stdout",
     "output_type": "stream",
     "text": [
      "<class 'pandas.core.frame.DataFrame'>\n",
      "RangeIndex: 1716428 entries, 0 to 1716427\n",
      "Data columns (total 17 columns):\n",
      " #   Column                  Dtype  \n",
      "---  ------                  -----  \n",
      " 0   SK_ID_CURR              int64  \n",
      " 1   SK_ID_BUREAU            int64  \n",
      " 2   CREDIT_ACTIVE           object \n",
      " 3   CREDIT_CURRENCY         object \n",
      " 4   DAYS_CREDIT             int64  \n",
      " 5   CREDIT_DAY_OVERDUE      int64  \n",
      " 6   DAYS_CREDIT_ENDDATE     float64\n",
      " 7   DAYS_ENDDATE_FACT       float64\n",
      " 8   AMT_CREDIT_MAX_OVERDUE  float64\n",
      " 9   CNT_CREDIT_PROLONG      int64  \n",
      " 10  AMT_CREDIT_SUM          float64\n",
      " 11  AMT_CREDIT_SUM_DEBT     float64\n",
      " 12  AMT_CREDIT_SUM_LIMIT    float64\n",
      " 13  AMT_CREDIT_SUM_OVERDUE  float64\n",
      " 14  CREDIT_TYPE             object \n",
      " 15  DAYS_CREDIT_UPDATE      int64  \n",
      " 16  AMT_ANNUITY             float64\n",
      "dtypes: float64(8), int64(6), object(3)\n",
      "memory usage: 222.6+ MB\n"
     ]
    }
   ],
   "source": [
    "df_bureau.info()"
   ]
  },
  {
   "cell_type": "code",
   "execution_count": 16,
   "id": "e8a9406a",
   "metadata": {},
   "outputs": [
    {
     "data": {
      "text/html": [
       "<div>\n",
       "<style scoped>\n",
       "    .dataframe tbody tr th:only-of-type {\n",
       "        vertical-align: middle;\n",
       "    }\n",
       "\n",
       "    .dataframe tbody tr th {\n",
       "        vertical-align: top;\n",
       "    }\n",
       "\n",
       "    .dataframe thead th {\n",
       "        text-align: right;\n",
       "    }\n",
       "</style>\n",
       "<table border=\"1\" class=\"dataframe\">\n",
       "  <thead>\n",
       "    <tr style=\"text-align: right;\">\n",
       "      <th></th>\n",
       "      <th>SK_ID_PREV</th>\n",
       "      <th>SK_ID_CURR</th>\n",
       "      <th>MONTHS_BALANCE</th>\n",
       "      <th>AMT_BALANCE</th>\n",
       "      <th>AMT_CREDIT_LIMIT_ACTUAL</th>\n",
       "      <th>AMT_DRAWINGS_ATM_CURRENT</th>\n",
       "      <th>AMT_DRAWINGS_CURRENT</th>\n",
       "      <th>AMT_DRAWINGS_OTHER_CURRENT</th>\n",
       "      <th>AMT_DRAWINGS_POS_CURRENT</th>\n",
       "      <th>AMT_INST_MIN_REGULARITY</th>\n",
       "      <th>...</th>\n",
       "      <th>AMT_RECIVABLE</th>\n",
       "      <th>AMT_TOTAL_RECEIVABLE</th>\n",
       "      <th>CNT_DRAWINGS_ATM_CURRENT</th>\n",
       "      <th>CNT_DRAWINGS_CURRENT</th>\n",
       "      <th>CNT_DRAWINGS_OTHER_CURRENT</th>\n",
       "      <th>CNT_DRAWINGS_POS_CURRENT</th>\n",
       "      <th>CNT_INSTALMENT_MATURE_CUM</th>\n",
       "      <th>NAME_CONTRACT_STATUS</th>\n",
       "      <th>SK_DPD</th>\n",
       "      <th>SK_DPD_DEF</th>\n",
       "    </tr>\n",
       "  </thead>\n",
       "  <tbody>\n",
       "    <tr>\n",
       "      <th>0</th>\n",
       "      <td>2562384</td>\n",
       "      <td>378907</td>\n",
       "      <td>-6</td>\n",
       "      <td>56.970</td>\n",
       "      <td>135000</td>\n",
       "      <td>0.0</td>\n",
       "      <td>877.5</td>\n",
       "      <td>0.0</td>\n",
       "      <td>877.5</td>\n",
       "      <td>1700.325</td>\n",
       "      <td>...</td>\n",
       "      <td>0.000</td>\n",
       "      <td>0.000</td>\n",
       "      <td>0.0</td>\n",
       "      <td>1</td>\n",
       "      <td>0.0</td>\n",
       "      <td>1.0</td>\n",
       "      <td>35.0</td>\n",
       "      <td>Active</td>\n",
       "      <td>0</td>\n",
       "      <td>0</td>\n",
       "    </tr>\n",
       "    <tr>\n",
       "      <th>1</th>\n",
       "      <td>2582071</td>\n",
       "      <td>363914</td>\n",
       "      <td>-1</td>\n",
       "      <td>63975.555</td>\n",
       "      <td>45000</td>\n",
       "      <td>2250.0</td>\n",
       "      <td>2250.0</td>\n",
       "      <td>0.0</td>\n",
       "      <td>0.0</td>\n",
       "      <td>2250.000</td>\n",
       "      <td>...</td>\n",
       "      <td>64875.555</td>\n",
       "      <td>64875.555</td>\n",
       "      <td>1.0</td>\n",
       "      <td>1</td>\n",
       "      <td>0.0</td>\n",
       "      <td>0.0</td>\n",
       "      <td>69.0</td>\n",
       "      <td>Active</td>\n",
       "      <td>0</td>\n",
       "      <td>0</td>\n",
       "    </tr>\n",
       "    <tr>\n",
       "      <th>2</th>\n",
       "      <td>1740877</td>\n",
       "      <td>371185</td>\n",
       "      <td>-7</td>\n",
       "      <td>31815.225</td>\n",
       "      <td>450000</td>\n",
       "      <td>0.0</td>\n",
       "      <td>0.0</td>\n",
       "      <td>0.0</td>\n",
       "      <td>0.0</td>\n",
       "      <td>2250.000</td>\n",
       "      <td>...</td>\n",
       "      <td>31460.085</td>\n",
       "      <td>31460.085</td>\n",
       "      <td>0.0</td>\n",
       "      <td>0</td>\n",
       "      <td>0.0</td>\n",
       "      <td>0.0</td>\n",
       "      <td>30.0</td>\n",
       "      <td>Active</td>\n",
       "      <td>0</td>\n",
       "      <td>0</td>\n",
       "    </tr>\n",
       "    <tr>\n",
       "      <th>3</th>\n",
       "      <td>1389973</td>\n",
       "      <td>337855</td>\n",
       "      <td>-4</td>\n",
       "      <td>236572.110</td>\n",
       "      <td>225000</td>\n",
       "      <td>2250.0</td>\n",
       "      <td>2250.0</td>\n",
       "      <td>0.0</td>\n",
       "      <td>0.0</td>\n",
       "      <td>11795.760</td>\n",
       "      <td>...</td>\n",
       "      <td>233048.970</td>\n",
       "      <td>233048.970</td>\n",
       "      <td>1.0</td>\n",
       "      <td>1</td>\n",
       "      <td>0.0</td>\n",
       "      <td>0.0</td>\n",
       "      <td>10.0</td>\n",
       "      <td>Active</td>\n",
       "      <td>0</td>\n",
       "      <td>0</td>\n",
       "    </tr>\n",
       "    <tr>\n",
       "      <th>4</th>\n",
       "      <td>1891521</td>\n",
       "      <td>126868</td>\n",
       "      <td>-1</td>\n",
       "      <td>453919.455</td>\n",
       "      <td>450000</td>\n",
       "      <td>0.0</td>\n",
       "      <td>11547.0</td>\n",
       "      <td>0.0</td>\n",
       "      <td>11547.0</td>\n",
       "      <td>22924.890</td>\n",
       "      <td>...</td>\n",
       "      <td>453919.455</td>\n",
       "      <td>453919.455</td>\n",
       "      <td>0.0</td>\n",
       "      <td>1</td>\n",
       "      <td>0.0</td>\n",
       "      <td>1.0</td>\n",
       "      <td>101.0</td>\n",
       "      <td>Active</td>\n",
       "      <td>0</td>\n",
       "      <td>0</td>\n",
       "    </tr>\n",
       "  </tbody>\n",
       "</table>\n",
       "<p>5 rows × 23 columns</p>\n",
       "</div>"
      ],
      "text/plain": [
       "   SK_ID_PREV  SK_ID_CURR  MONTHS_BALANCE  AMT_BALANCE  \\\n",
       "0     2562384      378907              -6       56.970   \n",
       "1     2582071      363914              -1    63975.555   \n",
       "2     1740877      371185              -7    31815.225   \n",
       "3     1389973      337855              -4   236572.110   \n",
       "4     1891521      126868              -1   453919.455   \n",
       "\n",
       "   AMT_CREDIT_LIMIT_ACTUAL  AMT_DRAWINGS_ATM_CURRENT  AMT_DRAWINGS_CURRENT  \\\n",
       "0                   135000                       0.0                 877.5   \n",
       "1                    45000                    2250.0                2250.0   \n",
       "2                   450000                       0.0                   0.0   \n",
       "3                   225000                    2250.0                2250.0   \n",
       "4                   450000                       0.0               11547.0   \n",
       "\n",
       "   AMT_DRAWINGS_OTHER_CURRENT  AMT_DRAWINGS_POS_CURRENT  \\\n",
       "0                         0.0                     877.5   \n",
       "1                         0.0                       0.0   \n",
       "2                         0.0                       0.0   \n",
       "3                         0.0                       0.0   \n",
       "4                         0.0                   11547.0   \n",
       "\n",
       "   AMT_INST_MIN_REGULARITY  ...  AMT_RECIVABLE  AMT_TOTAL_RECEIVABLE  \\\n",
       "0                 1700.325  ...          0.000                 0.000   \n",
       "1                 2250.000  ...      64875.555             64875.555   \n",
       "2                 2250.000  ...      31460.085             31460.085   \n",
       "3                11795.760  ...     233048.970            233048.970   \n",
       "4                22924.890  ...     453919.455            453919.455   \n",
       "\n",
       "   CNT_DRAWINGS_ATM_CURRENT  CNT_DRAWINGS_CURRENT  CNT_DRAWINGS_OTHER_CURRENT  \\\n",
       "0                       0.0                     1                         0.0   \n",
       "1                       1.0                     1                         0.0   \n",
       "2                       0.0                     0                         0.0   \n",
       "3                       1.0                     1                         0.0   \n",
       "4                       0.0                     1                         0.0   \n",
       "\n",
       "   CNT_DRAWINGS_POS_CURRENT  CNT_INSTALMENT_MATURE_CUM  NAME_CONTRACT_STATUS  \\\n",
       "0                       1.0                       35.0                Active   \n",
       "1                       0.0                       69.0                Active   \n",
       "2                       0.0                       30.0                Active   \n",
       "3                       0.0                       10.0                Active   \n",
       "4                       1.0                      101.0                Active   \n",
       "\n",
       "   SK_DPD  SK_DPD_DEF  \n",
       "0       0           0  \n",
       "1       0           0  \n",
       "2       0           0  \n",
       "3       0           0  \n",
       "4       0           0  \n",
       "\n",
       "[5 rows x 23 columns]"
      ]
     },
     "execution_count": 16,
     "metadata": {},
     "output_type": "execute_result"
    }
   ],
   "source": [
    "df_creditcard.head()"
   ]
  },
  {
   "cell_type": "code",
   "execution_count": 17,
   "id": "d70b56fa",
   "metadata": {},
   "outputs": [
    {
     "name": "stdout",
     "output_type": "stream",
     "text": [
      "<class 'pandas.core.frame.DataFrame'>\n",
      "RangeIndex: 3840312 entries, 0 to 3840311\n",
      "Data columns (total 23 columns):\n",
      " #   Column                      Dtype  \n",
      "---  ------                      -----  \n",
      " 0   SK_ID_PREV                  int64  \n",
      " 1   SK_ID_CURR                  int64  \n",
      " 2   MONTHS_BALANCE              int64  \n",
      " 3   AMT_BALANCE                 float64\n",
      " 4   AMT_CREDIT_LIMIT_ACTUAL     int64  \n",
      " 5   AMT_DRAWINGS_ATM_CURRENT    float64\n",
      " 6   AMT_DRAWINGS_CURRENT        float64\n",
      " 7   AMT_DRAWINGS_OTHER_CURRENT  float64\n",
      " 8   AMT_DRAWINGS_POS_CURRENT    float64\n",
      " 9   AMT_INST_MIN_REGULARITY     float64\n",
      " 10  AMT_PAYMENT_CURRENT         float64\n",
      " 11  AMT_PAYMENT_TOTAL_CURRENT   float64\n",
      " 12  AMT_RECEIVABLE_PRINCIPAL    float64\n",
      " 13  AMT_RECIVABLE               float64\n",
      " 14  AMT_TOTAL_RECEIVABLE        float64\n",
      " 15  CNT_DRAWINGS_ATM_CURRENT    float64\n",
      " 16  CNT_DRAWINGS_CURRENT        int64  \n",
      " 17  CNT_DRAWINGS_OTHER_CURRENT  float64\n",
      " 18  CNT_DRAWINGS_POS_CURRENT    float64\n",
      " 19  CNT_INSTALMENT_MATURE_CUM   float64\n",
      " 20  NAME_CONTRACT_STATUS        object \n",
      " 21  SK_DPD                      int64  \n",
      " 22  SK_DPD_DEF                  int64  \n",
      "dtypes: float64(15), int64(7), object(1)\n",
      "memory usage: 673.9+ MB\n"
     ]
    }
   ],
   "source": [
    "df_creditcard.info()"
   ]
  },
  {
   "cell_type": "code",
   "execution_count": 18,
   "id": "457be479",
   "metadata": {},
   "outputs": [
    {
     "data": {
      "text/html": [
       "<div>\n",
       "<style scoped>\n",
       "    .dataframe tbody tr th:only-of-type {\n",
       "        vertical-align: middle;\n",
       "    }\n",
       "\n",
       "    .dataframe tbody tr th {\n",
       "        vertical-align: top;\n",
       "    }\n",
       "\n",
       "    .dataframe thead th {\n",
       "        text-align: right;\n",
       "    }\n",
       "</style>\n",
       "<table border=\"1\" class=\"dataframe\">\n",
       "  <thead>\n",
       "    <tr style=\"text-align: right;\">\n",
       "      <th></th>\n",
       "      <th>Unnamed: 0</th>\n",
       "      <th>Table</th>\n",
       "      <th>Row</th>\n",
       "      <th>Description</th>\n",
       "      <th>Special</th>\n",
       "    </tr>\n",
       "  </thead>\n",
       "  <tbody>\n",
       "    <tr>\n",
       "      <th>0</th>\n",
       "      <td>1</td>\n",
       "      <td>application_{train|test}.csv</td>\n",
       "      <td>SK_ID_CURR</td>\n",
       "      <td>ID of loan in our sample</td>\n",
       "      <td>NaN</td>\n",
       "    </tr>\n",
       "    <tr>\n",
       "      <th>1</th>\n",
       "      <td>2</td>\n",
       "      <td>application_{train|test}.csv</td>\n",
       "      <td>TARGET</td>\n",
       "      <td>Target variable (1 - client with payment diffi...</td>\n",
       "      <td>NaN</td>\n",
       "    </tr>\n",
       "    <tr>\n",
       "      <th>2</th>\n",
       "      <td>5</td>\n",
       "      <td>application_{train|test}.csv</td>\n",
       "      <td>NAME_CONTRACT_TYPE</td>\n",
       "      <td>Identification if loan is cash or revolving</td>\n",
       "      <td>NaN</td>\n",
       "    </tr>\n",
       "    <tr>\n",
       "      <th>3</th>\n",
       "      <td>6</td>\n",
       "      <td>application_{train|test}.csv</td>\n",
       "      <td>CODE_GENDER</td>\n",
       "      <td>Gender of the client</td>\n",
       "      <td>NaN</td>\n",
       "    </tr>\n",
       "    <tr>\n",
       "      <th>4</th>\n",
       "      <td>7</td>\n",
       "      <td>application_{train|test}.csv</td>\n",
       "      <td>FLAG_OWN_CAR</td>\n",
       "      <td>Flag if the client owns a car</td>\n",
       "      <td>NaN</td>\n",
       "    </tr>\n",
       "  </tbody>\n",
       "</table>\n",
       "</div>"
      ],
      "text/plain": [
       "   Unnamed: 0                         Table                 Row  \\\n",
       "0           1  application_{train|test}.csv          SK_ID_CURR   \n",
       "1           2  application_{train|test}.csv              TARGET   \n",
       "2           5  application_{train|test}.csv  NAME_CONTRACT_TYPE   \n",
       "3           6  application_{train|test}.csv         CODE_GENDER   \n",
       "4           7  application_{train|test}.csv        FLAG_OWN_CAR   \n",
       "\n",
       "                                         Description Special  \n",
       "0                           ID of loan in our sample     NaN  \n",
       "1  Target variable (1 - client with payment diffi...     NaN  \n",
       "2        Identification if loan is cash or revolving     NaN  \n",
       "3                               Gender of the client     NaN  \n",
       "4                      Flag if the client owns a car     NaN  "
      ]
     },
     "execution_count": 18,
     "metadata": {},
     "output_type": "execute_result"
    }
   ],
   "source": [
    "df_homecredit.head()"
   ]
  },
  {
   "cell_type": "code",
   "execution_count": 19,
   "id": "d7881123",
   "metadata": {},
   "outputs": [
    {
     "name": "stdout",
     "output_type": "stream",
     "text": [
      "<class 'pandas.core.frame.DataFrame'>\n",
      "RangeIndex: 219 entries, 0 to 218\n",
      "Data columns (total 5 columns):\n",
      " #   Column       Non-Null Count  Dtype \n",
      "---  ------       --------------  ----- \n",
      " 0   Unnamed: 0   219 non-null    int64 \n",
      " 1   Table        219 non-null    object\n",
      " 2   Row          219 non-null    object\n",
      " 3   Description  219 non-null    object\n",
      " 4   Special      86 non-null     object\n",
      "dtypes: int64(1), object(4)\n",
      "memory usage: 8.7+ KB\n"
     ]
    }
   ],
   "source": [
    "df_homecredit.info()"
   ]
  },
  {
   "cell_type": "code",
   "execution_count": 20,
   "id": "fa2b3520",
   "metadata": {},
   "outputs": [
    {
     "data": {
      "text/html": [
       "<div>\n",
       "<style scoped>\n",
       "    .dataframe tbody tr th:only-of-type {\n",
       "        vertical-align: middle;\n",
       "    }\n",
       "\n",
       "    .dataframe tbody tr th {\n",
       "        vertical-align: top;\n",
       "    }\n",
       "\n",
       "    .dataframe thead th {\n",
       "        text-align: right;\n",
       "    }\n",
       "</style>\n",
       "<table border=\"1\" class=\"dataframe\">\n",
       "  <thead>\n",
       "    <tr style=\"text-align: right;\">\n",
       "      <th></th>\n",
       "      <th>SK_ID_PREV</th>\n",
       "      <th>SK_ID_CURR</th>\n",
       "      <th>NUM_INSTALMENT_VERSION</th>\n",
       "      <th>NUM_INSTALMENT_NUMBER</th>\n",
       "      <th>DAYS_INSTALMENT</th>\n",
       "      <th>DAYS_ENTRY_PAYMENT</th>\n",
       "      <th>AMT_INSTALMENT</th>\n",
       "      <th>AMT_PAYMENT</th>\n",
       "    </tr>\n",
       "  </thead>\n",
       "  <tbody>\n",
       "    <tr>\n",
       "      <th>0</th>\n",
       "      <td>1054186</td>\n",
       "      <td>161674</td>\n",
       "      <td>1.0</td>\n",
       "      <td>6</td>\n",
       "      <td>-1180.0</td>\n",
       "      <td>-1187.0</td>\n",
       "      <td>6948.360</td>\n",
       "      <td>6948.360</td>\n",
       "    </tr>\n",
       "    <tr>\n",
       "      <th>1</th>\n",
       "      <td>1330831</td>\n",
       "      <td>151639</td>\n",
       "      <td>0.0</td>\n",
       "      <td>34</td>\n",
       "      <td>-2156.0</td>\n",
       "      <td>-2156.0</td>\n",
       "      <td>1716.525</td>\n",
       "      <td>1716.525</td>\n",
       "    </tr>\n",
       "    <tr>\n",
       "      <th>2</th>\n",
       "      <td>2085231</td>\n",
       "      <td>193053</td>\n",
       "      <td>2.0</td>\n",
       "      <td>1</td>\n",
       "      <td>-63.0</td>\n",
       "      <td>-63.0</td>\n",
       "      <td>25425.000</td>\n",
       "      <td>25425.000</td>\n",
       "    </tr>\n",
       "    <tr>\n",
       "      <th>3</th>\n",
       "      <td>2452527</td>\n",
       "      <td>199697</td>\n",
       "      <td>1.0</td>\n",
       "      <td>3</td>\n",
       "      <td>-2418.0</td>\n",
       "      <td>-2426.0</td>\n",
       "      <td>24350.130</td>\n",
       "      <td>24350.130</td>\n",
       "    </tr>\n",
       "    <tr>\n",
       "      <th>4</th>\n",
       "      <td>2714724</td>\n",
       "      <td>167756</td>\n",
       "      <td>1.0</td>\n",
       "      <td>2</td>\n",
       "      <td>-1383.0</td>\n",
       "      <td>-1366.0</td>\n",
       "      <td>2165.040</td>\n",
       "      <td>2160.585</td>\n",
       "    </tr>\n",
       "  </tbody>\n",
       "</table>\n",
       "</div>"
      ],
      "text/plain": [
       "   SK_ID_PREV  SK_ID_CURR  NUM_INSTALMENT_VERSION  NUM_INSTALMENT_NUMBER  \\\n",
       "0     1054186      161674                     1.0                      6   \n",
       "1     1330831      151639                     0.0                     34   \n",
       "2     2085231      193053                     2.0                      1   \n",
       "3     2452527      199697                     1.0                      3   \n",
       "4     2714724      167756                     1.0                      2   \n",
       "\n",
       "   DAYS_INSTALMENT  DAYS_ENTRY_PAYMENT  AMT_INSTALMENT  AMT_PAYMENT  \n",
       "0          -1180.0             -1187.0        6948.360     6948.360  \n",
       "1          -2156.0             -2156.0        1716.525     1716.525  \n",
       "2            -63.0               -63.0       25425.000    25425.000  \n",
       "3          -2418.0             -2426.0       24350.130    24350.130  \n",
       "4          -1383.0             -1366.0        2165.040     2160.585  "
      ]
     },
     "execution_count": 20,
     "metadata": {},
     "output_type": "execute_result"
    }
   ],
   "source": [
    "df_payments.head()"
   ]
  },
  {
   "cell_type": "code",
   "execution_count": 21,
   "id": "c36615da",
   "metadata": {},
   "outputs": [
    {
     "name": "stdout",
     "output_type": "stream",
     "text": [
      "<class 'pandas.core.frame.DataFrame'>\n",
      "RangeIndex: 13605401 entries, 0 to 13605400\n",
      "Data columns (total 8 columns):\n",
      " #   Column                  Dtype  \n",
      "---  ------                  -----  \n",
      " 0   SK_ID_PREV              int64  \n",
      " 1   SK_ID_CURR              int64  \n",
      " 2   NUM_INSTALMENT_VERSION  float64\n",
      " 3   NUM_INSTALMENT_NUMBER   int64  \n",
      " 4   DAYS_INSTALMENT         float64\n",
      " 5   DAYS_ENTRY_PAYMENT      float64\n",
      " 6   AMT_INSTALMENT          float64\n",
      " 7   AMT_PAYMENT             float64\n",
      "dtypes: float64(5), int64(3)\n",
      "memory usage: 830.4 MB\n"
     ]
    }
   ],
   "source": [
    "df_payments.info()"
   ]
  },
  {
   "cell_type": "code",
   "execution_count": 22,
   "id": "f8563473",
   "metadata": {},
   "outputs": [
    {
     "data": {
      "text/html": [
       "<div>\n",
       "<style scoped>\n",
       "    .dataframe tbody tr th:only-of-type {\n",
       "        vertical-align: middle;\n",
       "    }\n",
       "\n",
       "    .dataframe tbody tr th {\n",
       "        vertical-align: top;\n",
       "    }\n",
       "\n",
       "    .dataframe thead th {\n",
       "        text-align: right;\n",
       "    }\n",
       "</style>\n",
       "<table border=\"1\" class=\"dataframe\">\n",
       "  <thead>\n",
       "    <tr style=\"text-align: right;\">\n",
       "      <th></th>\n",
       "      <th>SK_ID_PREV</th>\n",
       "      <th>SK_ID_CURR</th>\n",
       "      <th>MONTHS_BALANCE</th>\n",
       "      <th>CNT_INSTALMENT</th>\n",
       "      <th>CNT_INSTALMENT_FUTURE</th>\n",
       "      <th>NAME_CONTRACT_STATUS</th>\n",
       "      <th>SK_DPD</th>\n",
       "      <th>SK_DPD_DEF</th>\n",
       "    </tr>\n",
       "  </thead>\n",
       "  <tbody>\n",
       "    <tr>\n",
       "      <th>0</th>\n",
       "      <td>1803195</td>\n",
       "      <td>182943</td>\n",
       "      <td>-31</td>\n",
       "      <td>48.0</td>\n",
       "      <td>45.0</td>\n",
       "      <td>Active</td>\n",
       "      <td>0</td>\n",
       "      <td>0</td>\n",
       "    </tr>\n",
       "    <tr>\n",
       "      <th>1</th>\n",
       "      <td>1715348</td>\n",
       "      <td>367990</td>\n",
       "      <td>-33</td>\n",
       "      <td>36.0</td>\n",
       "      <td>35.0</td>\n",
       "      <td>Active</td>\n",
       "      <td>0</td>\n",
       "      <td>0</td>\n",
       "    </tr>\n",
       "    <tr>\n",
       "      <th>2</th>\n",
       "      <td>1784872</td>\n",
       "      <td>397406</td>\n",
       "      <td>-32</td>\n",
       "      <td>12.0</td>\n",
       "      <td>9.0</td>\n",
       "      <td>Active</td>\n",
       "      <td>0</td>\n",
       "      <td>0</td>\n",
       "    </tr>\n",
       "    <tr>\n",
       "      <th>3</th>\n",
       "      <td>1903291</td>\n",
       "      <td>269225</td>\n",
       "      <td>-35</td>\n",
       "      <td>48.0</td>\n",
       "      <td>42.0</td>\n",
       "      <td>Active</td>\n",
       "      <td>0</td>\n",
       "      <td>0</td>\n",
       "    </tr>\n",
       "    <tr>\n",
       "      <th>4</th>\n",
       "      <td>2341044</td>\n",
       "      <td>334279</td>\n",
       "      <td>-35</td>\n",
       "      <td>36.0</td>\n",
       "      <td>35.0</td>\n",
       "      <td>Active</td>\n",
       "      <td>0</td>\n",
       "      <td>0</td>\n",
       "    </tr>\n",
       "  </tbody>\n",
       "</table>\n",
       "</div>"
      ],
      "text/plain": [
       "   SK_ID_PREV  SK_ID_CURR  MONTHS_BALANCE  CNT_INSTALMENT  \\\n",
       "0     1803195      182943             -31            48.0   \n",
       "1     1715348      367990             -33            36.0   \n",
       "2     1784872      397406             -32            12.0   \n",
       "3     1903291      269225             -35            48.0   \n",
       "4     2341044      334279             -35            36.0   \n",
       "\n",
       "   CNT_INSTALMENT_FUTURE NAME_CONTRACT_STATUS  SK_DPD  SK_DPD_DEF  \n",
       "0                   45.0               Active       0           0  \n",
       "1                   35.0               Active       0           0  \n",
       "2                    9.0               Active       0           0  \n",
       "3                   42.0               Active       0           0  \n",
       "4                   35.0               Active       0           0  "
      ]
     },
     "execution_count": 22,
     "metadata": {},
     "output_type": "execute_result"
    }
   ],
   "source": [
    "df_poscash.head()"
   ]
  },
  {
   "cell_type": "code",
   "execution_count": 23,
   "id": "bb90fcf5",
   "metadata": {},
   "outputs": [
    {
     "name": "stdout",
     "output_type": "stream",
     "text": [
      "<class 'pandas.core.frame.DataFrame'>\n",
      "RangeIndex: 10001358 entries, 0 to 10001357\n",
      "Data columns (total 8 columns):\n",
      " #   Column                 Dtype  \n",
      "---  ------                 -----  \n",
      " 0   SK_ID_PREV             int64  \n",
      " 1   SK_ID_CURR             int64  \n",
      " 2   MONTHS_BALANCE         int64  \n",
      " 3   CNT_INSTALMENT         float64\n",
      " 4   CNT_INSTALMENT_FUTURE  float64\n",
      " 5   NAME_CONTRACT_STATUS   object \n",
      " 6   SK_DPD                 int64  \n",
      " 7   SK_DPD_DEF             int64  \n",
      "dtypes: float64(2), int64(5), object(1)\n",
      "memory usage: 610.4+ MB\n"
     ]
    }
   ],
   "source": [
    "df_poscash.info()"
   ]
  },
  {
   "cell_type": "code",
   "execution_count": 24,
   "id": "9de46d95",
   "metadata": {},
   "outputs": [
    {
     "data": {
      "text/html": [
       "<div>\n",
       "<style scoped>\n",
       "    .dataframe tbody tr th:only-of-type {\n",
       "        vertical-align: middle;\n",
       "    }\n",
       "\n",
       "    .dataframe tbody tr th {\n",
       "        vertical-align: top;\n",
       "    }\n",
       "\n",
       "    .dataframe thead th {\n",
       "        text-align: right;\n",
       "    }\n",
       "</style>\n",
       "<table border=\"1\" class=\"dataframe\">\n",
       "  <thead>\n",
       "    <tr style=\"text-align: right;\">\n",
       "      <th></th>\n",
       "      <th>SK_ID_PREV</th>\n",
       "      <th>SK_ID_CURR</th>\n",
       "      <th>NAME_CONTRACT_TYPE</th>\n",
       "      <th>AMT_ANNUITY</th>\n",
       "      <th>AMT_APPLICATION</th>\n",
       "      <th>AMT_CREDIT</th>\n",
       "      <th>AMT_DOWN_PAYMENT</th>\n",
       "      <th>AMT_GOODS_PRICE</th>\n",
       "      <th>WEEKDAY_APPR_PROCESS_START</th>\n",
       "      <th>HOUR_APPR_PROCESS_START</th>\n",
       "      <th>...</th>\n",
       "      <th>NAME_SELLER_INDUSTRY</th>\n",
       "      <th>CNT_PAYMENT</th>\n",
       "      <th>NAME_YIELD_GROUP</th>\n",
       "      <th>PRODUCT_COMBINATION</th>\n",
       "      <th>DAYS_FIRST_DRAWING</th>\n",
       "      <th>DAYS_FIRST_DUE</th>\n",
       "      <th>DAYS_LAST_DUE_1ST_VERSION</th>\n",
       "      <th>DAYS_LAST_DUE</th>\n",
       "      <th>DAYS_TERMINATION</th>\n",
       "      <th>NFLAG_INSURED_ON_APPROVAL</th>\n",
       "    </tr>\n",
       "  </thead>\n",
       "  <tbody>\n",
       "    <tr>\n",
       "      <th>0</th>\n",
       "      <td>2030495</td>\n",
       "      <td>271877</td>\n",
       "      <td>Consumer loans</td>\n",
       "      <td>1730.430</td>\n",
       "      <td>17145.0</td>\n",
       "      <td>17145.0</td>\n",
       "      <td>0.0</td>\n",
       "      <td>17145.0</td>\n",
       "      <td>SATURDAY</td>\n",
       "      <td>15</td>\n",
       "      <td>...</td>\n",
       "      <td>Connectivity</td>\n",
       "      <td>12.0</td>\n",
       "      <td>middle</td>\n",
       "      <td>POS mobile with interest</td>\n",
       "      <td>365243.0</td>\n",
       "      <td>-42.0</td>\n",
       "      <td>300.0</td>\n",
       "      <td>-42.0</td>\n",
       "      <td>-37.0</td>\n",
       "      <td>0.0</td>\n",
       "    </tr>\n",
       "    <tr>\n",
       "      <th>1</th>\n",
       "      <td>2802425</td>\n",
       "      <td>108129</td>\n",
       "      <td>Cash loans</td>\n",
       "      <td>25188.615</td>\n",
       "      <td>607500.0</td>\n",
       "      <td>679671.0</td>\n",
       "      <td>NaN</td>\n",
       "      <td>607500.0</td>\n",
       "      <td>THURSDAY</td>\n",
       "      <td>11</td>\n",
       "      <td>...</td>\n",
       "      <td>XNA</td>\n",
       "      <td>36.0</td>\n",
       "      <td>low_action</td>\n",
       "      <td>Cash X-Sell: low</td>\n",
       "      <td>365243.0</td>\n",
       "      <td>-134.0</td>\n",
       "      <td>916.0</td>\n",
       "      <td>365243.0</td>\n",
       "      <td>365243.0</td>\n",
       "      <td>1.0</td>\n",
       "    </tr>\n",
       "    <tr>\n",
       "      <th>2</th>\n",
       "      <td>2523466</td>\n",
       "      <td>122040</td>\n",
       "      <td>Cash loans</td>\n",
       "      <td>15060.735</td>\n",
       "      <td>112500.0</td>\n",
       "      <td>136444.5</td>\n",
       "      <td>NaN</td>\n",
       "      <td>112500.0</td>\n",
       "      <td>TUESDAY</td>\n",
       "      <td>11</td>\n",
       "      <td>...</td>\n",
       "      <td>XNA</td>\n",
       "      <td>12.0</td>\n",
       "      <td>high</td>\n",
       "      <td>Cash X-Sell: high</td>\n",
       "      <td>365243.0</td>\n",
       "      <td>-271.0</td>\n",
       "      <td>59.0</td>\n",
       "      <td>365243.0</td>\n",
       "      <td>365243.0</td>\n",
       "      <td>1.0</td>\n",
       "    </tr>\n",
       "    <tr>\n",
       "      <th>3</th>\n",
       "      <td>2819243</td>\n",
       "      <td>176158</td>\n",
       "      <td>Cash loans</td>\n",
       "      <td>47041.335</td>\n",
       "      <td>450000.0</td>\n",
       "      <td>470790.0</td>\n",
       "      <td>NaN</td>\n",
       "      <td>450000.0</td>\n",
       "      <td>MONDAY</td>\n",
       "      <td>7</td>\n",
       "      <td>...</td>\n",
       "      <td>XNA</td>\n",
       "      <td>12.0</td>\n",
       "      <td>middle</td>\n",
       "      <td>Cash X-Sell: middle</td>\n",
       "      <td>365243.0</td>\n",
       "      <td>-482.0</td>\n",
       "      <td>-152.0</td>\n",
       "      <td>-182.0</td>\n",
       "      <td>-177.0</td>\n",
       "      <td>1.0</td>\n",
       "    </tr>\n",
       "    <tr>\n",
       "      <th>4</th>\n",
       "      <td>1784265</td>\n",
       "      <td>202054</td>\n",
       "      <td>Cash loans</td>\n",
       "      <td>31924.395</td>\n",
       "      <td>337500.0</td>\n",
       "      <td>404055.0</td>\n",
       "      <td>NaN</td>\n",
       "      <td>337500.0</td>\n",
       "      <td>THURSDAY</td>\n",
       "      <td>9</td>\n",
       "      <td>...</td>\n",
       "      <td>XNA</td>\n",
       "      <td>24.0</td>\n",
       "      <td>high</td>\n",
       "      <td>Cash Street: high</td>\n",
       "      <td>NaN</td>\n",
       "      <td>NaN</td>\n",
       "      <td>NaN</td>\n",
       "      <td>NaN</td>\n",
       "      <td>NaN</td>\n",
       "      <td>NaN</td>\n",
       "    </tr>\n",
       "  </tbody>\n",
       "</table>\n",
       "<p>5 rows × 37 columns</p>\n",
       "</div>"
      ],
      "text/plain": [
       "   SK_ID_PREV  SK_ID_CURR NAME_CONTRACT_TYPE  AMT_ANNUITY  AMT_APPLICATION  \\\n",
       "0     2030495      271877     Consumer loans     1730.430          17145.0   \n",
       "1     2802425      108129         Cash loans    25188.615         607500.0   \n",
       "2     2523466      122040         Cash loans    15060.735         112500.0   \n",
       "3     2819243      176158         Cash loans    47041.335         450000.0   \n",
       "4     1784265      202054         Cash loans    31924.395         337500.0   \n",
       "\n",
       "   AMT_CREDIT  AMT_DOWN_PAYMENT  AMT_GOODS_PRICE WEEKDAY_APPR_PROCESS_START  \\\n",
       "0     17145.0               0.0          17145.0                   SATURDAY   \n",
       "1    679671.0               NaN         607500.0                   THURSDAY   \n",
       "2    136444.5               NaN         112500.0                    TUESDAY   \n",
       "3    470790.0               NaN         450000.0                     MONDAY   \n",
       "4    404055.0               NaN         337500.0                   THURSDAY   \n",
       "\n",
       "   HOUR_APPR_PROCESS_START  ... NAME_SELLER_INDUSTRY  CNT_PAYMENT  \\\n",
       "0                       15  ...         Connectivity         12.0   \n",
       "1                       11  ...                  XNA         36.0   \n",
       "2                       11  ...                  XNA         12.0   \n",
       "3                        7  ...                  XNA         12.0   \n",
       "4                        9  ...                  XNA         24.0   \n",
       "\n",
       "   NAME_YIELD_GROUP       PRODUCT_COMBINATION  DAYS_FIRST_DRAWING  \\\n",
       "0            middle  POS mobile with interest            365243.0   \n",
       "1        low_action          Cash X-Sell: low            365243.0   \n",
       "2              high         Cash X-Sell: high            365243.0   \n",
       "3            middle       Cash X-Sell: middle            365243.0   \n",
       "4              high         Cash Street: high                 NaN   \n",
       "\n",
       "  DAYS_FIRST_DUE DAYS_LAST_DUE_1ST_VERSION  DAYS_LAST_DUE DAYS_TERMINATION  \\\n",
       "0          -42.0                     300.0          -42.0            -37.0   \n",
       "1         -134.0                     916.0       365243.0         365243.0   \n",
       "2         -271.0                      59.0       365243.0         365243.0   \n",
       "3         -482.0                    -152.0         -182.0           -177.0   \n",
       "4            NaN                       NaN            NaN              NaN   \n",
       "\n",
       "  NFLAG_INSURED_ON_APPROVAL  \n",
       "0                       0.0  \n",
       "1                       1.0  \n",
       "2                       1.0  \n",
       "3                       1.0  \n",
       "4                       NaN  \n",
       "\n",
       "[5 rows x 37 columns]"
      ]
     },
     "execution_count": 24,
     "metadata": {},
     "output_type": "execute_result"
    }
   ],
   "source": [
    "df_prevapp.head()"
   ]
  },
  {
   "cell_type": "code",
   "execution_count": 25,
   "id": "16d13059",
   "metadata": {},
   "outputs": [
    {
     "name": "stdout",
     "output_type": "stream",
     "text": [
      "<class 'pandas.core.frame.DataFrame'>\n",
      "RangeIndex: 1670214 entries, 0 to 1670213\n",
      "Data columns (total 37 columns):\n",
      " #   Column                       Non-Null Count    Dtype  \n",
      "---  ------                       --------------    -----  \n",
      " 0   SK_ID_PREV                   1670214 non-null  int64  \n",
      " 1   SK_ID_CURR                   1670214 non-null  int64  \n",
      " 2   NAME_CONTRACT_TYPE           1670214 non-null  object \n",
      " 3   AMT_ANNUITY                  1297979 non-null  float64\n",
      " 4   AMT_APPLICATION              1670214 non-null  float64\n",
      " 5   AMT_CREDIT                   1670213 non-null  float64\n",
      " 6   AMT_DOWN_PAYMENT             774370 non-null   float64\n",
      " 7   AMT_GOODS_PRICE              1284699 non-null  float64\n",
      " 8   WEEKDAY_APPR_PROCESS_START   1670214 non-null  object \n",
      " 9   HOUR_APPR_PROCESS_START      1670214 non-null  int64  \n",
      " 10  FLAG_LAST_APPL_PER_CONTRACT  1670214 non-null  object \n",
      " 11  NFLAG_LAST_APPL_IN_DAY       1670214 non-null  int64  \n",
      " 12  RATE_DOWN_PAYMENT            774370 non-null   float64\n",
      " 13  RATE_INTEREST_PRIMARY        5951 non-null     float64\n",
      " 14  RATE_INTEREST_PRIVILEGED     5951 non-null     float64\n",
      " 15  NAME_CASH_LOAN_PURPOSE       1670214 non-null  object \n",
      " 16  NAME_CONTRACT_STATUS         1670214 non-null  object \n",
      " 17  DAYS_DECISION                1670214 non-null  int64  \n",
      " 18  NAME_PAYMENT_TYPE            1670214 non-null  object \n",
      " 19  CODE_REJECT_REASON           1670214 non-null  object \n",
      " 20  NAME_TYPE_SUITE              849809 non-null   object \n",
      " 21  NAME_CLIENT_TYPE             1670214 non-null  object \n",
      " 22  NAME_GOODS_CATEGORY          1670214 non-null  object \n",
      " 23  NAME_PORTFOLIO               1670214 non-null  object \n",
      " 24  NAME_PRODUCT_TYPE            1670214 non-null  object \n",
      " 25  CHANNEL_TYPE                 1670214 non-null  object \n",
      " 26  SELLERPLACE_AREA             1670214 non-null  int64  \n",
      " 27  NAME_SELLER_INDUSTRY         1670214 non-null  object \n",
      " 28  CNT_PAYMENT                  1297984 non-null  float64\n",
      " 29  NAME_YIELD_GROUP             1670214 non-null  object \n",
      " 30  PRODUCT_COMBINATION          1669868 non-null  object \n",
      " 31  DAYS_FIRST_DRAWING           997149 non-null   float64\n",
      " 32  DAYS_FIRST_DUE               997149 non-null   float64\n",
      " 33  DAYS_LAST_DUE_1ST_VERSION    997149 non-null   float64\n",
      " 34  DAYS_LAST_DUE                997149 non-null   float64\n",
      " 35  DAYS_TERMINATION             997149 non-null   float64\n",
      " 36  NFLAG_INSURED_ON_APPROVAL    997149 non-null   float64\n",
      "dtypes: float64(15), int64(6), object(16)\n",
      "memory usage: 471.5+ MB\n"
     ]
    }
   ],
   "source": [
    "df_prevapp.info()"
   ]
  },
  {
   "cell_type": "code",
   "execution_count": 26,
   "id": "2eb75eab",
   "metadata": {},
   "outputs": [
    {
     "data": {
      "text/html": [
       "<div>\n",
       "<style scoped>\n",
       "    .dataframe tbody tr th:only-of-type {\n",
       "        vertical-align: middle;\n",
       "    }\n",
       "\n",
       "    .dataframe tbody tr th {\n",
       "        vertical-align: top;\n",
       "    }\n",
       "\n",
       "    .dataframe thead th {\n",
       "        text-align: right;\n",
       "    }\n",
       "</style>\n",
       "<table border=\"1\" class=\"dataframe\">\n",
       "  <thead>\n",
       "    <tr style=\"text-align: right;\">\n",
       "      <th></th>\n",
       "      <th>SK_ID_CURR</th>\n",
       "      <th>TARGET</th>\n",
       "    </tr>\n",
       "  </thead>\n",
       "  <tbody>\n",
       "    <tr>\n",
       "      <th>0</th>\n",
       "      <td>100001</td>\n",
       "      <td>0.5</td>\n",
       "    </tr>\n",
       "    <tr>\n",
       "      <th>1</th>\n",
       "      <td>100005</td>\n",
       "      <td>0.5</td>\n",
       "    </tr>\n",
       "    <tr>\n",
       "      <th>2</th>\n",
       "      <td>100013</td>\n",
       "      <td>0.5</td>\n",
       "    </tr>\n",
       "    <tr>\n",
       "      <th>3</th>\n",
       "      <td>100028</td>\n",
       "      <td>0.5</td>\n",
       "    </tr>\n",
       "    <tr>\n",
       "      <th>4</th>\n",
       "      <td>100038</td>\n",
       "      <td>0.5</td>\n",
       "    </tr>\n",
       "  </tbody>\n",
       "</table>\n",
       "</div>"
      ],
      "text/plain": [
       "   SK_ID_CURR  TARGET\n",
       "0      100001     0.5\n",
       "1      100005     0.5\n",
       "2      100013     0.5\n",
       "3      100028     0.5\n",
       "4      100038     0.5"
      ]
     },
     "execution_count": 26,
     "metadata": {},
     "output_type": "execute_result"
    }
   ],
   "source": [
    "df_sample.head()"
   ]
  },
  {
   "cell_type": "code",
   "execution_count": 27,
   "id": "fa51567b",
   "metadata": {},
   "outputs": [
    {
     "name": "stdout",
     "output_type": "stream",
     "text": [
      "<class 'pandas.core.frame.DataFrame'>\n",
      "RangeIndex: 48744 entries, 0 to 48743\n",
      "Data columns (total 2 columns):\n",
      " #   Column      Non-Null Count  Dtype  \n",
      "---  ------      --------------  -----  \n",
      " 0   SK_ID_CURR  48744 non-null  int64  \n",
      " 1   TARGET      48744 non-null  float64\n",
      "dtypes: float64(1), int64(1)\n",
      "memory usage: 761.8 KB\n"
     ]
    }
   ],
   "source": [
    "df_sample.info()"
   ]
  },
  {
   "cell_type": "code",
   "execution_count": 28,
   "id": "13b0466f",
   "metadata": {},
   "outputs": [
    {
     "name": "stdout",
     "output_type": "stream",
     "text": [
      "df_apptest\n",
      "SK_ID_CURR                       0\n",
      "NAME_CONTRACT_TYPE               0\n",
      "CODE_GENDER                      0\n",
      "FLAG_OWN_CAR                     0\n",
      "FLAG_OWN_REALTY                  0\n",
      "                              ... \n",
      "AMT_REQ_CREDIT_BUREAU_DAY     6049\n",
      "AMT_REQ_CREDIT_BUREAU_WEEK    6049\n",
      "AMT_REQ_CREDIT_BUREAU_MON     6049\n",
      "AMT_REQ_CREDIT_BUREAU_QRT     6049\n",
      "AMT_REQ_CREDIT_BUREAU_YEAR    6049\n",
      "Length: 121, dtype: int64\n",
      "------------------------------------------------------------------------------------------\n",
      "df_apptrain\n",
      "SK_ID_CURR                        0\n",
      "TARGET                            0\n",
      "NAME_CONTRACT_TYPE                0\n",
      "CODE_GENDER                       0\n",
      "FLAG_OWN_CAR                      0\n",
      "                              ...  \n",
      "AMT_REQ_CREDIT_BUREAU_DAY     41519\n",
      "AMT_REQ_CREDIT_BUREAU_WEEK    41519\n",
      "AMT_REQ_CREDIT_BUREAU_MON     41519\n",
      "AMT_REQ_CREDIT_BUREAU_QRT     41519\n",
      "AMT_REQ_CREDIT_BUREAU_YEAR    41519\n",
      "Length: 122, dtype: int64\n",
      "------------------------------------------------------------------------------------------\n",
      "df_bureaubal\n",
      "SK_ID_BUREAU      0\n",
      "MONTHS_BALANCE    0\n",
      "STATUS            0\n",
      "dtype: int64\n",
      "------------------------------------------------------------------------------------------\n",
      "df_bureau\n",
      "SK_ID_CURR                      0\n",
      "SK_ID_BUREAU                    0\n",
      "CREDIT_ACTIVE                   0\n",
      "CREDIT_CURRENCY                 0\n",
      "DAYS_CREDIT                     0\n",
      "CREDIT_DAY_OVERDUE              0\n",
      "DAYS_CREDIT_ENDDATE        105553\n",
      "DAYS_ENDDATE_FACT          633653\n",
      "AMT_CREDIT_MAX_OVERDUE    1124488\n",
      "CNT_CREDIT_PROLONG              0\n",
      "AMT_CREDIT_SUM                 13\n",
      "AMT_CREDIT_SUM_DEBT        257669\n",
      "AMT_CREDIT_SUM_LIMIT       591780\n",
      "AMT_CREDIT_SUM_OVERDUE          0\n",
      "CREDIT_TYPE                     0\n",
      "DAYS_CREDIT_UPDATE              0\n",
      "AMT_ANNUITY               1226791\n",
      "dtype: int64\n",
      "------------------------------------------------------------------------------------------\n",
      "df_creditcard\n",
      "SK_ID_PREV                         0\n",
      "SK_ID_CURR                         0\n",
      "MONTHS_BALANCE                     0\n",
      "AMT_BALANCE                        0\n",
      "AMT_CREDIT_LIMIT_ACTUAL            0\n",
      "AMT_DRAWINGS_ATM_CURRENT      749816\n",
      "AMT_DRAWINGS_CURRENT               0\n",
      "AMT_DRAWINGS_OTHER_CURRENT    749816\n",
      "AMT_DRAWINGS_POS_CURRENT      749816\n",
      "AMT_INST_MIN_REGULARITY       305236\n",
      "AMT_PAYMENT_CURRENT           767988\n",
      "AMT_PAYMENT_TOTAL_CURRENT          0\n",
      "AMT_RECEIVABLE_PRINCIPAL           0\n",
      "AMT_RECIVABLE                      0\n",
      "AMT_TOTAL_RECEIVABLE               0\n",
      "CNT_DRAWINGS_ATM_CURRENT      749816\n",
      "CNT_DRAWINGS_CURRENT               0\n",
      "CNT_DRAWINGS_OTHER_CURRENT    749816\n",
      "CNT_DRAWINGS_POS_CURRENT      749816\n",
      "CNT_INSTALMENT_MATURE_CUM     305236\n",
      "NAME_CONTRACT_STATUS               0\n",
      "SK_DPD                             0\n",
      "SK_DPD_DEF                         0\n",
      "dtype: int64\n",
      "------------------------------------------------------------------------------------------\n",
      "df_homecredit\n",
      "Unnamed: 0       0\n",
      "Table            0\n",
      "Row              0\n",
      "Description      0\n",
      "Special        133\n",
      "dtype: int64\n",
      "------------------------------------------------------------------------------------------\n",
      "df_payments\n",
      "SK_ID_PREV                   0\n",
      "SK_ID_CURR                   0\n",
      "NUM_INSTALMENT_VERSION       0\n",
      "NUM_INSTALMENT_NUMBER        0\n",
      "DAYS_INSTALMENT              0\n",
      "DAYS_ENTRY_PAYMENT        2905\n",
      "AMT_INSTALMENT               0\n",
      "AMT_PAYMENT               2905\n",
      "dtype: int64\n",
      "------------------------------------------------------------------------------------------\n",
      "df_poscash\n",
      "SK_ID_PREV                   0\n",
      "SK_ID_CURR                   0\n",
      "MONTHS_BALANCE               0\n",
      "CNT_INSTALMENT           26071\n",
      "CNT_INSTALMENT_FUTURE    26087\n",
      "NAME_CONTRACT_STATUS         0\n",
      "SK_DPD                       0\n",
      "SK_DPD_DEF                   0\n",
      "dtype: int64\n",
      "------------------------------------------------------------------------------------------\n",
      "df_prevapp\n",
      "SK_ID_PREV                           0\n",
      "SK_ID_CURR                           0\n",
      "NAME_CONTRACT_TYPE                   0\n",
      "AMT_ANNUITY                     372235\n",
      "AMT_APPLICATION                      0\n",
      "AMT_CREDIT                           1\n",
      "AMT_DOWN_PAYMENT                895844\n",
      "AMT_GOODS_PRICE                 385515\n",
      "WEEKDAY_APPR_PROCESS_START           0\n",
      "HOUR_APPR_PROCESS_START              0\n",
      "FLAG_LAST_APPL_PER_CONTRACT          0\n",
      "NFLAG_LAST_APPL_IN_DAY               0\n",
      "RATE_DOWN_PAYMENT               895844\n",
      "RATE_INTEREST_PRIMARY          1664263\n",
      "RATE_INTEREST_PRIVILEGED       1664263\n",
      "NAME_CASH_LOAN_PURPOSE               0\n",
      "NAME_CONTRACT_STATUS                 0\n",
      "DAYS_DECISION                        0\n",
      "NAME_PAYMENT_TYPE                    0\n",
      "CODE_REJECT_REASON                   0\n",
      "NAME_TYPE_SUITE                 820405\n",
      "NAME_CLIENT_TYPE                     0\n",
      "NAME_GOODS_CATEGORY                  0\n",
      "NAME_PORTFOLIO                       0\n",
      "NAME_PRODUCT_TYPE                    0\n",
      "CHANNEL_TYPE                         0\n",
      "SELLERPLACE_AREA                     0\n",
      "NAME_SELLER_INDUSTRY                 0\n",
      "CNT_PAYMENT                     372230\n",
      "NAME_YIELD_GROUP                     0\n",
      "PRODUCT_COMBINATION                346\n",
      "DAYS_FIRST_DRAWING              673065\n",
      "DAYS_FIRST_DUE                  673065\n",
      "DAYS_LAST_DUE_1ST_VERSION       673065\n",
      "DAYS_LAST_DUE                   673065\n",
      "DAYS_TERMINATION                673065\n",
      "NFLAG_INSURED_ON_APPROVAL       673065\n",
      "dtype: int64\n",
      "------------------------------------------------------------------------------------------\n",
      "df_sample\n",
      "SK_ID_CURR    0\n",
      "TARGET        0\n",
      "dtype: int64\n",
      "------------------------------------------------------------------------------------------\n"
     ]
    }
   ],
   "source": [
    "#nombre de valeurs manquantes par df : \n",
    "for df in dfs : \n",
    "    print(get_df_name(df))\n",
    "    print(df.isna().sum())\n",
    "    print(\"-\"*90)"
   ]
  },
  {
   "cell_type": "markdown",
   "id": "533fd68f",
   "metadata": {},
   "source": [
    "### <a name=\"C122\">Visualisation du MCD</a>"
   ]
  },
  {
   "cell_type": "code",
   "execution_count": 29,
   "id": "e55c86b0",
   "metadata": {},
   "outputs": [
    {
     "data": {
      "image/png": "[encoded data removed]",
      "text/plain": [
       "<PIL.PngImagePlugin.PngImageFile image mode=RGB size=1201x771>"
      ]
     },
     "execution_count": 29,
     "metadata": {},
     "output_type": "execute_result"
    }
   ],
   "source": [
    "response = requests.get(\"https://storage.googleapis.com/kaggle-media/competitions/home-credit/home_credit.png\")\n",
    "img = Image.open(BytesIO(response.content))\n",
    "img"
   ]
  },
  {
   "cell_type": "markdown",
   "id": "2cb2ac98",
   "metadata": {},
   "source": [
    "### <a name=\"C123\">Dataset Description</a>\n",
    "* application_{train|test}.csv : \n",
    "    - This is the main table, broken into two files for Train (with TARGET) and Test (without TARGET). Static data for all applications. \n",
    "    - One row represents one loan in our data sample.\n",
    "\n",
    "* bureau.csv : \n",
    "    - All client's previous credits provided by other financial institutions that were reported to Credit Bureau (for clients who have a loan in our sample). \n",
    "    - For every loan in our sample, there are as many rows as number of credits the client had in Credit Bureau before the application date.\n",
    "\n",
    "* bureau_balance.csv : \n",
    "    - Monthly balances of previous credits in Credit Bureau. \n",
    "    - This table has one row for each month of history of every previous credit reported to Credit Bureau – i.e the table has (#loans in sample * # of relative previous credits * # of months where we have some history observable for the previous credits) rows.\n",
    "    \n",
    "* POS_CASH_balance.csv : \n",
    "    - Monthly balance snapshots of previous POS (point of sales) and cash loans that the applicant had with Home Credit.\n",
    "    - This table has one row for each month of history of every previous credit in Home Credit (consumer credit and cash loans) related to loans in our sample – i.e. the table has (#loans in sample * # of relative previous credits * # of months in which we have some history observable for the previous credits) rows.\n",
    "\n",
    "* credit_card_balance.csv : \n",
    "    - Monthly balance snapshots of previous credit cards that the applicant has with Home Credit.\n",
    "    - This table has one row for each month of history of every previous credit in Home Credit (consumer credit and cash loans) related to loans in our sample – i.e. the table has (#loans in sample * # of relative previous credit cards * # of months where we have some history observable for the previous credit card) rows.\n",
    "\n",
    "* previous_application.csv : \n",
    "    - All previous applications for Home Credit loans of clients who have loans in our sample.\n",
    "    - There is one row for each previous application related to loans in our data sample.\n",
    "\n",
    "* installments_payments.csv : \n",
    "    - Repayment history for the previously disbursed credits in Home Credit related to the loans in our sample.\n",
    "    - There is a) one row for every payment that was made plus b) one row each for missed payment.\n",
    "    - One row is equivalent to one payment of one installment OR one installment corresponding to one payment of one previous Home Credit credit related to loans in our sample.\n",
    "\n",
    "* HomeCredit_columns_description.csv : \n",
    "    - This file contains descriptions for the columns in the various data files."
   ]
  },
  {
   "cell_type": "markdown",
   "id": "3fa010e4",
   "metadata": {},
   "source": [
    "# <a name=\"C2\">Feature enginering</a>"
   ]
  },
  {
   "cell_type": "markdown",
   "id": "51f34410",
   "metadata": {},
   "source": [
    "## <a name=\"C21\">Application du Kernel Kaggle</a>\n",
    "\n",
    "* Application d'un kernel Kaggle adapté : https://www.kaggle.com/code/jsaguiar/lightgbm-with-simple-features/script\n",
    "* Entrainement sur un échantillon de données\n"
   ]
  },
  {
   "cell_type": "code",
   "execution_count": 269,
   "id": "197a6903",
   "metadata": {},
   "outputs": [],
   "source": [
    "# HOME CREDIT DEFAULT RISK COMPETITION\n",
    "# Most features are created by applying min, max, mean, sum and var functions to grouped tables. \n",
    "# Little feature selection is done and overfitting might be a problem since many features are related.\n",
    "# The following key ideas were used:\n",
    "# - Divide or subtract important features to get rates (like annuity and income)\n",
    "# - In Bureau Data: create specific features for Active credits and Closed credits\n",
    "# - In Previous Applications: create specific features for Approved and Refused applications\n",
    "# - Modularity: one function for each table (except bureau_balance and application_test)\n",
    "# - One-hot encoding for categorical features\n",
    "# All tables are joined with the application DF using the SK_ID_CURR key (except bureau_balance).\n",
    "# You can use LightGBM with KFold or Stratified KFold.\n",
    "\n",
    "# Update 16/06/2018:\n",
    "# - Added Payment Rate feature\n",
    "# - Removed index from features\n",
    "# - Use standard KFold CV (not stratified)\n",
    "\n",
    "\n",
    "\n",
    "@contextmanager\n",
    "def timer(title):\n",
    "    t0 = time.time()\n",
    "    yield\n",
    "    print(\"{} - done in {:.0f}s\".format(title, time.time() - t0))\n",
    "\n",
    "# One-hot encoding for categorical columns with get_dummies\n",
    "def one_hot_encoder(df, nan_as_category = True):\n",
    "    original_columns = list(df.columns)\n",
    "    categorical_columns = [col for col in df.columns if df[col].dtype == 'object']\n",
    "    df = pd.get_dummies(df, columns= categorical_columns, dummy_na= nan_as_category)\n",
    "    new_columns = [c for c in df.columns if c not in original_columns]\n",
    "    return df, new_columns\n",
    "\n",
    "#on retire la partie test \n",
    "# Preprocess application_train.csv and application_test.csv\n",
    "def application_train_test(num_rows = None, nan_as_category = False):\n",
    "    # Read data and merge\n",
    "    df = pd.read_csv(Path_app_train, nrows= num_rows)\n",
    "    print(\"Train samples: {}\".format(len(df)))\n",
    "    #df = df.append(test_df).reset_index()\n",
    "    # Optional: Remove 4 applications with XNA CODE_GENDER (train set)\n",
    "    df = df[df['CODE_GENDER'] != 'XNA']\n",
    "    \n",
    "    # Categorical features with Binary encode (0 or 1; two categories)\n",
    "    for bin_feature in ['CODE_GENDER', 'FLAG_OWN_CAR', 'FLAG_OWN_REALTY']:\n",
    "        df[bin_feature], uniques = pd.factorize(df[bin_feature])\n",
    "    # Categorical features with One-Hot encode\n",
    "    df, cat_cols = one_hot_encoder(df, nan_as_category)\n",
    "    \n",
    "    # NaN values for DAYS_EMPLOYED: 365.243 -> nan\n",
    "    df['DAYS_EMPLOYED'].replace(365243, np.nan, inplace= True)\n",
    "    # Some simple new features (percentages)\n",
    "    df['DAYS_EMPLOYED_PERC'] = df['DAYS_EMPLOYED'] / df['DAYS_BIRTH']\n",
    "    df['INCOME_CREDIT_PERC'] = df['AMT_INCOME_TOTAL'] / df['AMT_CREDIT']\n",
    "    df['INCOME_PER_PERSON'] = df['AMT_INCOME_TOTAL'] / df['CNT_FAM_MEMBERS']\n",
    "    df['ANNUITY_INCOME_PERC'] = df['AMT_ANNUITY'] / df['AMT_INCOME_TOTAL']\n",
    "    df['PAYMENT_RATE'] = df['AMT_ANNUITY'] / df['AMT_CREDIT']\n",
    "    #del test_df\n",
    "    gc.collect()\n",
    "    return df\n",
    "\n",
    "# Preprocess bureau.csv and bureau_balance.csv\n",
    "def bureau_and_balance(num_rows = None, nan_as_category = True):\n",
    "    bureau = pd.read_csv(Path_bureau, nrows = num_rows)\n",
    "    bb = pd.read_csv(Path_bureau_balance, nrows = num_rows)\n",
    "    bb, bb_cat = one_hot_encoder(bb, nan_as_category)\n",
    "    bureau, bureau_cat = one_hot_encoder(bureau, nan_as_category)\n",
    "    \n",
    "    # Bureau balance: Perform aggregations and merge with bureau.csv\n",
    "    bb_aggregations = {'MONTHS_BALANCE': ['min', 'max', 'size']}\n",
    "    for col in bb_cat:\n",
    "        bb_aggregations[col] = ['mean']\n",
    "    bb_agg = bb.groupby('SK_ID_BUREAU').agg(bb_aggregations)\n",
    "    bb_agg.columns = pd.Index([e[0] + \"_\" + e[1].upper() for e in bb_agg.columns.tolist()])\n",
    "    bureau = bureau.join(bb_agg, how='left', on='SK_ID_BUREAU')\n",
    "    bureau.drop(['SK_ID_BUREAU'], axis=1, inplace= True)\n",
    "    del bb, bb_agg\n",
    "    gc.collect()\n",
    "    \n",
    "    # Bureau and bureau_balance numeric features\n",
    "    num_aggregations = {\n",
    "        'DAYS_CREDIT': ['min', 'max', 'mean', 'var'],\n",
    "        'DAYS_CREDIT_ENDDATE': ['min', 'max', 'mean'],\n",
    "        'DAYS_CREDIT_UPDATE': ['mean'],\n",
    "        'CREDIT_DAY_OVERDUE': ['max', 'mean'],\n",
    "        'AMT_CREDIT_MAX_OVERDUE': ['mean'],\n",
    "        'AMT_CREDIT_SUM': ['max', 'mean', 'sum'],\n",
    "        'AMT_CREDIT_SUM_DEBT': ['max', 'mean', 'sum'],\n",
    "        'AMT_CREDIT_SUM_OVERDUE': ['mean'],\n",
    "        'AMT_CREDIT_SUM_LIMIT': ['mean', 'sum'],\n",
    "        'AMT_ANNUITY': ['max', 'mean'],\n",
    "        'CNT_CREDIT_PROLONG': ['sum'],\n",
    "        'MONTHS_BALANCE_MIN': ['min'],\n",
    "        'MONTHS_BALANCE_MAX': ['max'],\n",
    "        'MONTHS_BALANCE_SIZE': ['mean', 'sum']\n",
    "    }\n",
    "    # Bureau and bureau_balance categorical features\n",
    "    cat_aggregations = {}\n",
    "    for cat in bureau_cat: cat_aggregations[cat] = ['mean']\n",
    "    for cat in bb_cat: cat_aggregations[cat + \"_MEAN\"] = ['mean']\n",
    "    \n",
    "    bureau_agg = bureau.groupby('SK_ID_CURR').agg({**num_aggregations, **cat_aggregations})\n",
    "    bureau_agg.columns = pd.Index(['BURO_' + e[0] + \"_\" + e[1].upper() for e in bureau_agg.columns.tolist()])\n",
    "    # Bureau: Active credits - using only numerical aggregations\n",
    "    active = bureau[bureau['CREDIT_ACTIVE_Active'] == 1]\n",
    "    active_agg = active.groupby('SK_ID_CURR').agg(num_aggregations)\n",
    "    active_agg.columns = pd.Index(['ACTIVE_' + e[0] + \"_\" + e[1].upper() for e in active_agg.columns.tolist()])\n",
    "    bureau_agg = bureau_agg.join(active_agg, how='left', on='SK_ID_CURR')\n",
    "    del active, active_agg\n",
    "    gc.collect()\n",
    "    # Bureau: Closed credits - using only numerical aggregations\n",
    "    closed = bureau[bureau['CREDIT_ACTIVE_Closed'] == 1]\n",
    "    closed_agg = closed.groupby('SK_ID_CURR').agg(num_aggregations)\n",
    "    closed_agg.columns = pd.Index(['CLOSED_' + e[0] + \"_\" + e[1].upper() for e in closed_agg.columns.tolist()])\n",
    "    bureau_agg = bureau_agg.join(closed_agg, how='left', on='SK_ID_CURR')\n",
    "    del closed, closed_agg, bureau\n",
    "    gc.collect()\n",
    "    return bureau_agg\n",
    "\n",
    "# Preprocess previous_applications.csv\n",
    "def previous_applications(num_rows = None, nan_as_category = True):\n",
    "    prev = pd.read_csv(Path_previous_app, nrows = num_rows)\n",
    "    prev, cat_cols = one_hot_encoder(prev, nan_as_category= True)\n",
    "    # Days 365.243 values -> nan\n",
    "    prev['DAYS_FIRST_DRAWING'].replace(365243, np.nan, inplace= True)\n",
    "    prev['DAYS_FIRST_DUE'].replace(365243, np.nan, inplace= True)\n",
    "    prev['DAYS_LAST_DUE_1ST_VERSION'].replace(365243, np.nan, inplace= True)\n",
    "    prev['DAYS_LAST_DUE'].replace(365243, np.nan, inplace= True)\n",
    "    prev['DAYS_TERMINATION'].replace(365243, np.nan, inplace= True)\n",
    "    # Add feature: value ask / value received percentage\n",
    "    prev['APP_CREDIT_PERC'] = prev['AMT_APPLICATION'] / prev['AMT_CREDIT']\n",
    "    # Previous applications numeric features\n",
    "    num_aggregations = {\n",
    "        'AMT_ANNUITY': ['min', 'max', 'mean'],\n",
    "        'AMT_APPLICATION': ['min', 'max', 'mean'],\n",
    "        'AMT_CREDIT': ['min', 'max', 'mean'],\n",
    "        'APP_CREDIT_PERC': ['min', 'max', 'mean', 'var'],\n",
    "        'AMT_DOWN_PAYMENT': ['min', 'max', 'mean'],\n",
    "        'AMT_GOODS_PRICE': ['min', 'max', 'mean'],\n",
    "        'HOUR_APPR_PROCESS_START': ['min', 'max', 'mean'],\n",
    "        'RATE_DOWN_PAYMENT': ['min', 'max', 'mean'],\n",
    "        'DAYS_DECISION': ['min', 'max', 'mean'],\n",
    "        'CNT_PAYMENT': ['mean', 'sum'],\n",
    "    }\n",
    "    # Previous applications categorical features\n",
    "    cat_aggregations = {}\n",
    "    for cat in cat_cols:\n",
    "        cat_aggregations[cat] = ['mean']\n",
    "    \n",
    "    prev_agg = prev.groupby('SK_ID_CURR').agg({**num_aggregations, **cat_aggregations})\n",
    "    prev_agg.columns = pd.Index(['PREV_' + e[0] + \"_\" + e[1].upper() for e in prev_agg.columns.tolist()])\n",
    "    # Previous Applications: Approved Applications - only numerical features\n",
    "    approved = prev[prev['NAME_CONTRACT_STATUS_Approved'] == 1]\n",
    "    approved_agg = approved.groupby('SK_ID_CURR').agg(num_aggregations)\n",
    "    approved_agg.columns = pd.Index(['APPROVED_' + e[0] + \"_\" + e[1].upper() for e in approved_agg.columns.tolist()])\n",
    "    prev_agg = prev_agg.join(approved_agg, how='left', on='SK_ID_CURR')\n",
    "    # Previous Applications: Refused Applications - only numerical features\n",
    "    refused = prev[prev['NAME_CONTRACT_STATUS_Refused'] == 1]\n",
    "    refused_agg = refused.groupby('SK_ID_CURR').agg(num_aggregations)\n",
    "    refused_agg.columns = pd.Index(['REFUSED_' + e[0] + \"_\" + e[1].upper() for e in refused_agg.columns.tolist()])\n",
    "    prev_agg = prev_agg.join(refused_agg, how='left', on='SK_ID_CURR')\n",
    "    del refused, refused_agg, approved, approved_agg, prev\n",
    "    gc.collect()\n",
    "    return prev_agg\n",
    "\n",
    "# Preprocess POS_CASH_balance.csv\n",
    "def pos_cash(num_rows = None, nan_as_category = True):\n",
    "    pos = pd.read_csv(Path_poscash, nrows = num_rows)\n",
    "    pos, cat_cols = one_hot_encoder(pos, nan_as_category= True)\n",
    "    # Features\n",
    "    aggregations = {\n",
    "        'MONTHS_BALANCE': ['max', 'mean', 'size'],\n",
    "        'SK_DPD': ['max', 'mean'],\n",
    "        'SK_DPD_DEF': ['max', 'mean']\n",
    "    }\n",
    "    for cat in cat_cols:\n",
    "        aggregations[cat] = ['mean']\n",
    "    \n",
    "    pos_agg = pos.groupby('SK_ID_CURR').agg(aggregations)\n",
    "    pos_agg.columns = pd.Index(['POS_' + e[0] + \"_\" + e[1].upper() for e in pos_agg.columns.tolist()])\n",
    "    # Count pos cash accounts\n",
    "    pos_agg['POS_COUNT'] = pos.groupby('SK_ID_CURR').size()\n",
    "    del pos\n",
    "    gc.collect()\n",
    "    return pos_agg\n",
    "\n",
    "# Preprocess installments_payments.csv\n",
    "def installments_payments(num_rows = None, nan_as_category = True):\n",
    "    ins = pd.read_csv(Path_instpayments, nrows = num_rows)\n",
    "    ins, cat_cols = one_hot_encoder(ins, nan_as_category= True)\n",
    "    # Percentage and difference paid in each installment (amount paid and installment value)\n",
    "    ins['PAYMENT_PERC'] = ins['AMT_PAYMENT'] / ins['AMT_INSTALMENT']\n",
    "    ins['PAYMENT_DIFF'] = ins['AMT_INSTALMENT'] - ins['AMT_PAYMENT']\n",
    "    # Days past due and days before due (no negative values)\n",
    "    ins['DPD'] = ins['DAYS_ENTRY_PAYMENT'] - ins['DAYS_INSTALMENT']\n",
    "    ins['DBD'] = ins['DAYS_INSTALMENT'] - ins['DAYS_ENTRY_PAYMENT']\n",
    "    ins['DPD'] = ins['DPD'].apply(lambda x: x if x > 0 else 0)\n",
    "    ins['DBD'] = ins['DBD'].apply(lambda x: x if x > 0 else 0)\n",
    "    # Features: Perform aggregations\n",
    "    aggregations = {\n",
    "        'NUM_INSTALMENT_VERSION': ['nunique'],\n",
    "        'DPD': ['max', 'mean', 'sum'],\n",
    "        'DBD': ['max', 'mean', 'sum'],\n",
    "        'PAYMENT_PERC': ['max', 'mean', 'sum', 'var'],\n",
    "        'PAYMENT_DIFF': ['max', 'mean', 'sum', 'var'],\n",
    "        'AMT_INSTALMENT': ['max', 'mean', 'sum'],\n",
    "        'AMT_PAYMENT': ['min', 'max', 'mean', 'sum'],\n",
    "        'DAYS_ENTRY_PAYMENT': ['max', 'mean', 'sum']\n",
    "    }\n",
    "    for cat in cat_cols:\n",
    "        aggregations[cat] = ['mean']\n",
    "    ins_agg = ins.groupby('SK_ID_CURR').agg(aggregations)\n",
    "    ins_agg.columns = pd.Index(['INSTAL_' + e[0] + \"_\" + e[1].upper() for e in ins_agg.columns.tolist()])\n",
    "    # Count installments accounts\n",
    "    ins_agg['INSTAL_COUNT'] = ins.groupby('SK_ID_CURR').size()\n",
    "    del ins\n",
    "    gc.collect()\n",
    "    return ins_agg\n",
    "\n",
    "# Preprocess credit_card_balance.csv\n",
    "def credit_card_balance(num_rows = None, nan_as_category = True):\n",
    "    cc = pd.read_csv(Path_creditcard_balance, nrows = num_rows)\n",
    "    cc, cat_cols = one_hot_encoder(cc, nan_as_category= True)\n",
    "    # General aggregations\n",
    "    cc.drop(['SK_ID_PREV'], axis= 1, inplace = True)\n",
    "    cc_agg = cc.groupby('SK_ID_CURR').agg(['min', 'max', 'mean', 'sum', 'var'])\n",
    "    cc_agg.columns = pd.Index(['CC_' + e[0] + \"_\" + e[1].upper() for e in cc_agg.columns.tolist()])\n",
    "    # Count credit card lines\n",
    "    cc_agg['CC_COUNT'] = cc.groupby('SK_ID_CURR').size()\n",
    "    del cc\n",
    "    gc.collect()\n",
    "    return cc_agg    "
   ]
  },
  {
   "cell_type": "markdown",
   "id": "ef256841",
   "metadata": {},
   "source": [
    "* Application du kernel sur un sample des données"
   ]
  },
  {
   "cell_type": "code",
   "execution_count": 270,
   "id": "501cc898",
   "metadata": {},
   "outputs": [],
   "source": [
    "#Application du kernel de featuring \n",
    "#puis sauvegarde d'un echantillon des données pour paramétrer le modèle de classification\n",
    "\n",
    "def main(debug = False,num_rows_input=None):\n",
    "    num_rows = 30000 if debug else None\n",
    "    if num_rows_input != None : \n",
    "        num_rows = num_rows_input\n",
    "    \n",
    "    df = application_train_test(num_rows)\n",
    "    with timer(\"Process bureau and bureau_balance\"):\n",
    "        bureau = bureau_and_balance(num_rows)\n",
    "        print(\"Bureau df shape:\", bureau.shape)\n",
    "        df = df.join(bureau, how='left', on='SK_ID_CURR')\n",
    "        del bureau\n",
    "        gc.collect()\n",
    "    with timer(\"Process previous_applications\"):\n",
    "        prev = previous_applications(num_rows)\n",
    "        print(\"Previous applications df shape:\", prev.shape)\n",
    "        df = df.join(prev, how='left', on='SK_ID_CURR')\n",
    "        del prev\n",
    "        gc.collect()\n",
    "    with timer(\"Process POS-CASH balance\"):\n",
    "        pos = pos_cash(num_rows)\n",
    "        print(\"Pos-cash balance df shape:\", pos.shape)\n",
    "        df = df.join(pos, how='left', on='SK_ID_CURR')\n",
    "        del pos\n",
    "        gc.collect()\n",
    "    with timer(\"Process installments payments\"):\n",
    "        ins = installments_payments(num_rows)\n",
    "        print(\"Installments payments df shape:\", ins.shape)\n",
    "        df = df.join(ins, how='left', on='SK_ID_CURR')\n",
    "        del ins\n",
    "        gc.collect()\n",
    "    with timer(\"Process credit card balance\"):\n",
    "        cc = credit_card_balance(num_rows)\n",
    "        print(\"Credit card balance df shape:\", cc.shape)\n",
    "        df = df.join(cc, how='left', on='SK_ID_CURR')\n",
    "        del cc\n",
    "        gc.collect()\n",
    "        df.to_csv(\"/Users/adpro/Desktop/OCR_DS/DS_P7/Data/df_samp30k.csv\")"
   ]
  },
  {
   "cell_type": "code",
   "execution_count": 271,
   "id": "22251ac1",
   "metadata": {},
   "outputs": [
    {
     "name": "stdout",
     "output_type": "stream",
     "text": [
      "Train samples: 30000\n",
      "Bureau df shape: (6076, 111)\n",
      "Process bureau and bureau_balance - done in 1s\n",
      "Previous applications df shape: (27837, 246)\n",
      "Process previous_applications - done in 1s\n",
      "Pos-cash balance df shape: (27135, 15)\n",
      "Process POS-CASH balance - done in 1s\n",
      "Installments payments df shape: (22446, 26)\n",
      "Process installments payments - done in 1s\n",
      "Credit card balance df shape: (24459, 131)\n",
      "Process credit card balance - done in 11s\n",
      "Full model run - done in 15s\n"
     ]
    }
   ],
   "source": [
    "#application des fonction \n",
    "if __name__ == \"__main__\":\n",
    "    with timer(\"Full model run\"):\n",
    "        main(True,30000)"
   ]
  },
  {
   "cell_type": "markdown",
   "id": "1f7f5428",
   "metadata": {},
   "source": [
    "## <a name=\"C22\">Pré-processing - des variables</a>"
   ]
  },
  {
   "cell_type": "code",
   "execution_count": 31,
   "id": "7a1967ed",
   "metadata": {},
   "outputs": [],
   "source": [
    "#importation de la df echantillon : \n",
    "df_samp30k = pd.read_csv(\"/Users/adpro/Desktop/OCR_DS/DS_P7/Data/df_samp30k.csv\", sep=\",\")"
   ]
  },
  {
   "cell_type": "markdown",
   "id": "accd48a5",
   "metadata": {},
   "source": [
    "* adaptation du noms des colonnes pour les algorithmes et élimination des colonnes vides"
   ]
  },
  {
   "cell_type": "code",
   "execution_count": 32,
   "id": "9c196501",
   "metadata": {},
   "outputs": [
    {
     "data": {
      "text/html": [
       "<div>\n",
       "<style scoped>\n",
       "    .dataframe tbody tr th:only-of-type {\n",
       "        vertical-align: middle;\n",
       "    }\n",
       "\n",
       "    .dataframe tbody tr th {\n",
       "        vertical-align: top;\n",
       "    }\n",
       "\n",
       "    .dataframe thead th {\n",
       "        text-align: right;\n",
       "    }\n",
       "</style>\n",
       "<table border=\"1\" class=\"dataframe\">\n",
       "  <thead>\n",
       "    <tr style=\"text-align: right;\">\n",
       "      <th></th>\n",
       "      <th>Unnamed0</th>\n",
       "      <th>SK_ID_CURR</th>\n",
       "      <th>TARGET</th>\n",
       "      <th>CODE_GENDER</th>\n",
       "      <th>FLAG_OWN_CAR</th>\n",
       "      <th>FLAG_OWN_REALTY</th>\n",
       "      <th>CNT_CHILDREN</th>\n",
       "      <th>AMT_INCOME_TOTAL</th>\n",
       "      <th>AMT_CREDIT</th>\n",
       "      <th>AMT_ANNUITY</th>\n",
       "      <th>...</th>\n",
       "      <th>CC_NAME_CONTRACT_STATUS_Signed_MAX</th>\n",
       "      <th>CC_NAME_CONTRACT_STATUS_Signed_MEAN</th>\n",
       "      <th>CC_NAME_CONTRACT_STATUS_Signed_SUM</th>\n",
       "      <th>CC_NAME_CONTRACT_STATUS_Signed_VAR</th>\n",
       "      <th>CC_NAME_CONTRACT_STATUS_nan_MIN</th>\n",
       "      <th>CC_NAME_CONTRACT_STATUS_nan_MAX</th>\n",
       "      <th>CC_NAME_CONTRACT_STATUS_nan_MEAN</th>\n",
       "      <th>CC_NAME_CONTRACT_STATUS_nan_SUM</th>\n",
       "      <th>CC_NAME_CONTRACT_STATUS_nan_VAR</th>\n",
       "      <th>CC_COUNT</th>\n",
       "    </tr>\n",
       "  </thead>\n",
       "  <tbody>\n",
       "    <tr>\n",
       "      <th>0</th>\n",
       "      <td>0</td>\n",
       "      <td>100002</td>\n",
       "      <td>1</td>\n",
       "      <td>0</td>\n",
       "      <td>0</td>\n",
       "      <td>0</td>\n",
       "      <td>0</td>\n",
       "      <td>202500.0</td>\n",
       "      <td>406597.5</td>\n",
       "      <td>24700.5</td>\n",
       "      <td>...</td>\n",
       "      <td>NaN</td>\n",
       "      <td>NaN</td>\n",
       "      <td>NaN</td>\n",
       "      <td>NaN</td>\n",
       "      <td>NaN</td>\n",
       "      <td>NaN</td>\n",
       "      <td>NaN</td>\n",
       "      <td>NaN</td>\n",
       "      <td>NaN</td>\n",
       "      <td>NaN</td>\n",
       "    </tr>\n",
       "    <tr>\n",
       "      <th>1</th>\n",
       "      <td>1</td>\n",
       "      <td>100003</td>\n",
       "      <td>0</td>\n",
       "      <td>1</td>\n",
       "      <td>0</td>\n",
       "      <td>1</td>\n",
       "      <td>0</td>\n",
       "      <td>270000.0</td>\n",
       "      <td>1293502.5</td>\n",
       "      <td>35698.5</td>\n",
       "      <td>...</td>\n",
       "      <td>NaN</td>\n",
       "      <td>NaN</td>\n",
       "      <td>NaN</td>\n",
       "      <td>NaN</td>\n",
       "      <td>NaN</td>\n",
       "      <td>NaN</td>\n",
       "      <td>NaN</td>\n",
       "      <td>NaN</td>\n",
       "      <td>NaN</td>\n",
       "      <td>NaN</td>\n",
       "    </tr>\n",
       "    <tr>\n",
       "      <th>2</th>\n",
       "      <td>2</td>\n",
       "      <td>100004</td>\n",
       "      <td>0</td>\n",
       "      <td>0</td>\n",
       "      <td>1</td>\n",
       "      <td>0</td>\n",
       "      <td>0</td>\n",
       "      <td>67500.0</td>\n",
       "      <td>135000.0</td>\n",
       "      <td>6750.0</td>\n",
       "      <td>...</td>\n",
       "      <td>NaN</td>\n",
       "      <td>NaN</td>\n",
       "      <td>NaN</td>\n",
       "      <td>NaN</td>\n",
       "      <td>NaN</td>\n",
       "      <td>NaN</td>\n",
       "      <td>NaN</td>\n",
       "      <td>NaN</td>\n",
       "      <td>NaN</td>\n",
       "      <td>NaN</td>\n",
       "    </tr>\n",
       "    <tr>\n",
       "      <th>3</th>\n",
       "      <td>3</td>\n",
       "      <td>100006</td>\n",
       "      <td>0</td>\n",
       "      <td>1</td>\n",
       "      <td>0</td>\n",
       "      <td>0</td>\n",
       "      <td>0</td>\n",
       "      <td>135000.0</td>\n",
       "      <td>312682.5</td>\n",
       "      <td>29686.5</td>\n",
       "      <td>...</td>\n",
       "      <td>NaN</td>\n",
       "      <td>NaN</td>\n",
       "      <td>NaN</td>\n",
       "      <td>NaN</td>\n",
       "      <td>NaN</td>\n",
       "      <td>NaN</td>\n",
       "      <td>NaN</td>\n",
       "      <td>NaN</td>\n",
       "      <td>NaN</td>\n",
       "      <td>NaN</td>\n",
       "    </tr>\n",
       "    <tr>\n",
       "      <th>4</th>\n",
       "      <td>4</td>\n",
       "      <td>100007</td>\n",
       "      <td>0</td>\n",
       "      <td>0</td>\n",
       "      <td>0</td>\n",
       "      <td>0</td>\n",
       "      <td>0</td>\n",
       "      <td>121500.0</td>\n",
       "      <td>513000.0</td>\n",
       "      <td>21865.5</td>\n",
       "      <td>...</td>\n",
       "      <td>NaN</td>\n",
       "      <td>NaN</td>\n",
       "      <td>NaN</td>\n",
       "      <td>NaN</td>\n",
       "      <td>NaN</td>\n",
       "      <td>NaN</td>\n",
       "      <td>NaN</td>\n",
       "      <td>NaN</td>\n",
       "      <td>NaN</td>\n",
       "      <td>NaN</td>\n",
       "    </tr>\n",
       "  </tbody>\n",
       "</table>\n",
       "<p>5 rows × 775 columns</p>\n",
       "</div>"
      ],
      "text/plain": [
       "   Unnamed0  SK_ID_CURR  TARGET  CODE_GENDER  FLAG_OWN_CAR  FLAG_OWN_REALTY  \\\n",
       "0         0      100002       1            0             0                0   \n",
       "1         1      100003       0            1             0                1   \n",
       "2         2      100004       0            0             1                0   \n",
       "3         3      100006       0            1             0                0   \n",
       "4         4      100007       0            0             0                0   \n",
       "\n",
       "   CNT_CHILDREN  AMT_INCOME_TOTAL  AMT_CREDIT  AMT_ANNUITY  ...  \\\n",
       "0             0          202500.0    406597.5      24700.5  ...   \n",
       "1             0          270000.0   1293502.5      35698.5  ...   \n",
       "2             0           67500.0    135000.0       6750.0  ...   \n",
       "3             0          135000.0    312682.5      29686.5  ...   \n",
       "4             0          121500.0    513000.0      21865.5  ...   \n",
       "\n",
       "   CC_NAME_CONTRACT_STATUS_Signed_MAX  CC_NAME_CONTRACT_STATUS_Signed_MEAN  \\\n",
       "0                                 NaN                                  NaN   \n",
       "1                                 NaN                                  NaN   \n",
       "2                                 NaN                                  NaN   \n",
       "3                                 NaN                                  NaN   \n",
       "4                                 NaN                                  NaN   \n",
       "\n",
       "   CC_NAME_CONTRACT_STATUS_Signed_SUM  CC_NAME_CONTRACT_STATUS_Signed_VAR  \\\n",
       "0                                 NaN                                 NaN   \n",
       "1                                 NaN                                 NaN   \n",
       "2                                 NaN                                 NaN   \n",
       "3                                 NaN                                 NaN   \n",
       "4                                 NaN                                 NaN   \n",
       "\n",
       "   CC_NAME_CONTRACT_STATUS_nan_MIN  CC_NAME_CONTRACT_STATUS_nan_MAX  \\\n",
       "0                              NaN                              NaN   \n",
       "1                              NaN                              NaN   \n",
       "2                              NaN                              NaN   \n",
       "3                              NaN                              NaN   \n",
       "4                              NaN                              NaN   \n",
       "\n",
       "   CC_NAME_CONTRACT_STATUS_nan_MEAN  CC_NAME_CONTRACT_STATUS_nan_SUM  \\\n",
       "0                               NaN                              NaN   \n",
       "1                               NaN                              NaN   \n",
       "2                               NaN                              NaN   \n",
       "3                               NaN                              NaN   \n",
       "4                               NaN                              NaN   \n",
       "\n",
       "   CC_NAME_CONTRACT_STATUS_nan_VAR  CC_COUNT  \n",
       "0                              NaN       NaN  \n",
       "1                              NaN       NaN  \n",
       "2                              NaN       NaN  \n",
       "3                              NaN       NaN  \n",
       "4                              NaN       NaN  \n",
       "\n",
       "[5 rows x 775 columns]"
      ]
     },
     "execution_count": 32,
     "metadata": {},
     "output_type": "execute_result"
    }
   ],
   "source": [
    "# Change columns names ([LightGBM] Do not support special JSON characters in feature name.)\n",
    "new_names = {col: re.sub(r'[^A-Za-z0-9_]+', '', col) for col in df_samp30k.columns}\n",
    "new_n_list = list(new_names.values())\n",
    "# [LightGBM] Feature appears more than one time.\n",
    "new_names = {col: f'{new_col}_{i}' if new_col in new_n_list[:i] else new_col for i, (col, new_col) in enumerate(new_names.items())}\n",
    "df_samp30k = df_samp30k.rename(columns=new_names)\n",
    "df_samp30k.head(5)"
   ]
  },
  {
   "cell_type": "code",
   "execution_count": 33,
   "id": "dba53efb",
   "metadata": {},
   "outputs": [],
   "source": [
    "df_samp30k = df_samp30k.drop([\"Unnamed0\"],1)"
   ]
  },
  {
   "cell_type": "code",
   "execution_count": 34,
   "id": "7f589df6",
   "metadata": {},
   "outputs": [
    {
     "name": "stdout",
     "output_type": "stream",
     "text": [
      "(30000, 774)\n",
      "(0, 774)\n"
     ]
    }
   ],
   "source": [
    "train_df = df_samp30k[df_samp30k['TARGET'].notnull()]\n",
    "test_df = df_samp30k[df_samp30k['TARGET'].isnull()]\n",
    "print(train_df.shape)\n",
    "print(test_df.shape)"
   ]
  },
  {
   "cell_type": "code",
   "execution_count": 35,
   "id": "8ad3e6d5",
   "metadata": {},
   "outputs": [],
   "source": [
    "feats = [f for f in train_df.columns if f not in ['TARGET','SK_ID_CURR','SK_ID_BUREAU','SK_ID_PREV','index']]\n",
    "df_feats = train_df[feats]"
   ]
  },
  {
   "cell_type": "markdown",
   "id": "4776e8a3",
   "metadata": {},
   "source": [
    "* Elimination des colonnes vides"
   ]
  },
  {
   "cell_type": "code",
   "execution_count": 36,
   "id": "902a8134",
   "metadata": {},
   "outputs": [
    {
     "data": {
      "text/plain": [
       "15809854"
      ]
     },
     "execution_count": 36,
     "metadata": {},
     "output_type": "execute_result"
    }
   ],
   "source": [
    "y=train_df['TARGET']\n",
    "X=df_feats\n",
    "X.isnull().sum().sum()"
   ]
  },
  {
   "cell_type": "code",
   "execution_count": 37,
   "id": "1f26347f",
   "metadata": {},
   "outputs": [
    {
     "data": {
      "text/plain": [
       "540000"
      ]
     },
     "execution_count": 37,
     "metadata": {},
     "output_type": "execute_result"
    }
   ],
   "source": [
    "#Complétion des valeurs manquantes\n",
    "X = X.fillna(X.median())\n",
    "X.isnull().sum().sum()"
   ]
  },
  {
   "cell_type": "code",
   "execution_count": 38,
   "id": "d05da974",
   "metadata": {},
   "outputs": [
    {
     "data": {
      "text/plain": [
       "BURO_MONTHS_BALANCE_MIN_MIN        30000\n",
       "BURO_MONTHS_BALANCE_MAX_MAX        30000\n",
       "BURO_MONTHS_BALANCE_SIZE_MEAN      30000\n",
       "BURO_STATUS_0_MEAN_MEAN            30000\n",
       "BURO_STATUS_1_MEAN_MEAN            30000\n",
       "BURO_STATUS_2_MEAN_MEAN            30000\n",
       "BURO_STATUS_3_MEAN_MEAN            30000\n",
       "BURO_STATUS_4_MEAN_MEAN            30000\n",
       "BURO_STATUS_5_MEAN_MEAN            30000\n",
       "BURO_STATUS_C_MEAN_MEAN            30000\n",
       "BURO_STATUS_X_MEAN_MEAN            30000\n",
       "BURO_STATUS_nan_MEAN_MEAN          30000\n",
       "ACTIVE_MONTHS_BALANCE_MIN_MIN      30000\n",
       "ACTIVE_MONTHS_BALANCE_MAX_MAX      30000\n",
       "ACTIVE_MONTHS_BALANCE_SIZE_MEAN    30000\n",
       "CLOSED_MONTHS_BALANCE_MIN_MIN      30000\n",
       "CLOSED_MONTHS_BALANCE_MAX_MAX      30000\n",
       "CLOSED_MONTHS_BALANCE_SIZE_MEAN    30000\n",
       "dtype: int64"
      ]
     },
     "execution_count": 38,
     "metadata": {},
     "output_type": "execute_result"
    }
   ],
   "source": [
    "#affichage des variables qui on encore des valeurs manquantes\n",
    "nan_cols = [i for i in X.columns if X[i].isnull().any()]\n",
    "X[nan_cols].isnull().sum()"
   ]
  },
  {
   "cell_type": "code",
   "execution_count": 39,
   "id": "4f95543c",
   "metadata": {},
   "outputs": [
    {
     "data": {
      "text/plain": [
       "0"
      ]
     },
     "execution_count": 39,
     "metadata": {},
     "output_type": "execute_result"
    }
   ],
   "source": [
    "X = X.dropna(how='all',axis=1)\n",
    "X.isnull().sum().sum()"
   ]
  },
  {
   "cell_type": "markdown",
   "id": "b5ba095b",
   "metadata": {},
   "source": [
    "## <a name=\"C23\">Split des données & Resampling</a>"
   ]
  },
  {
   "cell_type": "code",
   "execution_count": 43,
   "id": "e595b5c7",
   "metadata": {},
   "outputs": [
    {
     "name": "stdout",
     "output_type": "stream",
     "text": [
      "Label 1 avant SMOTE : 2403\n",
      "Label 0 avant SMOTE : 27597\n"
     ]
    }
   ],
   "source": [
    "#les données sont umbalanced : \n",
    "print(\"Label 1 avant SMOTE : {}\".format(sum(y==1)))\n",
    "print(\"Label 0 avant SMOTE : {}\".format(sum(y==0)))"
   ]
  },
  {
   "cell_type": "code",
   "execution_count": 44,
   "id": "94e612d6",
   "metadata": {},
   "outputs": [],
   "source": [
    "X_train, X_test, y_train, y_test = train_test_split(X, y, test_size=0.2, random_state=42, stratify=y)\n",
    "\n",
    "X_train = pd.DataFrame(X_train.values, columns=X.columns)\n",
    "X_test  = pd.DataFrame(X_test.values, columns=X.columns)\n",
    "y_train = y_train.values\n",
    "y_test  = y_test.values"
   ]
  },
  {
   "cell_type": "code",
   "execution_count": 45,
   "id": "2bb3a35d",
   "metadata": {},
   "outputs": [
    {
     "name": "stdout",
     "output_type": "stream",
     "text": [
      "Label 1 train avant SMOTE : 1922\n",
      "Label 0 train avant SMOTE : 22078\n",
      "Label 1 test avant SMOTE : 481\n",
      "Label 0 test avant SMOTE : 5519\n"
     ]
    }
   ],
   "source": [
    "#les données sont umbalanced : \n",
    "print(\"Label 1 train avant SMOTE : {}\".format(sum(y_train==1)))\n",
    "print(\"Label 0 train avant SMOTE : {}\".format(sum(y_train==0)))\n",
    "print(\"Label 1 test avant SMOTE : {}\".format(sum(y_test==1)))\n",
    "print(\"Label 0 test avant SMOTE : {}\".format(sum(y_test==0)))"
   ]
  },
  {
   "cell_type": "code",
   "execution_count": 46,
   "id": "ba766dd2",
   "metadata": {},
   "outputs": [
    {
     "name": "stdout",
     "output_type": "stream",
     "text": [
      "Label 1 après SMOTE : 22078\n",
      "Label 0 après SMOTE : 22078\n"
     ]
    }
   ],
   "source": [
    "sm = SMOTE(random_state=42)\n",
    "X_res, y_res = sm.fit_resample(X_train, y_train)\n",
    "\n",
    "print(\"Label 1 après SMOTE : {}\".format(sum(y_res==1)))\n",
    "print(\"Label 0 après SMOTE : {}\".format(sum(y_res==0)))"
   ]
  },
  {
   "cell_type": "code",
   "execution_count": 51,
   "id": "6bad9f31",
   "metadata": {},
   "outputs": [
    {
     "data": {
      "image/png": "[encoded data removed]",
      "text/plain": [
       "<Figure size 800x600 with 1 Axes>"
      ]
     },
     "metadata": {},
     "output_type": "display_data"
    }
   ],
   "source": [
    "#graphique représentant le nombre de clients selon leur solvablité avec ou sans resampling \n",
    "height = [sum(y_train==1),sum(y_train==0), sum(y_res==1),sum(y_res==0)]\n",
    "bars = ('solvable_train', 'nonsolvable_train', 'solvable_smote', 'nonsolvable_smote')\n",
    "y_pos = np.arange(len(bars))\n",
    "plt.figure(figsize=(8, 6))\n",
    "plt.bar(y_pos, height)\n",
    "plt.xticks(y_pos, bars)\n",
    "plt.title(\"Nombre de clients par solvabilité sans et avec resampling\")\n",
    "plt.show()"
   ]
  },
  {
   "cell_type": "markdown",
   "id": "2516c98e",
   "metadata": {},
   "source": [
    "# <a name=\"C3\"> Scoring Model </a>\n",
    "## <a name=\"C31\"> Création du score métier </a>"
   ]
  },
  {
   "cell_type": "code",
   "execution_count": 717,
   "id": "2cd9ca3c",
   "metadata": {},
   "outputs": [],
   "source": [
    "import math\n",
    "from math import *\n",
    "\n",
    "#Fonction indicateteur risque : \n",
    "def indic_r(y_test, y_pred):\n",
    "    \"\"\"\n",
    "    fonction visant à créer un score métier retournant la qualité du modèle selon le nombre : \n",
    "    - du manque à gagner : faux négatifs\n",
    "    - des mauvais investissement : faux positifs\n",
    "    nous allons donner plus de poids aux fp qu'aux fn.\n",
    "    Le score varie entre -1 et 1. \n",
    "    \"\"\"\n",
    "\n",
    "    fn_value=5\n",
    "    fp_value=15\n",
    "    tp_value=0.1\n",
    "    tn_value=3\n",
    "    \n",
    "    #Confusion Matrix\n",
    "    cm = confusion_matrix(y_test, y_pred)\n",
    "    \n",
    "    #True Negatifs : Clients non solvables identifiés comme tels\n",
    "    tn = cm[0, 0]\n",
    "    #False Negatifs : Clients identifiés comme non solvables alors qu'ils le sont\n",
    "    fn = cm[1, 0]\n",
    "    #False Positifs : Clients identifiés comme solvables alors qu'ils ne le sont pas\n",
    "    fp = cm[0, 1]\n",
    "    #True Positifs : Clients solvables identifiés comme tels\n",
    "    tp = cm[1, 1]\n",
    "    \n",
    "    #nombre de cas totaux ponderé : \n",
    "    tot_sum = tn*tn_value+fn*fn_value+tp*tp_value+fp*fp_value\n",
    "\n",
    "    #sommes pondérés cas mal identifés \n",
    "    erro_sum  = fp*fp_value + fn*fn_value\n",
    "    \n",
    "    #somme pondéré des cas bien identifiés : \n",
    "    corr_sum = tp*tp_value + tn*tn_value \n",
    "\n",
    "    #indice de risque : \n",
    "    risque_score = 1- ((corr_sum - erro_sum) / tot_sum)\n",
    "    \n",
    "    \n",
    "    return risque_score"
   ]
  },
  {
   "cell_type": "markdown",
   "id": "4b0df801",
   "metadata": {},
   "source": [
    "## <a name=\"C32\"> Comparaison de model </a>\n",
    "### <a name=\"C321\"> KMeans </a>"
   ]
  },
  {
   "cell_type": "code",
   "execution_count": 404,
   "id": "26732ae6",
   "metadata": {},
   "outputs": [],
   "source": [
    "from sklearn import cluster\n",
    "from sklearn.cluster import KMeans"
   ]
  },
  {
   "cell_type": "code",
   "execution_count": 450,
   "id": "c197231d",
   "metadata": {},
   "outputs": [],
   "source": [
    "#imposition d'une solution à 2 clusters\n",
    "km = KMeans(n_clusters = 2, random_state = 42)"
   ]
  },
  {
   "cell_type": "code",
   "execution_count": 451,
   "id": "a9d8b168",
   "metadata": {},
   "outputs": [
    {
     "name": "stdout",
     "output_type": "stream",
     "text": [
      "CPU times: user 3 µs, sys: 2 µs, total: 5 µs\n",
      "Wall time: 9.3 µs\n"
     ]
    }
   ],
   "source": [
    "%%time\n",
    "km.fit(X)\n",
    "km_y_pred = km.predict(X)"
   ]
  },
  {
   "cell_type": "code",
   "execution_count": 629,
   "id": "542474a0",
   "metadata": {},
   "outputs": [],
   "source": [
    "km_time = 1"
   ]
  },
  {
   "cell_type": "code",
   "execution_count": 454,
   "id": "1278ecfc",
   "metadata": {},
   "outputs": [
    {
     "name": "stdout",
     "output_type": "stream",
     "text": [
      "0.9994447530027483\n"
     ]
    }
   ],
   "source": [
    "from sklearn.metrics import silhouette_samples, silhouette_score\n",
    "# Score de silhouette\n",
    "silhouette_score = silhouette_score(X, km.predict(X))\n",
    "\n",
    "# lets see what that score it\n",
    "print(silhouette_score)"
   ]
  },
  {
   "cell_type": "code",
   "execution_count": 416,
   "id": "f81025dd",
   "metadata": {},
   "outputs": [],
   "source": [
    "# Compute confusion matrix\n",
    "from sklearn.metrics import confusion_matrix"
   ]
  },
  {
   "cell_type": "code",
   "execution_count": 672,
   "id": "4454eb85",
   "metadata": {},
   "outputs": [
    {
     "data": {
      "text/plain": [
       "<AxesSubplot:>"
      ]
     },
     "execution_count": 672,
     "metadata": {},
     "output_type": "execute_result"
    },
    {
     "data": {
      "image/png": "[encoded data removed]",
      "text/plain": [
       "<Figure size 640x480 with 2 Axes>"
      ]
     },
     "metadata": {},
     "output_type": "display_data"
    }
   ],
   "source": [
    "cm_km = confusion_matrix(y, km_y_pred)\n",
    "# visualize confusion matrix with seaborn heatmap\n",
    "cm_matrix = pd.DataFrame(data=cm_km,\n",
    "                         columns=['Actual Positive:1', 'Actual Negative:0'], \n",
    "                         index=['Predict Positive:1', 'Predict Negative:0'])\n",
    "sns.heatmap(cm_matrix, annot=True, fmt='d', cmap='YlGnBu')"
   ]
  },
  {
   "cell_type": "code",
   "execution_count": 718,
   "id": "6907dfaa",
   "metadata": {},
   "outputs": [
    {
     "data": {
      "text/plain": [
       "0.25374928810985253"
      ]
     },
     "execution_count": 718,
     "metadata": {},
     "output_type": "execute_result"
    }
   ],
   "source": [
    "risque_km = indic_r(y, km_y_pred)\n",
    "risque_km"
   ]
  },
  {
   "cell_type": "markdown",
   "id": "7ce5267a",
   "metadata": {},
   "source": [
    "### <a name=\"C322\"> Random Forest Classifier </a>"
   ]
  },
  {
   "cell_type": "code",
   "execution_count": 465,
   "id": "398607bb",
   "metadata": {},
   "outputs": [],
   "source": [
    "from sklearn.ensemble import RandomForestClassifier\n",
    "from sklearn.model_selection import GridSearchCV"
   ]
  },
  {
   "cell_type": "markdown",
   "id": "44a10969",
   "metadata": {},
   "source": [
    "* sans smote"
   ]
  },
  {
   "cell_type": "code",
   "execution_count": 544,
   "id": "8ab03aad",
   "metadata": {},
   "outputs": [
    {
     "name": "stdout",
     "output_type": "stream",
     "text": [
      "CPU times: user 17min 26s, sys: 5.94 s, total: 17min 32s\n",
      "Wall time: 17min 35s\n"
     ]
    }
   ],
   "source": [
    "%%time\n",
    "rfc = RandomForestClassifier()\n",
    "param_grid = {'n_estimators': [1000,2000],\n",
    "              'max_depth' : [15,25,30],\n",
    "              'min_samples_leaf' : [0.01,0.05]\n",
    "             }\n",
    "model = GridSearchCV(rfc,param_grid,cv=3)\n",
    "\n",
    "rfc_tr = model.fit(X_train,y_train)             "
   ]
  },
  {
   "cell_type": "code",
   "execution_count": 549,
   "id": "3999a9a0",
   "metadata": {},
   "outputs": [],
   "source": [
    "rfc_tr_time = 1055"
   ]
  },
  {
   "cell_type": "code",
   "execution_count": 545,
   "id": "7f57c8e7",
   "metadata": {},
   "outputs": [
    {
     "name": "stdout",
     "output_type": "stream",
     "text": [
      "Cross-validation score: 0.9199166666666668\n",
      "Test score: 0.9198333333333333\n",
      "{'max_depth': 15, 'min_samples_leaf': 0.01, 'n_estimators': 1000}\n"
     ]
    }
   ],
   "source": [
    "cv_score_rfctr = rfc_tr.best_score_\n",
    "test_score_gtr = rfc_tr.score(X_test, y_test)\n",
    "print(f'Cross-validation score: {cv_score_rfctr}\\nTest score: {test_score_gtr}')\n",
    "print(rfc_tr.best_params_)"
   ]
  },
  {
   "cell_type": "code",
   "execution_count": 565,
   "id": "47325bc1",
   "metadata": {},
   "outputs": [
    {
     "name": "stdout",
     "output_type": "stream",
     "text": [
      "ROC_AUC: 0.5\n"
     ]
    }
   ],
   "source": [
    "# Faire des nouvelles prediction\n",
    "y_pred_rfctr = rfc_tr.predict(X_test)\n",
    "auc_rfctr = round(roc_auc_score(y_test, y_pred_rfctr),4)\n",
    "print(f'ROC_AUC: {auc_rfctr}')"
   ]
  },
  {
   "cell_type": "code",
   "execution_count": 566,
   "id": "c16e777a",
   "metadata": {},
   "outputs": [
    {
     "data": {
      "text/plain": [
       "<AxesSubplot:>"
      ]
     },
     "execution_count": 566,
     "metadata": {},
     "output_type": "execute_result"
    },
    {
     "data": {
      "image/png": "[encoded data removed]",
      "text/plain": [
       "<Figure size 640x480 with 2 Axes>"
      ]
     },
     "metadata": {},
     "output_type": "display_data"
    }
   ],
   "source": [
    "# Matrice de confusion\n",
    "cm = confusion_matrix(y_test, y_pred_rfctr)\n",
    "# visualize confusion matrix with seaborn heatmap\n",
    "cm_matrix = pd.DataFrame(data=cm, columns=['Actual Positive:1', 'Actual Negative:0'], \n",
    "                             index=['Predict Positive:1', 'Predict Negative:0'])\n",
    "sns.heatmap(cm_matrix, annot=True, fmt='d', cmap='YlGnBu')"
   ]
  },
  {
   "cell_type": "code",
   "execution_count": 567,
   "id": "967d8ae1",
   "metadata": {},
   "outputs": [
    {
     "name": "stdout",
     "output_type": "stream",
     "text": [
      "le rapport de classificatiob de l'algorithme EEC est : \n",
      "\n",
      "              precision    recall  f1-score   support\n",
      "\n",
      "           0       0.92      1.00      0.96      5519\n",
      "           1       0.00      0.00      0.00       481\n",
      "\n",
      "    accuracy                           0.92      6000\n",
      "   macro avg       0.46      0.50      0.48      6000\n",
      "weighted avg       0.85      0.92      0.88      6000\n",
      "\n"
     ]
    }
   ],
   "source": [
    "# Evaluation de modele\n",
    "print(f\"le rapport de classificatiob de l'algorithme EEC est : \\n\")\n",
    "print(classification_report(y_test,y_pred_rfctr))"
   ]
  },
  {
   "cell_type": "code",
   "execution_count": 719,
   "id": "31bbd258",
   "metadata": {},
   "outputs": [
    {
     "name": "stdout",
     "output_type": "stream",
     "text": [
      "fbeta_score Train =  0.49144347888026213\n",
      "fbeta_score Test =  0.4914339649522724\n",
      "score de risque = 0.25366522518721657\n"
     ]
    }
   ],
   "source": [
    "# Calculation of F-beta Score\n",
    "from sklearn.metrics import fbeta_score\n",
    "\n",
    "f2_rfctr_train = fbeta_score(y_train, rfc_tr.predict(X_train), average='macro', beta=2)\n",
    "print(f\"fbeta_score Train =  {f2_rfctr_train}\")\n",
    "\n",
    "f2_rfctr_test = fbeta_score(y_test, rfc_tr.predict(X_test), average='macro', beta=2)\n",
    "print(f\"fbeta_score Test =  {f2_rfctr_test}\")\n",
    "\n",
    "risque_rfctr = indic_r(y_test,y_pred_rfctr)\n",
    "print(f\"score de risque = {risque_rfctr}\")"
   ]
  },
  {
   "cell_type": "markdown",
   "id": "10268837",
   "metadata": {},
   "source": [
    "* smote"
   ]
  },
  {
   "cell_type": "code",
   "execution_count": 557,
   "id": "1507a1cd",
   "metadata": {},
   "outputs": [
    {
     "name": "stdout",
     "output_type": "stream",
     "text": [
      "CPU times: user 26min 2s, sys: 5.77 s, total: 26min 8s\n",
      "Wall time: 29min 42s\n"
     ]
    }
   ],
   "source": [
    "%%time\n",
    "rfc = RandomForestClassifier()\n",
    "param_grid = {'n_estimators': [1000,2000],\n",
    "              'max_depth' : [15,25],\n",
    "              'min_samples_leaf' : [0.01,0.05]\n",
    "             }\n",
    "model = GridSearchCV(rfc,param_grid,cv=3)\n",
    "\n",
    "rfc_res = model.fit(X_res,y_res)             "
   ]
  },
  {
   "cell_type": "code",
   "execution_count": 628,
   "id": "0126d446",
   "metadata": {},
   "outputs": [],
   "source": [
    "rfc_res_time = 1782"
   ]
  },
  {
   "cell_type": "code",
   "execution_count": 558,
   "id": "9ed4cb18",
   "metadata": {},
   "outputs": [
    {
     "name": "stdout",
     "output_type": "stream",
     "text": [
      "Cross-validation score: 0.9293422689844203\n",
      "Test score: 0.9066666666666666\n",
      "{'max_depth': 15, 'min_samples_leaf': 0.01, 'n_estimators': 1000}\n"
     ]
    }
   ],
   "source": [
    "cv_score_rfcres = rfc_res.best_score_\n",
    "test_score_rfcres = rfc_res.score(X_test, y_test)\n",
    "print(f'Cross-validation score: {cv_score_rfcres}\\nTest score: {test_score_rfcres}')\n",
    "print(rfc_res.best_params_)"
   ]
  },
  {
   "cell_type": "code",
   "execution_count": 569,
   "id": "64161dbe",
   "metadata": {},
   "outputs": [
    {
     "name": "stdout",
     "output_type": "stream",
     "text": [
      "ROC_AUC: 0.5384\n"
     ]
    }
   ],
   "source": [
    "# Faire des nouvelles prediction\n",
    "y_pred_rfcres = rfc_res.predict(X_test)\n",
    "auc_rfcres = round(roc_auc_score(y_test, y_pred_rfcres),4)\n",
    "print(f'ROC_AUC: {auc_rfcres}')"
   ]
  },
  {
   "cell_type": "code",
   "execution_count": 570,
   "id": "5d7f7bf2",
   "metadata": {},
   "outputs": [
    {
     "data": {
      "text/plain": [
       "<AxesSubplot:>"
      ]
     },
     "execution_count": 570,
     "metadata": {},
     "output_type": "execute_result"
    },
    {
     "data": {
      "image/png": "[encoded data removed]",
      "text/plain": [
       "<Figure size 640x480 with 2 Axes>"
      ]
     },
     "metadata": {},
     "output_type": "display_data"
    }
   ],
   "source": [
    "# Matrice de confusion\n",
    "cm = confusion_matrix(y_test, y_pred_rfcres)\n",
    "# visualize confusion matrix with seaborn heatmap\n",
    "cm_matrix = pd.DataFrame(data=cm, columns=['Actual Positive:1', 'Actual Negative:0'], \n",
    "                             index=['Predict Positive:1', 'Predict Negative:0'])\n",
    "sns.heatmap(cm_matrix, annot=True, fmt='d', cmap='YlGnBu')"
   ]
  },
  {
   "cell_type": "code",
   "execution_count": 571,
   "id": "e9d0e632",
   "metadata": {},
   "outputs": [
    {
     "name": "stdout",
     "output_type": "stream",
     "text": [
      "le rapport de classificatiob de l'algorithme EEC est : \n",
      "\n",
      "              precision    recall  f1-score   support\n",
      "\n",
      "           0       0.93      0.98      0.95      5519\n",
      "           1       0.27      0.10      0.15       481\n",
      "\n",
      "    accuracy                           0.91      6000\n",
      "   macro avg       0.60      0.54      0.55      6000\n",
      "weighted avg       0.87      0.91      0.89      6000\n",
      "\n"
     ]
    }
   ],
   "source": [
    "# Evaluation de modele\n",
    "print(f\"le rapport de classificatiob de l'algorithme EEC est : \\n\")\n",
    "print(classification_report(y_test,y_pred_rfcres))"
   ]
  },
  {
   "cell_type": "code",
   "execution_count": 720,
   "id": "995d077c",
   "metadata": {},
   "outputs": [
    {
     "name": "stdout",
     "output_type": "stream",
     "text": [
      "fbeta_score Train =  0.5271541802642621\n",
      "fbeta_score Test =  0.5403068861233806\n",
      "score de risque = 0.40195942876330815\n"
     ]
    }
   ],
   "source": [
    "# Calculation of F-beta Score\n",
    "from sklearn.metrics import fbeta_score\n",
    "\n",
    "f2_rfcres_train = fbeta_score(y_train, rfc_res.predict(X_train), average='macro', beta=2)\n",
    "print(f\"fbeta_score Train =  {f2_rfcres_train}\")\n",
    "\n",
    "f2_rfcres_test = fbeta_score(y_test, rfc_res.predict(X_test), average='macro', beta=2)\n",
    "print(f\"fbeta_score Test =  {f2_rfcres_test}\")\n",
    "\n",
    "risque_rfres = indic_r(y_test,y_pred_rfcres)\n",
    "print(f\"score de risque = {risque_rfres}\")"
   ]
  },
  {
   "cell_type": "markdown",
   "id": "0439fd9c",
   "metadata": {},
   "source": [
    "### <a name=\"C323\"> LightGBM </a>"
   ]
  },
  {
   "cell_type": "markdown",
   "id": "55239e96",
   "metadata": {},
   "source": [
    "* sans smote"
   ]
  },
  {
   "cell_type": "code",
   "execution_count": 586,
   "id": "70d979ae",
   "metadata": {},
   "outputs": [
    {
     "name": "stdout",
     "output_type": "stream",
     "text": [
      "CPU times: user 3h 51min 4s, sys: 16min 7s, total: 4h 7min 11s\n",
      "Wall time: 32min 48s\n"
     ]
    }
   ],
   "source": [
    "%%time\n",
    "clf = LGBMClassifier(is_unbalance=True)\n",
    "\n",
    "param_grid = {'n_estimators': [1000,2000],\n",
    "              'max_depth' : [5,15,25],\n",
    "              'subsample': [0.2,0.5],\n",
    "              'num_leaves': [25,50]\n",
    "             }\n",
    "\n",
    "model = GridSearchCV(clf,param_grid,cv=3)\n",
    "\n",
    "lgbm_gtr = model.fit(X_train,y_train)"
   ]
  },
  {
   "cell_type": "code",
   "execution_count": 627,
   "id": "9d6a4d43",
   "metadata": {},
   "outputs": [],
   "source": [
    "gtr_time = 1968"
   ]
  },
  {
   "cell_type": "code",
   "execution_count": 602,
   "id": "26456c52",
   "metadata": {},
   "outputs": [
    {
     "name": "stdout",
     "output_type": "stream",
     "text": [
      "Cross-validation score: 0.9184166666666665\n",
      "Test score: 0.9166666666666666\n",
      "{'max_depth': 15, 'n_estimators': 2000, 'num_leaves': 50, 'subsample': 0.2}\n"
     ]
    }
   ],
   "source": [
    "cv_score_gtr = lgbm_gtr.best_score_\n",
    "test_score_gtr = lgbm_gtr.score(X_test, y_test)\n",
    "print(f'Cross-validation score: {cv_score_gtr}\\nTest score: {test_score_gtr}')\n",
    "print(lgbm_gtr.best_params_)"
   ]
  },
  {
   "cell_type": "code",
   "execution_count": 616,
   "id": "3f0bbf44",
   "metadata": {},
   "outputs": [
    {
     "name": "stdout",
     "output_type": "stream",
     "text": [
      "ROC_AUC: 0.5173\n"
     ]
    }
   ],
   "source": [
    "# Faire des nouvelles prediction\n",
    "y_pred_gtr = lgbm_gtr.predict(X_test)\n",
    "auc_rfgtr = round(roc_auc_score(y_test, y_pred_gtr),4)\n",
    "print(f'ROC_AUC: {auc_rfgtr}')"
   ]
  },
  {
   "cell_type": "code",
   "execution_count": 617,
   "id": "f2e52309",
   "metadata": {},
   "outputs": [
    {
     "data": {
      "text/plain": [
       "<AxesSubplot:>"
      ]
     },
     "execution_count": 617,
     "metadata": {},
     "output_type": "execute_result"
    },
    {
     "data": {
      "image/png": "[encoded data removed]",
      "text/plain": [
       "<Figure size 640x480 with 2 Axes>"
      ]
     },
     "metadata": {},
     "output_type": "display_data"
    }
   ],
   "source": [
    "# Matrice de confusion\n",
    "cm = confusion_matrix(y_test, y_pred_gtr)\n",
    "# visualize confusion matrix with seaborn heatmap\n",
    "cm_matrix = pd.DataFrame(data=cm, columns=['Actual Positive:1', 'Actual Negative:0'], \n",
    "                             index=['Predict Positive:1', 'Predict Negative:0'])\n",
    "sns.heatmap(cm_matrix, annot=True, fmt='d', cmap='YlGnBu')"
   ]
  },
  {
   "cell_type": "code",
   "execution_count": 618,
   "id": "c4ff24c5",
   "metadata": {},
   "outputs": [
    {
     "name": "stdout",
     "output_type": "stream",
     "text": [
      "le rapport de classificatiob de l'algorithme EEC est : \n",
      "\n",
      "              precision    recall  f1-score   support\n",
      "\n",
      "           0       0.92      0.99      0.96      5519\n",
      "           1       0.34      0.04      0.07       481\n",
      "\n",
      "    accuracy                           0.92      6000\n",
      "   macro avg       0.63      0.52      0.52      6000\n",
      "weighted avg       0.88      0.92      0.89      6000\n",
      "\n"
     ]
    }
   ],
   "source": [
    "# Evaluation de modele\n",
    "print(f\"le rapport de classificatiob de l'algorithme EEC est : \\n\")\n",
    "print(classification_report(y_test,y_pred_gtr))"
   ]
  },
  {
   "cell_type": "code",
   "execution_count": 721,
   "id": "4bdebe6e",
   "metadata": {},
   "outputs": [
    {
     "name": "stdout",
     "output_type": "stream",
     "text": [
      "fbeta_score Train =  1.0\n",
      "fbeta_score Test =  0.5142031499461883\n",
      "score de risque = 0.40195942876330815\n"
     ]
    }
   ],
   "source": [
    "# Calculation of F-beta Score\n",
    "from sklearn.metrics import fbeta_score\n",
    "\n",
    "f2_gtr_train = fbeta_score(y_train, lgbm_gtr.predict(X_train), average='macro', beta=2)\n",
    "print(f\"fbeta_score Train =  {f2_gtr_train}\")\n",
    "\n",
    "f2_gtr_test = fbeta_score(y_test, lgbm_gtr.predict(X_test), average='macro', beta=2)\n",
    "print(f\"fbeta_score Test =  {f2_gtr_test}\")\n",
    "\n",
    "risque_gtr = indic_r(y_test,y_pred)\n",
    "print(f\"score de risque = {risque_gtr}\")"
   ]
  },
  {
   "cell_type": "markdown",
   "id": "4f367ac1",
   "metadata": {},
   "source": [
    "* Smote"
   ]
  },
  {
   "cell_type": "code",
   "execution_count": 620,
   "id": "926008c0",
   "metadata": {},
   "outputs": [
    {
     "name": "stdout",
     "output_type": "stream",
     "text": [
      "CPU times: user 4h 51min, sys: 19min 11s, total: 5h 10min 12s\n",
      "Wall time: 34min 29s\n"
     ]
    }
   ],
   "source": [
    "%%time\n",
    "clf = LGBMClassifier(is_unbalance=True)\n",
    "\n",
    "param_grid = {'n_estimators': [1000,2000],\n",
    "              'max_depth' : [5,15,25],\n",
    "              'subsample': [0.2,0.5],\n",
    "              'num_leaves': [25,50]\n",
    "             }\n",
    "\n",
    "model = GridSearchCV(clf,param_grid,cv=3)\n",
    "\n",
    "lgbm_gres = model.fit(X_res,y_res)"
   ]
  },
  {
   "cell_type": "code",
   "execution_count": 626,
   "id": "907656fb",
   "metadata": {},
   "outputs": [],
   "source": [
    "gres_time = 2069"
   ]
  },
  {
   "cell_type": "code",
   "execution_count": 621,
   "id": "e0ffb4e3",
   "metadata": {},
   "outputs": [
    {
     "name": "stdout",
     "output_type": "stream",
     "text": [
      "Cross-validation score: 0.9530764131615598\n",
      "Test score: 0.92\n",
      "{'max_depth': 25, 'n_estimators': 1000, 'num_leaves': 50, 'subsample': 0.2}\n"
     ]
    }
   ],
   "source": [
    "cv_score_gres = lgbm_gres.best_score_\n",
    "test_score_gres = lgbm_gres.score(X_test, y_test)\n",
    "print(f'Cross-validation score: {cv_score_gres}\\nTest score: {test_score_gres}')\n",
    "print(lgbm2_gtr.best_params_)"
   ]
  },
  {
   "cell_type": "code",
   "execution_count": 622,
   "id": "57ebbd67",
   "metadata": {},
   "outputs": [
    {
     "name": "stdout",
     "output_type": "stream",
     "text": [
      "ROC_AUC: 0.5124\n"
     ]
    }
   ],
   "source": [
    "# Faire des nouvelles prediction\n",
    "y_predgres = lgbm2_gtr.predict(X_test)\n",
    "auc_gres = round(roc_auc_score(y_test, y_predgres),4)\n",
    "print(f'ROC_AUC: {auc_gres}')"
   ]
  },
  {
   "cell_type": "code",
   "execution_count": 623,
   "id": "ec07d5a2",
   "metadata": {},
   "outputs": [
    {
     "data": {
      "text/plain": [
       "<AxesSubplot:>"
      ]
     },
     "execution_count": 623,
     "metadata": {},
     "output_type": "execute_result"
    },
    {
     "data": {
      "image/png": "[encoded data removed]",
      "text/plain": [
       "<Figure size 640x480 with 2 Axes>"
      ]
     },
     "metadata": {},
     "output_type": "display_data"
    }
   ],
   "source": [
    "# Matrice de confusion\n",
    "cm = confusion_matrix(y_test, y_predgres)\n",
    "# visualize confusion matrix with seaborn heatmap\n",
    "cm_matrix = pd.DataFrame(data=cm, columns=['Actual Positive:1', 'Actual Negative:0'], \n",
    "                             index=['Predict Positive:1', 'Predict Negative:0'])\n",
    "sns.heatmap(cm_matrix, annot=True, fmt='d', cmap='YlGnBu')"
   ]
  },
  {
   "cell_type": "code",
   "execution_count": 624,
   "id": "c7a1125c",
   "metadata": {},
   "outputs": [
    {
     "name": "stdout",
     "output_type": "stream",
     "text": [
      "le rapport de classificatiob de l'algorithme EEC est : \n",
      "\n",
      "              precision    recall  f1-score   support\n",
      "\n",
      "           0       0.92      1.00      0.96      5519\n",
      "           1       0.52      0.03      0.05       481\n",
      "\n",
      "    accuracy                           0.92      6000\n",
      "   macro avg       0.72      0.51      0.50      6000\n",
      "weighted avg       0.89      0.92      0.89      6000\n",
      "\n"
     ]
    }
   ],
   "source": [
    "# Evaluation de modele\n",
    "print(f\"le rapport de classificatiob de l'algorithme EEC est : \\n\")\n",
    "print(classification_report(y_test,y_predgres))"
   ]
  },
  {
   "cell_type": "code",
   "execution_count": 722,
   "id": "9e2b53ca",
   "metadata": {},
   "outputs": [
    {
     "name": "stdout",
     "output_type": "stream",
     "text": [
      "fbeta_score Train =  1.0\n",
      "fbeta_score Test =  0.507477684995769\n",
      "score de risque = 0.26467391018942044\n"
     ]
    }
   ],
   "source": [
    "# Calculation of F-beta Score\n",
    "from sklearn.metrics import fbeta_score\n",
    "\n",
    "f2_gres_train = fbeta_score(y_res, lgbm_gres.predict(X_res), average='macro', beta=2)\n",
    "print(f\"fbeta_score Train =  {f2_gres_train}\")\n",
    "\n",
    "f2_gres_test = fbeta_score(y_test, lgbm_gres.predict(X_test), average='macro', beta=2)\n",
    "print(f\"fbeta_score Test =  {f2_gres_test}\")\n",
    "\n",
    "risque_gres = indic_r(y_test,y_predgres)\n",
    "print(f\"score de risque = {risque_gres}\")"
   ]
  },
  {
   "cell_type": "markdown",
   "id": "31a572a3",
   "metadata": {},
   "source": [
    "### <a name=\"C324\"> Résumé </a>"
   ]
  },
  {
   "cell_type": "code",
   "execution_count": 724,
   "id": "35374590",
   "metadata": {},
   "outputs": [],
   "source": [
    "model_rs = (\"KMeans\", \"RandomForrest_train\", \"RandomForrest_smote\", \"Lgbm_train\", \"Lgbm_smote\")\n",
    "run_times = (km_time, rfc_tr_time, rfc_res_time, gtr_time, gres_time)\n",
    "auc_km = 0\n",
    "f2_km = 0\n",
    "auc_resume = (auc_km, auc_rfctr, auc_rfcres, auc_gtr,auc_gres)\n",
    "fbeta = (f2_km, f2_rfctr_test, f2_rfcres_test, f2_gtr_test,f2_gres_test)\n",
    "risque_resume = (risque_km, risque_rfctr, risque_rfres, risque_gtr,risque_gres)\n"
   ]
  },
  {
   "cell_type": "code",
   "execution_count": 725,
   "id": "303e8991",
   "metadata": {},
   "outputs": [
    {
     "data": {
      "text/html": [
       "<div>\n",
       "<style scoped>\n",
       "    .dataframe tbody tr th:only-of-type {\n",
       "        vertical-align: middle;\n",
       "    }\n",
       "\n",
       "    .dataframe tbody tr th {\n",
       "        vertical-align: top;\n",
       "    }\n",
       "\n",
       "    .dataframe thead th {\n",
       "        text-align: right;\n",
       "    }\n",
       "</style>\n",
       "<table border=\"1\" class=\"dataframe\">\n",
       "  <thead>\n",
       "    <tr style=\"text-align: right;\">\n",
       "      <th></th>\n",
       "      <th>Model</th>\n",
       "      <th>Temps (s)</th>\n",
       "      <th>AUC</th>\n",
       "      <th>Fbeta2</th>\n",
       "      <th>Score de risque</th>\n",
       "    </tr>\n",
       "  </thead>\n",
       "  <tbody>\n",
       "    <tr>\n",
       "      <th>0</th>\n",
       "      <td>KMeans</td>\n",
       "      <td>1</td>\n",
       "      <td>0.0000</td>\n",
       "      <td>0.000000</td>\n",
       "      <td>0.253749</td>\n",
       "    </tr>\n",
       "    <tr>\n",
       "      <th>1</th>\n",
       "      <td>RandomForrest_train</td>\n",
       "      <td>1055</td>\n",
       "      <td>0.5000</td>\n",
       "      <td>0.491434</td>\n",
       "      <td>0.253665</td>\n",
       "    </tr>\n",
       "    <tr>\n",
       "      <th>2</th>\n",
       "      <td>RandomForrest_smote</td>\n",
       "      <td>1782</td>\n",
       "      <td>0.5384</td>\n",
       "      <td>0.540307</td>\n",
       "      <td>0.401959</td>\n",
       "    </tr>\n",
       "    <tr>\n",
       "      <th>3</th>\n",
       "      <td>Lgbm_train</td>\n",
       "      <td>1968</td>\n",
       "      <td>0.5065</td>\n",
       "      <td>0.514203</td>\n",
       "      <td>0.401959</td>\n",
       "    </tr>\n",
       "    <tr>\n",
       "      <th>4</th>\n",
       "      <td>Lgbm_smote</td>\n",
       "      <td>2069</td>\n",
       "      <td>0.5124</td>\n",
       "      <td>0.507478</td>\n",
       "      <td>0.264674</td>\n",
       "    </tr>\n",
       "  </tbody>\n",
       "</table>\n",
       "</div>"
      ],
      "text/plain": [
       "                 Model  Temps (s)     AUC    Fbeta2  Score de risque\n",
       "0               KMeans          1  0.0000  0.000000         0.253749\n",
       "1  RandomForrest_train       1055  0.5000  0.491434         0.253665\n",
       "2  RandomForrest_smote       1782  0.5384  0.540307         0.401959\n",
       "3           Lgbm_train       1968  0.5065  0.514203         0.401959\n",
       "4           Lgbm_smote       2069  0.5124  0.507478         0.264674"
      ]
     },
     "execution_count": 725,
     "metadata": {},
     "output_type": "execute_result"
    }
   ],
   "source": [
    "model_resume = pd.DataFrame(\n",
    "    {'Model': model_rs,\n",
    "     'Temps (s)': run_times,\n",
    "     'AUC': auc_resume,\n",
    "     'Fbeta2': fbeta,\n",
    "     'Score de risque': risque_resume\n",
    "    })\n",
    "model_resume"
   ]
  },
  {
   "cell_type": "markdown",
   "id": "0bac8fb3",
   "metadata": {},
   "source": [
    "## <a name=\"C33\"> Features importances </a>"
   ]
  },
  {
   "cell_type": "markdown",
   "id": "f6619db7",
   "metadata": {},
   "source": [
    "* elimination des features sans variances"
   ]
  },
  {
   "cell_type": "code",
   "execution_count": 53,
   "id": "4b7c1824",
   "metadata": {},
   "outputs": [],
   "source": [
    "clf_gres = LGBMClassifier(application='binary',\n",
    "                          is_unbalance=True,\n",
    "                          metric='auc',\n",
    "                           max_depth=25,\n",
    "                           n_estimators=1000,\n",
    "                           num_leaves=50,\n",
    "                           subsample=0.2\n",
    "                          )\n",
    "\n",
    "model_prefilt = clf_gres.fit(X_res,y_res)"
   ]
  },
  {
   "cell_type": "code",
   "execution_count": 54,
   "id": "215fb933",
   "metadata": {},
   "outputs": [],
   "source": [
    "y_predm = model_prefilt.predict(X_test)"
   ]
  },
  {
   "cell_type": "code",
   "execution_count": 55,
   "id": "1b963969",
   "metadata": {},
   "outputs": [],
   "source": [
    "from sklearn.metrics import accuracy_score, roc_auc_score, f1_score, precision_score, recall_score \n",
    "from sklearn.metrics import classification_report, confusion_matrix, roc_curve\n",
    "\n",
    "def cf_matrix_roc_auc(model, y_true, y_pred, y_pred_proba, feature_importances):\n",
    "    '''This function will make a pretty plot of \n",
    "  an sklearn Confusion Matrix using a Seaborn heatmap visualization + ROC Curve.'''\n",
    "    fig = plt.figure(figsize=(20,15))\n",
    "  \n",
    "    plt.subplot(221)\n",
    "    cf_matrix = confusion_matrix(y_true, y_pred)\n",
    "    group_names = ['True Pos', 'False Pos', 'False Neg', 'True Neg']\n",
    "    group_counts = [\"{0:0.0f}\".format(value) for value in cf_matrix.flatten()]\n",
    "    group_percentages = [\"{0:.2%}\".format(value) for value in cf_matrix.flatten()/np.sum(cf_matrix)]\n",
    "  \n",
    "    labels = [f\"{v1}\\n{v2}\\n{v3}\" for v1, v2, v3 in zip(group_names,group_counts,group_percentages)]\n",
    "    labels = np.asarray(labels).reshape(2,2)\n",
    "    sns.heatmap(cf_matrix, annot=labels, fmt=\"\", cmap='Blues')\n",
    "\n",
    "    plt.subplot(222)\n",
    "    fpr,tpr,_ = roc_curve(y_true, y_pred_proba)\n",
    "    plt.plot(fpr, tpr, color='orange', linewidth=5, label='AUC = %0.4f' %roc_auc)\n",
    "    plt.plot([0, 1], [0, 1], color='darkblue', linestyle='--')\n",
    "    plt.xlabel('False Positive Rate')\n",
    "    plt.ylabel('True Positive Rate')\n",
    "    plt.legend()\n",
    "\n",
    "    if feature_importances : \n",
    "        plt.subplot(212)\n",
    "        indices = np.argsort(model.feature_importances_)[::-1]\n",
    "    \n",
    "    features = []\n",
    "    for i in range(20):\n",
    "        features.append(X_res.columns[indices[i]]) #After RFECV selection > X_data created\n",
    "\n",
    "    sns.barplot(x=features, y=model.feature_importances_[indices[range(20)]], color=(\"orange\"))\n",
    "    plt.xlabel('Features importance')\n",
    "    plt.xticks(rotation=90)\n",
    "\n",
    "    plt.show()\n",
    "    "
   ]
  },
  {
   "cell_type": "code",
   "execution_count": 56,
   "id": "258bbf13",
   "metadata": {},
   "outputs": [
    {
     "name": "stdout",
     "output_type": "stream",
     "text": [
      "AUC : 0.691524\n"
     ]
    }
   ],
   "source": [
    "roc_auc = roc_auc_score(y_test, model_prefilt.predict_proba(X_test)[:,1])\n",
    "print('AUC : %0.6f' %roc_auc)"
   ]
  },
  {
   "cell_type": "code",
   "execution_count": 57,
   "id": "a4a307ad",
   "metadata": {},
   "outputs": [
    {
     "data": {
      "image/png": "[encoded data removed]",
      "text/plain": [
       "<Figure size 2000x1500 with 4 Axes>"
      ]
     },
     "metadata": {},
     "output_type": "display_data"
    }
   ],
   "source": [
    "cf_matrix_roc_auc(model_prefilt, y_test, model_prefilt.predict(X_test),\n",
    "                  model_prefilt.predict_proba(X_test)[:,1], feature_importances=True)"
   ]
  },
  {
   "cell_type": "markdown",
   "id": "9c87b13c",
   "metadata": {},
   "source": [
    "## <a name=\"C34\"> Entrainement du modèle final </a>"
   ]
  },
  {
   "cell_type": "code",
   "execution_count": 58,
   "id": "dc76db58",
   "metadata": {},
   "outputs": [
    {
     "name": "stdout",
     "output_type": "stream",
     "text": [
      "['EXT_SOURCE_2', 'DAYS_REGISTRATION', 'EXT_SOURCE_3', 'DAYS_ID_PUBLISH', 'DAYS_BIRTH', 'DAYS_LAST_PHONE_CHANGE', 'PAYMENT_RATE', 'REGION_POPULATION_RELATIVE']\n"
     ]
    }
   ],
   "source": [
    "#Test du modèle avec les 5 variables ayant le plus de poids : \n",
    "##Feature importance : \n",
    "feat8 = np.argsort(model_prefilt.feature_importances_)[::-1]\n",
    "features8 = []\n",
    "for i in range(8):\n",
    "    features8.append(X_res.columns[feat8[i]])\n",
    "print(features8)"
   ]
  },
  {
   "cell_type": "code",
   "execution_count": 62,
   "id": "80610a90",
   "metadata": {},
   "outputs": [],
   "source": [
    "df_api = X[features8].copy()\n",
    "df_api[\"Target\"] = y"
   ]
  },
  {
   "cell_type": "code",
   "execution_count": 63,
   "id": "2f27af51",
   "metadata": {},
   "outputs": [
    {
     "name": "stdout",
     "output_type": "stream",
     "text": [
      "754\n",
      "8\n",
      "8\n",
      "8\n",
      "8\n"
     ]
    }
   ],
   "source": [
    "X_api = X[features8]\n",
    "X_train_api = X_train[features8]\n",
    "X_api_res = X_res[features8]\n",
    "X_api_test = X_test[features8]\n",
    "print(X.shape[1])\n",
    "print(X_api.shape[1])\n",
    "print(X_train_api.shape[1])\n",
    "print(X_api_res.shape[1])\n",
    "print(X_api_test.shape[1])"
   ]
  },
  {
   "cell_type": "code",
   "execution_count": 975,
   "id": "11959893",
   "metadata": {},
   "outputs": [
    {
     "name": "stdout",
     "output_type": "stream",
     "text": [
      "CPU times: user 2h 57min 38s, sys: 12min, total: 3h 9min 39s\n",
      "Wall time: 20min 8s\n"
     ]
    }
   ],
   "source": [
    "%%time\n",
    "clf = LGBMClassifier(application='binary',is_unbalance=True, metric='auc')\n",
    "\n",
    "param_grid = {'n_estimators': [2000,4000],\n",
    "              'max_depth' : [15,30],\n",
    "              'subsample': [0.1,0.3],\n",
    "              'num_leaves': [35,40]\n",
    "             }\n",
    "\n",
    "model = GridSearchCV(clf,param_grid,cv=3)\n",
    "\n",
    "lgbm_api = model.fit(X_api_res,y_res)"
   ]
  },
  {
   "cell_type": "code",
   "execution_count": 976,
   "id": "78333e9f",
   "metadata": {},
   "outputs": [
    {
     "name": "stdout",
     "output_type": "stream",
     "text": [
      "Cross-validation score: 0.9319465525676223\n",
      "Test score: 0.9006666666666666\n",
      "{'max_depth': 30, 'n_estimators': 4000, 'num_leaves': 35, 'subsample': 0.1}\n"
     ]
    }
   ],
   "source": [
    "cv_score_api = lgbm_api.best_score_\n",
    "test_score_api = lgbm_api.score(X_api_test, y_test)\n",
    "print(f'Cross-validation score: {cv_score_api}\\nTest score: {test_score_api}')\n",
    "print(lgbm_api.best_params_)"
   ]
  },
  {
   "cell_type": "code",
   "execution_count": 977,
   "id": "57328d07",
   "metadata": {},
   "outputs": [
    {
     "name": "stdout",
     "output_type": "stream",
     "text": [
      "ROC_AUC: 0.5351\n"
     ]
    }
   ],
   "source": [
    "# Faire des nouvelles prediction\n",
    "y_predapi = lgbm_api.predict(X_api_test)\n",
    "auc_api = round(roc_auc_score(y_test, y_predapi),4)\n",
    "print(f'ROC_AUC: {auc_api}')"
   ]
  },
  {
   "cell_type": "code",
   "execution_count": 978,
   "id": "bf82cf9a",
   "metadata": {},
   "outputs": [
    {
     "data": {
      "text/plain": [
       "<AxesSubplot:>"
      ]
     },
     "execution_count": 978,
     "metadata": {},
     "output_type": "execute_result"
    },
    {
     "data": {
      "image/png": "[encoded data removed]",
      "text/plain": [
       "<Figure size 640x480 with 2 Axes>"
      ]
     },
     "metadata": {},
     "output_type": "display_data"
    }
   ],
   "source": [
    "# Matrice de confusion\n",
    "cm = confusion_matrix(y_test, y_predapi)\n",
    "# visualize confusion matrix with seaborn heatmap\n",
    "cm_matrix = pd.DataFrame(data=cm, columns=['Actual Positive:1', 'Actual Negative:0'], \n",
    "                             index=['Predict Positive:1', 'Predict Negative:0'])\n",
    "sns.heatmap(cm_matrix, annot=True, fmt='d', cmap='YlGnBu')"
   ]
  },
  {
   "cell_type": "code",
   "execution_count": 979,
   "id": "673888f6",
   "metadata": {},
   "outputs": [
    {
     "name": "stdout",
     "output_type": "stream",
     "text": [
      "le rapport de classificatiob de l'algorithme EEC est : \n",
      "\n",
      "              precision    recall  f1-score   support\n",
      "\n",
      "           0       0.93      0.97      0.95      5519\n",
      "           1       0.23      0.10      0.14       481\n",
      "\n",
      "    accuracy                           0.90      6000\n",
      "   macro avg       0.58      0.54      0.54      6000\n",
      "weighted avg       0.87      0.90      0.88      6000\n",
      "\n"
     ]
    }
   ],
   "source": [
    "# Evaluation de modele\n",
    "print(f\"le rapport de classificatiob de l'algorithme EEC est : \\n\")\n",
    "print(classification_report(y_test,y_predapi))"
   ]
  },
  {
   "cell_type": "code",
   "execution_count": 980,
   "id": "41f38fc9",
   "metadata": {},
   "outputs": [
    {
     "name": "stdout",
     "output_type": "stream",
     "text": [
      "fbeta_score Train =  1.0\n",
      "fbeta_score Test =  0.5367372212377257\n",
      "score de risque = 0.26467391018942044\n"
     ]
    }
   ],
   "source": [
    "f2_api_train = fbeta_score(y_res, lgbm_api.predict(X_api_res), average='macro', beta=2)\n",
    "print(f\"fbeta_score Train =  {f2_api_train}\")\n",
    "\n",
    "f2_api_test = fbeta_score(y_test, lgbm_api.predict(X_api_test), average='macro', beta=2)\n",
    "print(f\"fbeta_score Test =  {f2_api_test}\")\n",
    "\n",
    "risque_api = indic_r(y_test,y_predgres)\n",
    "print(f\"score de risque = {risque_api}\")"
   ]
  },
  {
   "cell_type": "code",
   "execution_count": 832,
   "id": "92bb18ac",
   "metadata": {},
   "outputs": [],
   "source": [
    "clf_api = LGBMClassifier(application='binary',\n",
    "                         is_unbalance=True,\n",
    "                         metric='auc',\n",
    "                         max_depth=30,\n",
    "                         n_estimators=4000,\n",
    "                         num_leaves=40,\n",
    "                         subsample=0.1)"
   ]
  },
  {
   "cell_type": "code",
   "execution_count": 65,
   "id": "3c433a98",
   "metadata": {},
   "outputs": [],
   "source": [
    "data_api = df_api.copy()\n",
    "data_api[\"ID\"] = df_samp30k[\"SK_ID_CURR\"]"
   ]
  },
  {
   "cell_type": "code",
   "execution_count": 66,
   "id": "1ee721f1",
   "metadata": {},
   "outputs": [
    {
     "data": {
      "text/html": [
       "<div>\n",
       "<style scoped>\n",
       "    .dataframe tbody tr th:only-of-type {\n",
       "        vertical-align: middle;\n",
       "    }\n",
       "\n",
       "    .dataframe tbody tr th {\n",
       "        vertical-align: top;\n",
       "    }\n",
       "\n",
       "    .dataframe thead th {\n",
       "        text-align: right;\n",
       "    }\n",
       "</style>\n",
       "<table border=\"1\" class=\"dataframe\">\n",
       "  <thead>\n",
       "    <tr style=\"text-align: right;\">\n",
       "      <th></th>\n",
       "      <th>EXT_SOURCE_2</th>\n",
       "      <th>DAYS_REGISTRATION</th>\n",
       "      <th>EXT_SOURCE_3</th>\n",
       "      <th>DAYS_ID_PUBLISH</th>\n",
       "      <th>DAYS_BIRTH</th>\n",
       "      <th>DAYS_LAST_PHONE_CHANGE</th>\n",
       "      <th>PAYMENT_RATE</th>\n",
       "      <th>REGION_POPULATION_RELATIVE</th>\n",
       "      <th>Target</th>\n",
       "      <th>ID</th>\n",
       "    </tr>\n",
       "  </thead>\n",
       "  <tbody>\n",
       "    <tr>\n",
       "      <th>0</th>\n",
       "      <td>0.262949</td>\n",
       "      <td>-3648.0</td>\n",
       "      <td>0.139376</td>\n",
       "      <td>-2120</td>\n",
       "      <td>-9461</td>\n",
       "      <td>-1134.0</td>\n",
       "      <td>0.060749</td>\n",
       "      <td>0.018801</td>\n",
       "      <td>1</td>\n",
       "      <td>100002</td>\n",
       "    </tr>\n",
       "    <tr>\n",
       "      <th>1</th>\n",
       "      <td>0.622246</td>\n",
       "      <td>-1186.0</td>\n",
       "      <td>0.535276</td>\n",
       "      <td>-291</td>\n",
       "      <td>-16765</td>\n",
       "      <td>-828.0</td>\n",
       "      <td>0.027598</td>\n",
       "      <td>0.003541</td>\n",
       "      <td>0</td>\n",
       "      <td>100003</td>\n",
       "    </tr>\n",
       "    <tr>\n",
       "      <th>2</th>\n",
       "      <td>0.555912</td>\n",
       "      <td>-4260.0</td>\n",
       "      <td>0.729567</td>\n",
       "      <td>-2531</td>\n",
       "      <td>-19046</td>\n",
       "      <td>-815.0</td>\n",
       "      <td>0.050000</td>\n",
       "      <td>0.010032</td>\n",
       "      <td>0</td>\n",
       "      <td>100004</td>\n",
       "    </tr>\n",
       "    <tr>\n",
       "      <th>3</th>\n",
       "      <td>0.650442</td>\n",
       "      <td>-9833.0</td>\n",
       "      <td>0.535276</td>\n",
       "      <td>-2437</td>\n",
       "      <td>-19005</td>\n",
       "      <td>-617.0</td>\n",
       "      <td>0.094941</td>\n",
       "      <td>0.008019</td>\n",
       "      <td>0</td>\n",
       "      <td>100006</td>\n",
       "    </tr>\n",
       "    <tr>\n",
       "      <th>4</th>\n",
       "      <td>0.322738</td>\n",
       "      <td>-4311.0</td>\n",
       "      <td>0.535276</td>\n",
       "      <td>-3458</td>\n",
       "      <td>-19932</td>\n",
       "      <td>-1106.0</td>\n",
       "      <td>0.042623</td>\n",
       "      <td>0.028663</td>\n",
       "      <td>0</td>\n",
       "      <td>100007</td>\n",
       "    </tr>\n",
       "  </tbody>\n",
       "</table>\n",
       "</div>"
      ],
      "text/plain": [
       "   EXT_SOURCE_2  DAYS_REGISTRATION  EXT_SOURCE_3  DAYS_ID_PUBLISH  DAYS_BIRTH  \\\n",
       "0      0.262949            -3648.0      0.139376            -2120       -9461   \n",
       "1      0.622246            -1186.0      0.535276             -291      -16765   \n",
       "2      0.555912            -4260.0      0.729567            -2531      -19046   \n",
       "3      0.650442            -9833.0      0.535276            -2437      -19005   \n",
       "4      0.322738            -4311.0      0.535276            -3458      -19932   \n",
       "\n",
       "   DAYS_LAST_PHONE_CHANGE  PAYMENT_RATE  REGION_POPULATION_RELATIVE  Target  \\\n",
       "0                 -1134.0      0.060749                    0.018801       1   \n",
       "1                  -828.0      0.027598                    0.003541       0   \n",
       "2                  -815.0      0.050000                    0.010032       0   \n",
       "3                  -617.0      0.094941                    0.008019       0   \n",
       "4                 -1106.0      0.042623                    0.028663       0   \n",
       "\n",
       "       ID  \n",
       "0  100002  \n",
       "1  100003  \n",
       "2  100004  \n",
       "3  100006  \n",
       "4  100007  "
      ]
     },
     "execution_count": 66,
     "metadata": {},
     "output_type": "execute_result"
    }
   ],
   "source": [
    "data_api.head()"
   ]
  },
  {
   "cell_type": "code",
   "execution_count": 983,
   "id": "09c5b82c",
   "metadata": {},
   "outputs": [],
   "source": [
    "#exportation des données\n",
    "data_api.to_csv(\"/Users/adpro/Desktop/lgbmAPI/data_api.csv\",index=False)"
   ]
  }
 ],
 "metadata": {
  "kernelspec": {
   "display_name": "Python 3",
   "language": "python",
   "name": "python3"
  },
  "language_info": {
   "codemirror_mode": {
    "name": "ipython",
    "version": 3
   },
   "file_extension": ".py",
   "mimetype": "text/x-python",
   "name": "python",
   "nbconvert_exporter": "python",
   "pygments_lexer": "ipython3",
   "version": "3.9.7 (v3.9.7:1016ef3790, Aug 30 2021, 16:39:15) \n[Clang 6.0 (clang-600.0.57)]"
  },
  "vscode": {
   "interpreter": {
    "hash": "aee8b7b246df8f9039afb4144a1f6fd8d2ca17a180786b69acc140d282b71a49"
   }
  }
 },
 "nbformat": 4,
 "nbformat_minor": 5
}

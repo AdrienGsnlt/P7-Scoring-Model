{
 "cells": [
  {
   "cell_type": "code",
   "execution_count": 33,
   "metadata": {},
   "outputs": [],
   "source": [
    "#Entrainement du modèle à déployer\n",
    "#1.Importation des librairies\n",
    "import pandas as pd \n",
    "import numpy as np \n",
    "\n",
    "import sklearn\n",
    "### Train Test Split\n",
    "from sklearn.model_selection import train_test_split\n",
    "#Gestion unbalanced\n",
    "import imblearn\n",
    "from imblearn.over_sampling import SMOTE\n",
    "#Classifier\n",
    "import lightgbm\n",
    "from lightgbm import LGBMClassifier\n",
    "\n",
    "### Check Accuracy\n",
    "from sklearn.metrics import accuracy_score"
   ]
  },
  {
   "cell_type": "code",
   "execution_count": 34,
   "metadata": {},
   "outputs": [
    {
     "data": {
      "text/html": [
       "<div>\n",
       "<style scoped>\n",
       "    .dataframe tbody tr th:only-of-type {\n",
       "        vertical-align: middle;\n",
       "    }\n",
       "\n",
       "    .dataframe tbody tr th {\n",
       "        vertical-align: top;\n",
       "    }\n",
       "\n",
       "    .dataframe thead th {\n",
       "        text-align: right;\n",
       "    }\n",
       "</style>\n",
       "<table border=\"1\" class=\"dataframe\">\n",
       "  <thead>\n",
       "    <tr style=\"text-align: right;\">\n",
       "      <th></th>\n",
       "      <th>GENDER</th>\n",
       "      <th>BUSINESS_TYPE</th>\n",
       "      <th>EXT3</th>\n",
       "      <th>REGION_RATING</th>\n",
       "      <th>UNACCOMPANIED</th>\n",
       "      <th>EXT2</th>\n",
       "      <th>INCOME_TYPE</th>\n",
       "      <th>Target</th>\n",
       "    </tr>\n",
       "    <tr>\n",
       "      <th>ID</th>\n",
       "      <th></th>\n",
       "      <th></th>\n",
       "      <th></th>\n",
       "      <th></th>\n",
       "      <th></th>\n",
       "      <th></th>\n",
       "      <th></th>\n",
       "      <th></th>\n",
       "    </tr>\n",
       "  </thead>\n",
       "  <tbody>\n",
       "    <tr>\n",
       "      <th>100002</th>\n",
       "      <td>0</td>\n",
       "      <td>1</td>\n",
       "      <td>0.139376</td>\n",
       "      <td>2</td>\n",
       "      <td>1</td>\n",
       "      <td>0.262949</td>\n",
       "      <td>1</td>\n",
       "      <td>1</td>\n",
       "    </tr>\n",
       "    <tr>\n",
       "      <th>100003</th>\n",
       "      <td>1</td>\n",
       "      <td>0</td>\n",
       "      <td>0.535276</td>\n",
       "      <td>1</td>\n",
       "      <td>0</td>\n",
       "      <td>0.622246</td>\n",
       "      <td>0</td>\n",
       "      <td>0</td>\n",
       "    </tr>\n",
       "    <tr>\n",
       "      <th>100004</th>\n",
       "      <td>0</td>\n",
       "      <td>0</td>\n",
       "      <td>0.729567</td>\n",
       "      <td>2</td>\n",
       "      <td>1</td>\n",
       "      <td>0.555912</td>\n",
       "      <td>1</td>\n",
       "      <td>0</td>\n",
       "    </tr>\n",
       "    <tr>\n",
       "      <th>100006</th>\n",
       "      <td>1</td>\n",
       "      <td>1</td>\n",
       "      <td>0.535276</td>\n",
       "      <td>2</td>\n",
       "      <td>1</td>\n",
       "      <td>0.650442</td>\n",
       "      <td>1</td>\n",
       "      <td>0</td>\n",
       "    </tr>\n",
       "    <tr>\n",
       "      <th>100007</th>\n",
       "      <td>0</td>\n",
       "      <td>0</td>\n",
       "      <td>0.535276</td>\n",
       "      <td>2</td>\n",
       "      <td>1</td>\n",
       "      <td>0.322738</td>\n",
       "      <td>1</td>\n",
       "      <td>0</td>\n",
       "    </tr>\n",
       "  </tbody>\n",
       "</table>\n",
       "</div>"
      ],
      "text/plain": [
       "        GENDER  BUSINESS_TYPE      EXT3  REGION_RATING  UNACCOMPANIED  \\\n",
       "ID                                                                      \n",
       "100002       0              1  0.139376              2              1   \n",
       "100003       1              0  0.535276              1              0   \n",
       "100004       0              0  0.729567              2              1   \n",
       "100006       1              1  0.535276              2              1   \n",
       "100007       0              0  0.535276              2              1   \n",
       "\n",
       "            EXT2  INCOME_TYPE  Target  \n",
       "ID                                     \n",
       "100002  0.262949            1       1  \n",
       "100003  0.622246            0       0  \n",
       "100004  0.555912            1       0  \n",
       "100006  0.650442            1       0  \n",
       "100007  0.322738            1       0  "
      ]
     },
     "execution_count": 34,
     "metadata": {},
     "output_type": "execute_result"
    }
   ],
   "source": [
    "#Importation des données\n",
    "path = \"/Users/adpro/Desktop/Scoring_Model/data_api.csv\"\n",
    "df = pd.read_csv(path)\n",
    "df = df.set_index(\"ID\")\n",
    "df.head()"
   ]
  },
  {
   "cell_type": "code",
   "execution_count": 35,
   "metadata": {},
   "outputs": [],
   "source": [
    "#pré-proc des données\n",
    "X=df.iloc[:,:-1]\n",
    "y=df.iloc[:,-1]\n",
    "\n",
    "#split \n",
    "X_train, X_test, y_train, y_test = train_test_split(X, y, test_size=0.2, random_state=42, stratify=y)\n",
    "#resampling SMOTE\n",
    "sm = SMOTE(random_state=42)\n",
    "X_res, y_res = sm.fit_resample(X_train, y_train)"
   ]
  },
  {
   "cell_type": "code",
   "execution_count": 37,
   "metadata": {},
   "outputs": [],
   "source": [
    "#modele\n",
    "clf = LGBMClassifier(application='binary',\n",
    "                         is_unbalance=True,\n",
    "                         metric='auc',\n",
    "                         max_depth=30,\n",
    "                         n_estimators=2000,\n",
    "                         num_leaves=35,\n",
    "                         subsample=0.1)"
   ]
  },
  {
   "cell_type": "code",
   "execution_count": 38,
   "metadata": {},
   "outputs": [],
   "source": [
    "#Fiting\n",
    "clf.fit(X_res,y_res)\n",
    "#prediction\n",
    "y_pred=clf.predict(X_test)"
   ]
  },
  {
   "cell_type": "code",
   "execution_count": 39,
   "metadata": {},
   "outputs": [
    {
     "data": {
      "text/plain": [
       "0.7206666666666667"
      ]
     },
     "execution_count": 39,
     "metadata": {},
     "output_type": "execute_result"
    }
   ],
   "source": [
    "score=accuracy_score(y_test,y_pred)\n",
    "score"
   ]
  },
  {
   "cell_type": "code",
   "execution_count": 82,
   "metadata": {},
   "outputs": [],
   "source": [
    "##Enregistrement du modèle avec Pickle\n",
    "import pickle5 as pickle\n",
    "pickle_out = open(\"clf.pkl\",\"wb\")\n",
    "pickle.dump(clf, pickle_out)\n",
    "pickle_out.close()"
   ]
  },
  {
   "cell_type": "code",
   "execution_count": 6,
   "metadata": {},
   "outputs": [
    {
     "name": "stdout",
     "output_type": "stream",
     "text": [
      "Erreur lors de la requête vers l'API, code de réponse : 500\n"
     ]
    }
   ],
   "source": [
    "#test de requete api version fast api: \n",
    "# import requests\n",
    "url = \"http://127.0.0.1:8000/predict/{customer_id}\"\n",
    "customer_id = 100002\n",
    "\n",
    "response = requests.get(url.format(customer_id=customer_id))\n",
    "\n",
    "if response.status_code == 200:\n",
    "    result = response.json()\n",
    "    print(result)\n",
    "else:\n",
    "    print(\"Erreur lors de la requête vers l'API, code de réponse :\", response.status_code)\n",
    "    "
   ]
  },
  {
   "cell_type": "code",
   "execution_count": null,
   "metadata": {},
   "outputs": [],
   "source": [
    "#test de requete api version flask : \n",
    "# import requests\n",
    "url = \"http://127.0.0.1:5000/predict/{customer_id}\"\n",
    "customer_id = 100002\n",
    "\n",
    "response = requests.get(url.format(customer_id=customer_id))\n",
    "\n",
    "if response.status_code == 200:\n",
    "    result = response.json()\n",
    "    print(result)\n",
    "else:\n",
    "    print(\"Erreur lors de la requête vers l'API, code de réponse :\", response.status_code)\n",
    "    "
   ]
  },
  {
   "cell_type": "code",
   "execution_count": 77,
   "metadata": {},
   "outputs": [
    {
     "data": {
      "text/plain": [
       "'4.0'"
      ]
     },
     "execution_count": 77,
     "metadata": {},
     "output_type": "execute_result"
    }
   ],
   "source": [
    "pickle.format_version"
   ]
  },
  {
   "cell_type": "code",
   "execution_count": null,
   "metadata": {},
   "outputs": [],
   "source": []
  }
 ],
 "metadata": {
  "kernelspec": {
   "display_name": "base",
   "language": "python",
   "name": "python3"
  },
  "language_info": {
   "codemirror_mode": {
    "name": "ipython",
    "version": 3
   },
   "file_extension": ".py",
   "mimetype": "text/x-python",
   "name": "python",
   "nbconvert_exporter": "python",
   "pygments_lexer": "ipython3",
   "version": "3.8.0"
  },
  "orig_nbformat": 4,
  "vscode": {
   "interpreter": {
    "hash": "40d3a090f54c6569ab1632332b64b2c03c39dcf918b08424e98f38b5ae0af88f"
   }
  }
 },
 "nbformat": 4,
 "nbformat_minor": 2
}

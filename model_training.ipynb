{
 "cells": [
  {
   "cell_type": "code",
   "execution_count": 9,
   "metadata": {},
   "outputs": [],
   "source": [
    "#Entrainement du modèle à déployer\n",
    "#1.Importation des librairies\n",
    "import pandas as pd \n",
    "import numpy as np \n",
    "\n",
    "import sklearn\n",
    "### Train Test Split\n",
    "from sklearn.model_selection import train_test_split\n",
    "#Gestion unbalanced\n",
    "import imblearn\n",
    "from imblearn.over_sampling import SMOTE\n",
    "#Classifier\n",
    "import lightgbm\n",
    "from lightgbm import LGBMClassifier\n",
    "\n",
    "### Check Accuracy\n",
    "from sklearn.metrics import accuracy_score"
   ]
  },
  {
   "cell_type": "code",
   "execution_count": 14,
   "metadata": {},
   "outputs": [
    {
     "data": {
      "text/html": [
       "<div>\n",
       "<style scoped>\n",
       "    .dataframe tbody tr th:only-of-type {\n",
       "        vertical-align: middle;\n",
       "    }\n",
       "\n",
       "    .dataframe tbody tr th {\n",
       "        vertical-align: top;\n",
       "    }\n",
       "\n",
       "    .dataframe thead th {\n",
       "        text-align: right;\n",
       "    }\n",
       "</style>\n",
       "<table border=\"1\" class=\"dataframe\">\n",
       "  <thead>\n",
       "    <tr style=\"text-align: right;\">\n",
       "      <th></th>\n",
       "      <th>EXT_SOURCE_2</th>\n",
       "      <th>DAYS_REGISTRATION</th>\n",
       "      <th>EXT_SOURCE_3</th>\n",
       "      <th>DAYS_ID_PUBLISH</th>\n",
       "      <th>DAYS_BIRTH</th>\n",
       "      <th>DAYS_LAST_PHONE_CHANGE</th>\n",
       "      <th>PAYMENT_RATE</th>\n",
       "      <th>REGION_POPULATION_RELATIVE</th>\n",
       "      <th>Target</th>\n",
       "    </tr>\n",
       "    <tr>\n",
       "      <th>ID</th>\n",
       "      <th></th>\n",
       "      <th></th>\n",
       "      <th></th>\n",
       "      <th></th>\n",
       "      <th></th>\n",
       "      <th></th>\n",
       "      <th></th>\n",
       "      <th></th>\n",
       "      <th></th>\n",
       "    </tr>\n",
       "  </thead>\n",
       "  <tbody>\n",
       "    <tr>\n",
       "      <th>100002</th>\n",
       "      <td>0.262949</td>\n",
       "      <td>-3648.0</td>\n",
       "      <td>0.139376</td>\n",
       "      <td>-2120</td>\n",
       "      <td>-9461</td>\n",
       "      <td>-1134.0</td>\n",
       "      <td>0.060749</td>\n",
       "      <td>0.018801</td>\n",
       "      <td>1</td>\n",
       "    </tr>\n",
       "    <tr>\n",
       "      <th>100003</th>\n",
       "      <td>0.622246</td>\n",
       "      <td>-1186.0</td>\n",
       "      <td>0.535276</td>\n",
       "      <td>-291</td>\n",
       "      <td>-16765</td>\n",
       "      <td>-828.0</td>\n",
       "      <td>0.027598</td>\n",
       "      <td>0.003541</td>\n",
       "      <td>0</td>\n",
       "    </tr>\n",
       "    <tr>\n",
       "      <th>100004</th>\n",
       "      <td>0.555912</td>\n",
       "      <td>-4260.0</td>\n",
       "      <td>0.729567</td>\n",
       "      <td>-2531</td>\n",
       "      <td>-19046</td>\n",
       "      <td>-815.0</td>\n",
       "      <td>0.050000</td>\n",
       "      <td>0.010032</td>\n",
       "      <td>0</td>\n",
       "    </tr>\n",
       "    <tr>\n",
       "      <th>100006</th>\n",
       "      <td>0.650442</td>\n",
       "      <td>-9833.0</td>\n",
       "      <td>0.535276</td>\n",
       "      <td>-2437</td>\n",
       "      <td>-19005</td>\n",
       "      <td>-617.0</td>\n",
       "      <td>0.094941</td>\n",
       "      <td>0.008019</td>\n",
       "      <td>0</td>\n",
       "    </tr>\n",
       "    <tr>\n",
       "      <th>100007</th>\n",
       "      <td>0.322738</td>\n",
       "      <td>-4311.0</td>\n",
       "      <td>0.535276</td>\n",
       "      <td>-3458</td>\n",
       "      <td>-19932</td>\n",
       "      <td>-1106.0</td>\n",
       "      <td>0.042623</td>\n",
       "      <td>0.028663</td>\n",
       "      <td>0</td>\n",
       "    </tr>\n",
       "  </tbody>\n",
       "</table>\n",
       "</div>"
      ],
      "text/plain": [
       "        EXT_SOURCE_2  DAYS_REGISTRATION  EXT_SOURCE_3  DAYS_ID_PUBLISH  \\\n",
       "ID                                                                       \n",
       "100002      0.262949            -3648.0      0.139376            -2120   \n",
       "100003      0.622246            -1186.0      0.535276             -291   \n",
       "100004      0.555912            -4260.0      0.729567            -2531   \n",
       "100006      0.650442            -9833.0      0.535276            -2437   \n",
       "100007      0.322738            -4311.0      0.535276            -3458   \n",
       "\n",
       "        DAYS_BIRTH  DAYS_LAST_PHONE_CHANGE  PAYMENT_RATE  \\\n",
       "ID                                                         \n",
       "100002       -9461                 -1134.0      0.060749   \n",
       "100003      -16765                  -828.0      0.027598   \n",
       "100004      -19046                  -815.0      0.050000   \n",
       "100006      -19005                  -617.0      0.094941   \n",
       "100007      -19932                 -1106.0      0.042623   \n",
       "\n",
       "        REGION_POPULATION_RELATIVE  Target  \n",
       "ID                                          \n",
       "100002                    0.018801       1  \n",
       "100003                    0.003541       0  \n",
       "100004                    0.010032       0  \n",
       "100006                    0.008019       0  \n",
       "100007                    0.028663       0  "
      ]
     },
     "execution_count": 14,
     "metadata": {},
     "output_type": "execute_result"
    }
   ],
   "source": [
    "#Importation des données\n",
    "path = \"/Users/adpro/Desktop/Scoring_Model/data_api.csv\"\n",
    "df = pd.read_csv(path)\n",
    "df = df.set_index(\"ID\")\n",
    "df.head()"
   ]
  },
  {
   "cell_type": "code",
   "execution_count": 15,
   "metadata": {},
   "outputs": [],
   "source": [
    "#pré-proc des données\n",
    "X=df.iloc[:,:-1]\n",
    "y=df.iloc[:,-1]\n",
    "\n",
    "#split \n",
    "X_train, X_test, y_train, y_test = train_test_split(X, y, test_size=0.2, random_state=42, stratify=y)\n",
    "#resampling SMOTE\n",
    "sm = SMOTE(random_state=42)\n",
    "X_res, y_res = sm.fit_resample(X_train, y_train)"
   ]
  },
  {
   "cell_type": "code",
   "execution_count": 16,
   "metadata": {},
   "outputs": [],
   "source": [
    "#modele\n",
    "clf = LGBMClassifier(application='binary',\n",
    "                         is_unbalance=True,\n",
    "                         metric='auc',\n",
    "                         max_depth=30,\n",
    "                         n_estimators=4000,\n",
    "                         num_leaves=40,\n",
    "                         subsample=0.1)"
   ]
  },
  {
   "cell_type": "code",
   "execution_count": 17,
   "metadata": {},
   "outputs": [],
   "source": [
    "#Fiting\n",
    "clf.fit(X_res,y_res)\n",
    "#prediction\n",
    "y_pred=clf.predict(X_test)"
   ]
  },
  {
   "cell_type": "code",
   "execution_count": 18,
   "metadata": {},
   "outputs": [
    {
     "data": {
      "text/plain": [
       "0.9055"
      ]
     },
     "execution_count": 18,
     "metadata": {},
     "output_type": "execute_result"
    }
   ],
   "source": [
    "score=accuracy_score(y_test,y_pred)\n",
    "score"
   ]
  },
  {
   "cell_type": "code",
   "execution_count": 19,
   "metadata": {},
   "outputs": [],
   "source": [
    "### Create a Pickle file using serialization \n",
    "import pickle\n",
    "pickle_out = open(\"clf.pkl\",\"wb\")\n",
    "pickle.dump(clf, pickle_out)\n",
    "pickle_out.close()"
   ]
  },
  {
   "cell_type": "code",
   "execution_count": 22,
   "metadata": {},
   "outputs": [
    {
     "name": "stdout",
     "output_type": "stream",
     "text": [
      "b'{\"prediction\":\"Client non solvable\",\"probabilite\":0.0}'\n"
     ]
    }
   ],
   "source": [
    "import requests\n",
    "client_test = {\n",
    "    \"EXT_SOURCE_2\": 0.6222457752555098,\n",
    "    \"DAYS_REGISTRATION\": -1186.0,\n",
    "    \"EXT_SOURCE_3\": 0.5352762504724826,\n",
    "    \"DAYS_ID_PUBLISH\": -291,\n",
    "    \"DAYS_BIRTH\": -16765,\n",
    "    \"DAYS_LAST_PHONE_CHANGE\": -828.0,\n",
    "    \"PAYMENT_RATE\": 0.0275983231574736,\n",
    "    \"REGION_POPULATION_RELATIVE\": 0.0035409999999999\n",
    "    }\n",
    "response = requests.post('http://127.0.0.1:8000/predict',json=client_test)\n",
    "print(response.content)"
   ]
  },
  {
   "cell_type": "code",
   "execution_count": null,
   "metadata": {},
   "outputs": [],
   "source": []
  }
 ],
 "metadata": {
  "kernelspec": {
   "display_name": "base",
   "language": "python",
   "name": "python3"
  },
  "language_info": {
   "codemirror_mode": {
    "name": "ipython",
    "version": 3
   },
   "file_extension": ".py",
   "mimetype": "text/x-python",
   "name": "python",
   "nbconvert_exporter": "python",
   "pygments_lexer": "ipython3",
   "version": "3.8.0"
  },
  "orig_nbformat": 4,
  "vscode": {
   "interpreter": {
    "hash": "40d3a090f54c6569ab1632332b64b2c03c39dcf918b08424e98f38b5ae0af88f"
   }
  }
 },
 "nbformat": 4,
 "nbformat_minor": 2
}
